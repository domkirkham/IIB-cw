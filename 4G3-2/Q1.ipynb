{
 "cells": [
  {
   "cell_type": "code",
   "execution_count": 2,
   "metadata": {},
   "outputs": [],
   "source": [
    "from hopfield import Network\n",
    "%load_ext autoreload\n",
    "%autoreload 2"
   ]
  },
  {
   "cell_type": "code",
   "execution_count": 3,
   "metadata": {},
   "outputs": [],
   "source": [
    "import numpy as np\n",
    "import matplotlib.pyplot as plt\n",
    "import seaborn as sns\n",
    "sns.set()\n",
    "sns.set_context(\"poster\")"
   ]
  },
  {
   "cell_type": "code",
   "execution_count": 51,
   "metadata": {},
   "outputs": [],
   "source": [
    "hop = Network(N=100)"
   ]
  },
  {
   "cell_type": "code",
   "execution_count": 10,
   "metadata": {},
   "outputs": [
    {
     "name": "stderr",
     "output_type": "stream",
     "text": [
      "100%|██████████| 100/100 [00:00<00:00, 1228.31it/s]"
     ]
    },
    {
     "name": "stdout",
     "output_type": "stream",
     "text": [
      "Forming weight matrix...\n",
      "Testing memory recall...\n",
      "Average error percentage: 32.96\n",
      "Theoretical error percentage: 23.975006109347667\n"
     ]
    },
    {
     "name": "stderr",
     "output_type": "stream",
     "text": [
      "\n"
     ]
    },
    {
     "data": {
      "text/plain": [
       "(0.3296, 0.23975006109347669)"
      ]
     },
     "execution_count": 10,
     "metadata": {},
     "output_type": "execute_result"
    }
   ],
   "source": [
    "hop.simulate(M=100, k=1, noise_level=0.00)"
   ]
  },
  {
   "cell_type": "code",
   "execution_count": 47,
   "metadata": {
    "scrolled": true
   },
   "outputs": [
    {
     "name": "stderr",
     "output_type": "stream",
     "text": [
      "100%|██████████| 1/1 [00:00<00:00, 86.42it/s]\n",
      "100%|██████████| 2/2 [00:00<00:00, 66.01it/s]\n",
      "  0%|          | 0/5 [00:00<?, ?it/s]"
     ]
    },
    {
     "name": "stdout",
     "output_type": "stream",
     "text": [
      "Forming weight matrix...\n",
      "Testing memory recall...\n",
      "Average error percentage: 0.0\n",
      "Theoretical error percentage: 0.0\n",
      "Forming weight matrix...\n",
      "Testing memory recall...\n",
      "Average error percentage: 0.0\n",
      "Theoretical error percentage: 6.10564293900542e-109\n",
      "Forming weight matrix...\n",
      "Testing memory recall...\n"
     ]
    },
    {
     "name": "stderr",
     "output_type": "stream",
     "text": [
      "100%|██████████| 5/5 [00:00<00:00, 35.10it/s]\n",
      "100%|██████████| 10/10 [00:00<00:00, 141.15it/s]\n"
     ]
    },
    {
     "name": "stdout",
     "output_type": "stream",
     "text": [
      "Average error percentage: 0.0\n",
      "Theoretical error percentage: 2.7101907507775683e-27\n",
      "Forming weight matrix...\n",
      "Testing memory recall...\n",
      "Average error percentage: 0.0\n",
      "Theoretical error percentage: 4.672950902017946e-12\n",
      "Forming weight matrix...\n"
     ]
    },
    {
     "name": "stderr",
     "output_type": "stream",
     "text": [
      "100%|██████████| 20/20 [00:00<00:00, 159.26it/s]"
     ]
    },
    {
     "name": "stdout",
     "output_type": "stream",
     "text": [
      "Testing memory recall...\n",
      "Average error percentage: 0.0\n",
      "Theoretical error percentage: 1.4694305617599723e-05\n",
      "Forming weight matrix...\n"
     ]
    },
    {
     "name": "stderr",
     "output_type": "stream",
     "text": [
      "\n",
      " 32%|███▏      | 16/50 [00:00<00:00, 156.78it/s]"
     ]
    },
    {
     "name": "stdout",
     "output_type": "stream",
     "text": [
      "Testing memory recall...\n"
     ]
    },
    {
     "name": "stderr",
     "output_type": "stream",
     "text": [
      "100%|██████████| 50/50 [00:00<00:00, 148.62it/s]\n"
     ]
    },
    {
     "name": "stdout",
     "output_type": "stream",
     "text": [
      "Average error percentage: 0.05\n",
      "Theoretical error percentage: 0.07045385198397991\n",
      "Forming weight matrix...\n"
     ]
    },
    {
     "name": "stderr",
     "output_type": "stream",
     "text": [
      " 17%|█▋        | 17/100 [00:00<00:00, 163.41it/s]"
     ]
    },
    {
     "name": "stdout",
     "output_type": "stream",
     "text": [
      "Testing memory recall...\n"
     ]
    },
    {
     "name": "stderr",
     "output_type": "stream",
     "text": [
      "100%|██████████| 100/100 [00:00<00:00, 162.77it/s]\n"
     ]
    },
    {
     "name": "stdout",
     "output_type": "stream",
     "text": [
      "Average error percentage: 1.064\n",
      "Theoretical error percentage: 1.2345314347013703\n",
      "Forming weight matrix...\n"
     ]
    },
    {
     "name": "stderr",
     "output_type": "stream",
     "text": [
      "  8%|▊         | 17/200 [00:00<00:01, 165.66it/s]"
     ]
    },
    {
     "name": "stdout",
     "output_type": "stream",
     "text": [
      "Testing memory recall...\n"
     ]
    },
    {
     "name": "stderr",
     "output_type": "stream",
     "text": [
      "100%|██████████| 200/200 [00:01<00:00, 162.85it/s]\n"
     ]
    },
    {
     "name": "stdout",
     "output_type": "stream",
     "text": [
      "Average error percentage: 5.7045\n",
      "Theoretical error percentage: 5.656116224386065\n",
      "Forming weight matrix...\n"
     ]
    },
    {
     "name": "stderr",
     "output_type": "stream",
     "text": [
      "  3%|▎         | 16/500 [00:00<00:03, 152.52it/s]"
     ]
    },
    {
     "name": "stdout",
     "output_type": "stream",
     "text": [
      "Testing memory recall...\n"
     ]
    },
    {
     "name": "stderr",
     "output_type": "stream",
     "text": [
      "100%|██████████| 500/500 [00:03<00:00, 161.71it/s]\n"
     ]
    },
    {
     "name": "stdout",
     "output_type": "stream",
     "text": [
      "Average error percentage: 15.2746\n",
      "Theoretical error percentage: 15.853408682216624\n",
      "Forming weight matrix...\n"
     ]
    },
    {
     "name": "stderr",
     "output_type": "stream",
     "text": [
      "  2%|▏         | 16/1000 [00:00<00:06, 155.07it/s]"
     ]
    },
    {
     "name": "stdout",
     "output_type": "stream",
     "text": [
      "Testing memory recall...\n"
     ]
    },
    {
     "name": "stderr",
     "output_type": "stream",
     "text": [
      "100%|██████████| 1000/1000 [00:06<00:00, 162.21it/s]\n",
      "100%|██████████| 1/1 [00:00<00:00, 119.20it/s]\n",
      "100%|██████████| 2/2 [00:00<00:00, 129.86it/s]\n",
      "100%|██████████| 5/5 [00:00<00:00, 144.34it/s]\n"
     ]
    },
    {
     "name": "stdout",
     "output_type": "stream",
     "text": [
      "Average error percentage: 24.0622\n",
      "Theoretical error percentage: 23.975006109567587\n",
      "Forming weight matrix...\n",
      "Testing memory recall...\n",
      "Average error percentage: 0.0\n",
      "Theoretical error percentage: 0.0\n",
      "Forming weight matrix...\n",
      "Testing memory recall...\n",
      "Average error percentage: 0.0\n",
      "Theoretical error percentage: 6.10564293900542e-109\n",
      "Forming weight matrix...\n",
      "Testing memory recall...\n",
      "Average error percentage: 0.0\n",
      "Theoretical error percentage: 2.7101907507775683e-27\n",
      "Forming weight matrix...\n",
      "Testing memory recall...\n"
     ]
    },
    {
     "name": "stderr",
     "output_type": "stream",
     "text": [
      "100%|██████████| 10/10 [00:00<00:00, 137.81it/s]\n",
      "  0%|          | 0/20 [00:00<?, ?it/s]"
     ]
    },
    {
     "name": "stdout",
     "output_type": "stream",
     "text": [
      "Average error percentage: 0.0\n",
      "Theoretical error percentage: 4.672950902017946e-12\n",
      "Forming weight matrix...\n",
      "Testing memory recall...\n"
     ]
    },
    {
     "name": "stderr",
     "output_type": "stream",
     "text": [
      "100%|██████████| 20/20 [00:00<00:00, 156.21it/s]\n"
     ]
    },
    {
     "name": "stdout",
     "output_type": "stream",
     "text": [
      "Average error percentage: 0.0\n",
      "Theoretical error percentage: 1.4694305617599723e-05\n",
      "Forming weight matrix...\n"
     ]
    },
    {
     "name": "stderr",
     "output_type": "stream",
     "text": [
      " 30%|███       | 15/50 [00:00<00:00, 139.53it/s]"
     ]
    },
    {
     "name": "stdout",
     "output_type": "stream",
     "text": [
      "Testing memory recall...\n"
     ]
    },
    {
     "name": "stderr",
     "output_type": "stream",
     "text": [
      "100%|██████████| 50/50 [00:00<00:00, 127.12it/s]\n"
     ]
    },
    {
     "name": "stdout",
     "output_type": "stream",
     "text": [
      "Average error percentage: 0.04\n",
      "Theoretical error percentage: 0.07045385198397991\n",
      "Forming weight matrix...\n"
     ]
    },
    {
     "name": "stderr",
     "output_type": "stream",
     "text": [
      " 15%|█▌        | 15/100 [00:00<00:00, 144.06it/s]"
     ]
    },
    {
     "name": "stdout",
     "output_type": "stream",
     "text": [
      "Testing memory recall...\n"
     ]
    },
    {
     "name": "stderr",
     "output_type": "stream",
     "text": [
      "100%|██████████| 100/100 [00:00<00:00, 141.40it/s]\n"
     ]
    },
    {
     "name": "stdout",
     "output_type": "stream",
     "text": [
      "Average error percentage: 1.291\n",
      "Theoretical error percentage: 1.2345314347013703\n",
      "Forming weight matrix...\n"
     ]
    },
    {
     "name": "stderr",
     "output_type": "stream",
     "text": [
      "  8%|▊         | 17/200 [00:00<00:01, 166.04it/s]"
     ]
    },
    {
     "name": "stdout",
     "output_type": "stream",
     "text": [
      "Testing memory recall...\n"
     ]
    },
    {
     "name": "stderr",
     "output_type": "stream",
     "text": [
      "100%|██████████| 200/200 [00:01<00:00, 166.28it/s]\n"
     ]
    },
    {
     "name": "stdout",
     "output_type": "stream",
     "text": [
      "Average error percentage: 5.928\n",
      "Theoretical error percentage: 5.656116224386065\n",
      "Forming weight matrix...\n"
     ]
    },
    {
     "name": "stderr",
     "output_type": "stream",
     "text": [
      "  3%|▎         | 17/500 [00:00<00:02, 165.47it/s]"
     ]
    },
    {
     "name": "stdout",
     "output_type": "stream",
     "text": [
      "Testing memory recall...\n"
     ]
    },
    {
     "name": "stderr",
     "output_type": "stream",
     "text": [
      "100%|██████████| 500/500 [00:03<00:00, 163.37it/s]\n"
     ]
    },
    {
     "name": "stdout",
     "output_type": "stream",
     "text": [
      "Average error percentage: 16.1134\n",
      "Theoretical error percentage: 15.853408682216624\n",
      "Forming weight matrix...\n"
     ]
    },
    {
     "name": "stderr",
     "output_type": "stream",
     "text": [
      "  1%|▏         | 14/1000 [00:00<00:07, 131.59it/s]"
     ]
    },
    {
     "name": "stdout",
     "output_type": "stream",
     "text": [
      "Testing memory recall...\n"
     ]
    },
    {
     "name": "stderr",
     "output_type": "stream",
     "text": [
      "100%|██████████| 1000/1000 [00:06<00:00, 164.44it/s]\n",
      "100%|██████████| 1/1 [00:00<00:00, 131.97it/s]\n",
      "100%|██████████| 2/2 [00:00<00:00, 150.66it/s]\n",
      "100%|██████████| 5/5 [00:00<00:00, 149.08it/s]\n",
      "  0%|          | 0/10 [00:00<?, ?it/s]"
     ]
    },
    {
     "name": "stdout",
     "output_type": "stream",
     "text": [
      "Average error percentage: 23.8198\n",
      "Theoretical error percentage: 23.975006109567587\n",
      "Forming weight matrix...\n",
      "Testing memory recall...\n",
      "Average error percentage: 0.0\n",
      "Theoretical error percentage: 0.0\n",
      "Forming weight matrix...\n",
      "Testing memory recall...\n",
      "Average error percentage: 0.0\n",
      "Theoretical error percentage: 6.10564293900542e-109\n",
      "Forming weight matrix...\n",
      "Testing memory recall...\n",
      "Average error percentage: 0.0\n",
      "Theoretical error percentage: 2.7101907507775683e-27\n",
      "Forming weight matrix...\n",
      "Testing memory recall...\n"
     ]
    },
    {
     "name": "stderr",
     "output_type": "stream",
     "text": [
      "100%|██████████| 10/10 [00:00<00:00, 156.23it/s]\n",
      "  0%|          | 0/20 [00:00<?, ?it/s]"
     ]
    },
    {
     "name": "stdout",
     "output_type": "stream",
     "text": [
      "Average error percentage: 0.0\n",
      "Theoretical error percentage: 4.672950902017946e-12\n",
      "Forming weight matrix...\n",
      "Testing memory recall...\n"
     ]
    },
    {
     "name": "stderr",
     "output_type": "stream",
     "text": [
      "100%|██████████| 20/20 [00:00<00:00, 147.02it/s]\n"
     ]
    },
    {
     "name": "stdout",
     "output_type": "stream",
     "text": [
      "Average error percentage: 0.0\n",
      "Theoretical error percentage: 1.4694305617599723e-05\n",
      "Forming weight matrix...\n"
     ]
    },
    {
     "name": "stderr",
     "output_type": "stream",
     "text": [
      " 32%|███▏      | 16/50 [00:00<00:00, 152.06it/s]"
     ]
    },
    {
     "name": "stdout",
     "output_type": "stream",
     "text": [
      "Testing memory recall...\n"
     ]
    },
    {
     "name": "stderr",
     "output_type": "stream",
     "text": [
      "100%|██████████| 50/50 [00:00<00:00, 158.14it/s]\n"
     ]
    },
    {
     "name": "stdout",
     "output_type": "stream",
     "text": [
      "Average error percentage: 0.018\n",
      "Theoretical error percentage: 0.07045385198397991\n",
      "Forming weight matrix...\n"
     ]
    },
    {
     "name": "stderr",
     "output_type": "stream",
     "text": [
      " 16%|█▌        | 16/100 [00:00<00:00, 159.21it/s]"
     ]
    },
    {
     "name": "stdout",
     "output_type": "stream",
     "text": [
      "Testing memory recall...\n"
     ]
    },
    {
     "name": "stderr",
     "output_type": "stream",
     "text": [
      "100%|██████████| 100/100 [00:00<00:00, 165.96it/s]\n"
     ]
    },
    {
     "name": "stdout",
     "output_type": "stream",
     "text": [
      "Average error percentage: 1.391\n",
      "Theoretical error percentage: 1.2345314347013703\n",
      "Forming weight matrix...\n"
     ]
    },
    {
     "name": "stderr",
     "output_type": "stream",
     "text": [
      "  8%|▊         | 17/200 [00:00<00:01, 166.65it/s]"
     ]
    },
    {
     "name": "stdout",
     "output_type": "stream",
     "text": [
      "Testing memory recall...\n"
     ]
    },
    {
     "name": "stderr",
     "output_type": "stream",
     "text": [
      "100%|██████████| 200/200 [00:01<00:00, 164.69it/s]\n"
     ]
    },
    {
     "name": "stdout",
     "output_type": "stream",
     "text": [
      "Average error percentage: 6.0025\n",
      "Theoretical error percentage: 5.656116224386065\n",
      "Forming weight matrix...\n"
     ]
    },
    {
     "name": "stderr",
     "output_type": "stream",
     "text": [
      "  4%|▎         | 18/500 [00:00<00:02, 171.29it/s]"
     ]
    },
    {
     "name": "stdout",
     "output_type": "stream",
     "text": [
      "Testing memory recall...\n"
     ]
    },
    {
     "name": "stderr",
     "output_type": "stream",
     "text": [
      "100%|██████████| 500/500 [00:03<00:00, 163.47it/s]\n"
     ]
    },
    {
     "name": "stdout",
     "output_type": "stream",
     "text": [
      "Average error percentage: 15.8052\n",
      "Theoretical error percentage: 15.853408682216624\n",
      "Forming weight matrix...\n"
     ]
    },
    {
     "name": "stderr",
     "output_type": "stream",
     "text": [
      "  2%|▏         | 16/1000 [00:00<00:06, 157.40it/s]"
     ]
    },
    {
     "name": "stdout",
     "output_type": "stream",
     "text": [
      "Testing memory recall...\n"
     ]
    },
    {
     "name": "stderr",
     "output_type": "stream",
     "text": [
      "100%|██████████| 1000/1000 [00:06<00:00, 164.33it/s]\n",
      "100%|██████████| 1/1 [00:00<00:00, 109.41it/s]\n",
      "100%|██████████| 2/2 [00:00<00:00, 128.71it/s]\n",
      "100%|██████████| 5/5 [00:00<00:00, 148.66it/s]\n",
      "  0%|          | 0/10 [00:00<?, ?it/s]"
     ]
    },
    {
     "name": "stdout",
     "output_type": "stream",
     "text": [
      "Average error percentage: 23.5929\n",
      "Theoretical error percentage: 23.975006109567587\n",
      "Forming weight matrix...\n",
      "Testing memory recall...\n",
      "Average error percentage: 0.0\n",
      "Theoretical error percentage: 0.0\n",
      "Forming weight matrix...\n",
      "Testing memory recall...\n",
      "Average error percentage: 0.0\n",
      "Theoretical error percentage: 6.10564293900542e-109\n",
      "Forming weight matrix...\n",
      "Testing memory recall...\n",
      "Average error percentage: 0.0\n",
      "Theoretical error percentage: 2.7101907507775683e-27\n",
      "Forming weight matrix...\n",
      "Testing memory recall...\n"
     ]
    },
    {
     "name": "stderr",
     "output_type": "stream",
     "text": [
      "100%|██████████| 10/10 [00:00<00:00, 151.26it/s]\n",
      "  0%|          | 0/20 [00:00<?, ?it/s]"
     ]
    },
    {
     "name": "stdout",
     "output_type": "stream",
     "text": [
      "Average error percentage: 0.0\n",
      "Theoretical error percentage: 4.672950902017946e-12\n",
      "Forming weight matrix...\n",
      "Testing memory recall...\n"
     ]
    },
    {
     "name": "stderr",
     "output_type": "stream",
     "text": [
      "100%|██████████| 20/20 [00:00<00:00, 158.00it/s]\n"
     ]
    },
    {
     "name": "stdout",
     "output_type": "stream",
     "text": [
      "Average error percentage: 0.0\n",
      "Theoretical error percentage: 1.4694305617599723e-05\n",
      "Forming weight matrix...\n"
     ]
    },
    {
     "name": "stderr",
     "output_type": "stream",
     "text": [
      " 34%|███▍      | 17/50 [00:00<00:00, 164.62it/s]"
     ]
    },
    {
     "name": "stdout",
     "output_type": "stream",
     "text": [
      "Testing memory recall...\n"
     ]
    },
    {
     "name": "stderr",
     "output_type": "stream",
     "text": [
      "100%|██████████| 50/50 [00:00<00:00, 157.77it/s]\n"
     ]
    },
    {
     "name": "stdout",
     "output_type": "stream",
     "text": [
      "Average error percentage: 0.048\n",
      "Theoretical error percentage: 0.07045385198397991\n",
      "Forming weight matrix...\n"
     ]
    },
    {
     "name": "stderr",
     "output_type": "stream",
     "text": [
      " 15%|█▌        | 15/100 [00:00<00:00, 141.89it/s]"
     ]
    },
    {
     "name": "stdout",
     "output_type": "stream",
     "text": [
      "Testing memory recall...\n"
     ]
    },
    {
     "name": "stderr",
     "output_type": "stream",
     "text": [
      "100%|██████████| 100/100 [00:00<00:00, 155.09it/s]\n"
     ]
    },
    {
     "name": "stdout",
     "output_type": "stream",
     "text": [
      "Average error percentage: 1.289\n",
      "Theoretical error percentage: 1.2345314347013703\n",
      "Forming weight matrix...\n"
     ]
    },
    {
     "name": "stderr",
     "output_type": "stream",
     "text": [
      "  8%|▊         | 17/200 [00:00<00:01, 162.86it/s]"
     ]
    },
    {
     "name": "stdout",
     "output_type": "stream",
     "text": [
      "Testing memory recall...\n"
     ]
    },
    {
     "name": "stderr",
     "output_type": "stream",
     "text": [
      "100%|██████████| 200/200 [00:01<00:00, 165.82it/s]\n"
     ]
    },
    {
     "name": "stdout",
     "output_type": "stream",
     "text": [
      "Average error percentage: 5.0095\n",
      "Theoretical error percentage: 5.656116224386065\n",
      "Forming weight matrix...\n"
     ]
    },
    {
     "name": "stderr",
     "output_type": "stream",
     "text": [
      "  3%|▎         | 17/500 [00:00<00:02, 167.80it/s]"
     ]
    },
    {
     "name": "stdout",
     "output_type": "stream",
     "text": [
      "Testing memory recall...\n"
     ]
    },
    {
     "name": "stderr",
     "output_type": "stream",
     "text": [
      "100%|██████████| 500/500 [00:03<00:00, 162.96it/s]\n"
     ]
    },
    {
     "name": "stdout",
     "output_type": "stream",
     "text": [
      "Average error percentage: 16.1532\n",
      "Theoretical error percentage: 15.853408682216624\n",
      "Forming weight matrix...\n"
     ]
    },
    {
     "name": "stderr",
     "output_type": "stream",
     "text": [
      "  2%|▏         | 17/1000 [00:00<00:05, 167.64it/s]"
     ]
    },
    {
     "name": "stdout",
     "output_type": "stream",
     "text": [
      "Testing memory recall...\n"
     ]
    },
    {
     "name": "stderr",
     "output_type": "stream",
     "text": [
      "100%|██████████| 1000/1000 [00:06<00:00, 162.89it/s]\n",
      "100%|██████████| 1/1 [00:00<00:00, 94.52it/s]\n",
      "100%|██████████| 2/2 [00:00<00:00, 100.57it/s]\n",
      "100%|██████████| 5/5 [00:00<00:00, 146.04it/s]\n"
     ]
    },
    {
     "name": "stdout",
     "output_type": "stream",
     "text": [
      "Average error percentage: 24.453\n",
      "Theoretical error percentage: 23.975006109567587\n",
      "Forming weight matrix...\n",
      "Testing memory recall...\n",
      "Average error percentage: 0.0\n",
      "Theoretical error percentage: 0.0\n",
      "Forming weight matrix...\n",
      "Testing memory recall...\n",
      "Average error percentage: 0.0\n",
      "Theoretical error percentage: 6.10564293900542e-109\n",
      "Forming weight matrix...\n",
      "Testing memory recall...\n",
      "Average error percentage: 0.0\n",
      "Theoretical error percentage: 2.7101907507775683e-27\n",
      "Forming weight matrix...\n",
      "Testing memory recall...\n"
     ]
    },
    {
     "name": "stderr",
     "output_type": "stream",
     "text": [
      "100%|██████████| 10/10 [00:00<00:00, 148.16it/s]\n",
      "  0%|          | 0/20 [00:00<?, ?it/s]"
     ]
    },
    {
     "name": "stdout",
     "output_type": "stream",
     "text": [
      "Average error percentage: 0.0\n",
      "Theoretical error percentage: 4.672950902017946e-12\n",
      "Forming weight matrix...\n",
      "Testing memory recall...\n"
     ]
    },
    {
     "name": "stderr",
     "output_type": "stream",
     "text": [
      "100%|██████████| 20/20 [00:00<00:00, 151.97it/s]\n"
     ]
    },
    {
     "name": "stdout",
     "output_type": "stream",
     "text": [
      "Average error percentage: 0.0\n",
      "Theoretical error percentage: 1.4694305617599723e-05\n",
      "Forming weight matrix...\n"
     ]
    },
    {
     "name": "stderr",
     "output_type": "stream",
     "text": [
      " 34%|███▍      | 17/50 [00:00<00:00, 165.64it/s]"
     ]
    },
    {
     "name": "stdout",
     "output_type": "stream",
     "text": [
      "Testing memory recall...\n"
     ]
    },
    {
     "name": "stderr",
     "output_type": "stream",
     "text": [
      "100%|██████████| 50/50 [00:00<00:00, 160.60it/s]\n"
     ]
    },
    {
     "name": "stdout",
     "output_type": "stream",
     "text": [
      "Average error percentage: 0.022\n",
      "Theoretical error percentage: 0.07045385198397991\n",
      "Forming weight matrix...\n"
     ]
    },
    {
     "name": "stderr",
     "output_type": "stream",
     "text": [
      " 15%|█▌        | 15/100 [00:00<00:00, 141.87it/s]"
     ]
    },
    {
     "name": "stdout",
     "output_type": "stream",
     "text": [
      "Testing memory recall...\n"
     ]
    },
    {
     "name": "stderr",
     "output_type": "stream",
     "text": [
      "100%|██████████| 100/100 [00:00<00:00, 155.70it/s]\n"
     ]
    },
    {
     "name": "stdout",
     "output_type": "stream",
     "text": [
      "Average error percentage: 1.506\n",
      "Theoretical error percentage: 1.2345314347013703\n",
      "Forming weight matrix...\n"
     ]
    },
    {
     "name": "stderr",
     "output_type": "stream",
     "text": [
      "  6%|▋         | 13/200 [00:00<00:01, 120.22it/s]"
     ]
    },
    {
     "name": "stdout",
     "output_type": "stream",
     "text": [
      "Testing memory recall...\n"
     ]
    },
    {
     "name": "stderr",
     "output_type": "stream",
     "text": [
      "100%|██████████| 200/200 [00:01<00:00, 131.99it/s]\n"
     ]
    },
    {
     "name": "stdout",
     "output_type": "stream",
     "text": [
      "Average error percentage: 4.837\n",
      "Theoretical error percentage: 5.656116224386065\n",
      "Forming weight matrix...\n"
     ]
    },
    {
     "name": "stderr",
     "output_type": "stream",
     "text": [
      "  3%|▎         | 17/500 [00:00<00:02, 162.74it/s]"
     ]
    },
    {
     "name": "stdout",
     "output_type": "stream",
     "text": [
      "Testing memory recall...\n"
     ]
    },
    {
     "name": "stderr",
     "output_type": "stream",
     "text": [
      "100%|██████████| 500/500 [00:03<00:00, 152.72it/s]\n"
     ]
    },
    {
     "name": "stdout",
     "output_type": "stream",
     "text": [
      "Average error percentage: 15.6732\n",
      "Theoretical error percentage: 15.853408682216624\n",
      "Forming weight matrix...\n"
     ]
    },
    {
     "name": "stderr",
     "output_type": "stream",
     "text": [
      "  2%|▏         | 17/1000 [00:00<00:05, 164.18it/s]"
     ]
    },
    {
     "name": "stdout",
     "output_type": "stream",
     "text": [
      "Testing memory recall...\n"
     ]
    },
    {
     "name": "stderr",
     "output_type": "stream",
     "text": [
      "100%|██████████| 1000/1000 [00:06<00:00, 164.85it/s]"
     ]
    },
    {
     "name": "stdout",
     "output_type": "stream",
     "text": [
      "Average error percentage: 23.3912\n",
      "Theoretical error percentage: 23.975006109567587\n"
     ]
    },
    {
     "name": "stderr",
     "output_type": "stream",
     "text": [
      "\n"
     ]
    }
   ],
   "source": [
    "error_vals_mem = np.zeros((5,10))\n",
    "error_vals_theo = np.zeros((5,10))\n",
    "for i in range(5):\n",
    "    for j, num in enumerate([1,2,5,10,20,50,100,200,500,1000]):\n",
    "        error_vals_mem[i,j], error_vals_theo[i,j] = hop.simulate(M=num, k=1, noise_level=0, error=True)"
   ]
  },
  {
   "cell_type": "markdown",
   "metadata": {},
   "source": [
    "When testing the error probability we need to not do the sequential update. It should be for each activity independent of all of the others, i.e. we should only change one of them and not update the whole state. Just one neuron and check error for that."
   ]
  },
  {
   "cell_type": "code",
   "execution_count": 48,
   "metadata": {},
   "outputs": [
    {
     "data": {
      "image/png": "[encoded data removed]",
      "text/plain": [
       "<Figure size 1440x720 with 1 Axes>"
      ]
     },
     "metadata": {},
     "output_type": "display_data"
    }
   ],
   "source": [
    "plt.figure(figsize=(20,10))\n",
    "plt.scatter([1,2,5,10,20,50,100,200,500,1000], error_vals_mem[0], marker='x', color='r')\n",
    "plt.scatter([1,2,5,10,20,50,100,200,500,1000], error_vals_mem[1], marker='x', color='r')\n",
    "plt.scatter([1,2,5,10,20,50,100,200,500,1000], error_vals_mem[2], marker='x', color='r')\n",
    "plt.scatter([1,2,5,10,20,50,100,200,500,1000], error_vals_mem[3], marker='x', color='r')\n",
    "plt.scatter([1,2,5,10,20,50,100,200,500,1000], error_vals_mem[4], marker='x', color='r')\n",
    "plt.plot([1,2,5,10,20,50,100,200,500,1000], np.mean(error_vals_theo, axis=0))\n",
    "plt.legend([\"Theoretical\", \"Experimental\"])\n",
    "plt.ylabel(\"Error prob.\")\n",
    "plt.xlabel(r\"$M$\")\n",
    "plt.xscale('log')\n",
    "plt.savefig(f\"error_mem_1000.png\", bbox_inches=\"tight\", dpi=300)"
   ]
  },
  {
   "cell_type": "code",
   "execution_count": 52,
   "metadata": {
    "scrolled": true
   },
   "outputs": [
    {
     "name": "stderr",
     "output_type": "stream",
     "text": [
      "100%|██████████| 1/1 [00:00<00:00, 139.11it/s]\n",
      "100%|██████████| 2/2 [00:00<00:00, 577.57it/s]\n",
      "100%|██████████| 5/5 [00:00<00:00, 619.36it/s]\n",
      "100%|██████████| 10/10 [00:00<00:00, 558.63it/s]\n",
      "100%|██████████| 20/20 [00:00<00:00, 916.68it/s]\n",
      "  0%|          | 0/50 [00:00<?, ?it/s]"
     ]
    },
    {
     "name": "stdout",
     "output_type": "stream",
     "text": [
      "Forming weight matrix...\n",
      "Testing memory recall...\n",
      "Average error percentage: 0.0\n",
      "Theoretical error percentage: 0.0\n",
      "Forming weight matrix...\n",
      "Testing memory recall...\n",
      "Average error percentage: 0.0\n",
      "Theoretical error percentage: 9.918588689536384e-11\n",
      "Forming weight matrix...\n",
      "Testing memory recall...\n",
      "Average error percentage: 0.0\n",
      "Theoretical error percentage: 0.021756040588239132\n",
      "Forming weight matrix...\n",
      "Testing memory recall...\n",
      "Average error percentage: 1.3\n",
      "Theoretical error percentage: 0.95082368723994\n",
      "Forming weight matrix...\n",
      "Testing memory recall...\n",
      "Average error percentage: 3.95\n",
      "Theoretical error percentage: 5.325473815162926\n",
      "Forming weight matrix...\n",
      "Testing memory recall...\n"
     ]
    },
    {
     "name": "stderr",
     "output_type": "stream",
     "text": [
      "100%|██████████| 50/50 [00:00<00:00, 790.86it/s]\n",
      " 27%|██▋       | 27/100 [00:00<00:00, 261.48it/s]"
     ]
    },
    {
     "name": "stdout",
     "output_type": "stream",
     "text": [
      "Average error percentage: 15.88\n",
      "Theoretical error percentage: 15.742697620578861\n",
      "Forming weight matrix...\n",
      "Testing memory recall...\n"
     ]
    },
    {
     "name": "stderr",
     "output_type": "stream",
     "text": [
      "100%|██████████| 100/100 [00:00<00:00, 464.18it/s]\n",
      " 42%|████▎     | 85/200 [00:00<00:00, 841.82it/s]"
     ]
    },
    {
     "name": "stdout",
     "output_type": "stream",
     "text": [
      "Average error percentage: 25.16\n",
      "Theoretical error percentage: 23.97500611156682\n",
      "Forming weight matrix...\n",
      "Testing memory recall...\n"
     ]
    },
    {
     "name": "stderr",
     "output_type": "stream",
     "text": [
      "100%|██████████| 200/200 [00:00<00:00, 871.74it/s]\n",
      " 22%|██▏       | 110/500 [00:00<00:00, 1096.86it/s]"
     ]
    },
    {
     "name": "stdout",
     "output_type": "stream",
     "text": [
      "Average error percentage: 31.845\n",
      "Theoretical error percentage: 30.898052808211517\n",
      "Forming weight matrix...\n",
      "Testing memory recall...\n"
     ]
    },
    {
     "name": "stderr",
     "output_type": "stream",
     "text": [
      "100%|██████████| 500/500 [00:00<00:00, 1219.60it/s]\n",
      " 12%|█▎        | 125/1000 [00:00<00:00, 1241.86it/s]"
     ]
    },
    {
     "name": "stdout",
     "output_type": "stream",
     "text": [
      "Average error percentage: 37.932\n",
      "Theoretical error percentage: 37.639685899007844\n",
      "Forming weight matrix...\n",
      "Testing memory recall...\n"
     ]
    },
    {
     "name": "stderr",
     "output_type": "stream",
     "text": [
      "100%|██████████| 1000/1000 [00:00<00:00, 1339.18it/s]\n",
      "100%|██████████| 1/1 [00:00<00:00, 409.48it/s]\n",
      "100%|██████████| 2/2 [00:00<00:00, 377.49it/s]\n",
      "100%|██████████| 5/5 [00:00<00:00, 551.69it/s]\n",
      "100%|██████████| 10/10 [00:00<00:00, 690.14it/s]\n",
      "100%|██████████| 20/20 [00:00<00:00, 693.49it/s]\n",
      "100%|██████████| 50/50 [00:00<00:00, 1031.61it/s]\n",
      "  0%|          | 0/100 [00:00<?, ?it/s]"
     ]
    },
    {
     "name": "stdout",
     "output_type": "stream",
     "text": [
      "Average error percentage: 40.753\n",
      "Theoretical error percentage: 41.19244763735692\n",
      "Forming weight matrix...\n",
      "Testing memory recall...\n",
      "Average error percentage: 0.0\n",
      "Theoretical error percentage: 0.0\n",
      "Forming weight matrix...\n",
      "Testing memory recall...\n",
      "Average error percentage: 0.0\n",
      "Theoretical error percentage: 9.918588689536384e-11\n",
      "Forming weight matrix...\n",
      "Testing memory recall...\n",
      "Average error percentage: 0.0\n",
      "Theoretical error percentage: 0.021756040588239132\n",
      "Forming weight matrix...\n",
      "Testing memory recall...\n",
      "Average error percentage: 0.9\n",
      "Theoretical error percentage: 0.95082368723994\n",
      "Forming weight matrix...\n",
      "Testing memory recall...\n",
      "Average error percentage: 5.85\n",
      "Theoretical error percentage: 5.325473815162926\n",
      "Forming weight matrix...\n",
      "Testing memory recall...\n",
      "Average error percentage: 20.54\n",
      "Theoretical error percentage: 15.742697620578861\n",
      "Forming weight matrix...\n",
      "Testing memory recall...\n"
     ]
    },
    {
     "name": "stderr",
     "output_type": "stream",
     "text": [
      "100%|██████████| 100/100 [00:00<00:00, 1190.63it/s]\n",
      "100%|██████████| 200/200 [00:00<00:00, 1094.77it/s]"
     ]
    },
    {
     "name": "stdout",
     "output_type": "stream",
     "text": [
      "Average error percentage: 25.03\n",
      "Theoretical error percentage: 23.97500611156682\n",
      "Forming weight matrix...\n",
      "Testing memory recall...\n"
     ]
    },
    {
     "name": "stderr",
     "output_type": "stream",
     "text": [
      "\n",
      " 15%|█▍        | 73/500 [00:00<00:00, 727.83it/s]"
     ]
    },
    {
     "name": "stdout",
     "output_type": "stream",
     "text": [
      "Average error percentage: 31.455\n",
      "Theoretical error percentage: 30.898052808211517\n",
      "Forming weight matrix...\n",
      "Testing memory recall...\n"
     ]
    },
    {
     "name": "stderr",
     "output_type": "stream",
     "text": [
      "100%|██████████| 500/500 [00:00<00:00, 1053.10it/s]\n",
      " 13%|█▎        | 128/1000 [00:00<00:00, 1268.56it/s]"
     ]
    },
    {
     "name": "stdout",
     "output_type": "stream",
     "text": [
      "Average error percentage: 37.464\n",
      "Theoretical error percentage: 37.639685899007844\n",
      "Forming weight matrix...\n",
      "Testing memory recall...\n"
     ]
    },
    {
     "name": "stderr",
     "output_type": "stream",
     "text": [
      "100%|██████████| 1000/1000 [00:00<00:00, 1226.44it/s]\n",
      "100%|██████████| 1/1 [00:00<00:00, 715.26it/s]\n",
      "100%|██████████| 2/2 [00:00<00:00, 938.85it/s]\n",
      "100%|██████████| 5/5 [00:00<00:00, 627.51it/s]\n",
      "100%|██████████| 10/10 [00:00<00:00, 653.86it/s]\n",
      "100%|██████████| 20/20 [00:00<00:00, 1125.49it/s]\n",
      "100%|██████████| 50/50 [00:00<00:00, 1129.21it/s]\n",
      "  0%|          | 0/100 [00:00<?, ?it/s]"
     ]
    },
    {
     "name": "stdout",
     "output_type": "stream",
     "text": [
      "Average error percentage: 41.51\n",
      "Theoretical error percentage: 41.19244763735692\n",
      "Forming weight matrix...\n",
      "Testing memory recall...\n",
      "Average error percentage: 0.0\n",
      "Theoretical error percentage: 0.0\n",
      "Forming weight matrix...\n",
      "Testing memory recall...\n",
      "Average error percentage: 0.0\n",
      "Theoretical error percentage: 9.918588689536384e-11\n",
      "Forming weight matrix...\n",
      "Testing memory recall...\n",
      "Average error percentage: 0.0\n",
      "Theoretical error percentage: 0.021756040588239132\n",
      "Forming weight matrix...\n",
      "Testing memory recall...\n",
      "Average error percentage: 1.0\n",
      "Theoretical error percentage: 0.95082368723994\n",
      "Forming weight matrix...\n",
      "Testing memory recall...\n",
      "Average error percentage: 6.55\n",
      "Theoretical error percentage: 5.325473815162926\n",
      "Forming weight matrix...\n",
      "Testing memory recall...\n",
      "Average error percentage: 19.04\n",
      "Theoretical error percentage: 15.742697620578861\n",
      "Forming weight matrix...\n",
      "Testing memory recall...\n"
     ]
    },
    {
     "name": "stderr",
     "output_type": "stream",
     "text": [
      "100%|██████████| 100/100 [00:00<00:00, 1262.62it/s]\n",
      " 42%|████▏     | 84/200 [00:00<00:00, 836.46it/s]"
     ]
    },
    {
     "name": "stdout",
     "output_type": "stream",
     "text": [
      "Average error percentage: 27.01\n",
      "Theoretical error percentage: 23.97500611156682\n",
      "Forming weight matrix...\n",
      "Testing memory recall...\n"
     ]
    },
    {
     "name": "stderr",
     "output_type": "stream",
     "text": [
      "100%|██████████| 200/200 [00:00<00:00, 1020.71it/s]\n",
      " 21%|██        | 103/500 [00:00<00:00, 1025.28it/s]"
     ]
    },
    {
     "name": "stdout",
     "output_type": "stream",
     "text": [
      "Average error percentage: 31.95\n",
      "Theoretical error percentage: 30.898052808211517\n",
      "Forming weight matrix...\n",
      "Testing memory recall...\n"
     ]
    },
    {
     "name": "stderr",
     "output_type": "stream",
     "text": [
      "100%|██████████| 500/500 [00:00<00:00, 815.51it/s] \n",
      " 10%|▉         | 99/1000 [00:00<00:00, 977.99it/s]"
     ]
    },
    {
     "name": "stdout",
     "output_type": "stream",
     "text": [
      "Average error percentage: 38.698\n",
      "Theoretical error percentage: 37.639685899007844\n",
      "Forming weight matrix...\n",
      "Testing memory recall...\n"
     ]
    },
    {
     "name": "stderr",
     "output_type": "stream",
     "text": [
      "100%|██████████| 1000/1000 [00:01<00:00, 575.83it/s]\n",
      "100%|██████████| 1/1 [00:00<00:00, 437.64it/s]\n",
      "100%|██████████| 2/2 [00:00<00:00, 789.81it/s]\n",
      "100%|██████████| 5/5 [00:00<00:00, 722.06it/s]\n",
      "100%|██████████| 10/10 [00:00<00:00, 1053.08it/s]\n",
      "100%|██████████| 20/20 [00:00<00:00, 628.12it/s]\n",
      "100%|██████████| 50/50 [00:00<00:00, 666.09it/s]\n"
     ]
    },
    {
     "name": "stdout",
     "output_type": "stream",
     "text": [
      "Average error percentage: 42.32\n",
      "Theoretical error percentage: 41.19244763735692\n",
      "Forming weight matrix...\n",
      "Testing memory recall...\n",
      "Average error percentage: 0.0\n",
      "Theoretical error percentage: 0.0\n",
      "Forming weight matrix...\n",
      "Testing memory recall...\n",
      "Average error percentage: 0.0\n",
      "Theoretical error percentage: 9.918588689536384e-11\n",
      "Forming weight matrix...\n",
      "Testing memory recall...\n",
      "Average error percentage: 0.8\n",
      "Theoretical error percentage: 0.021756040588239132\n",
      "Forming weight matrix...\n",
      "Testing memory recall...\n",
      "Average error percentage: 3.2\n",
      "Theoretical error percentage: 0.95082368723994\n",
      "Forming weight matrix...\n",
      "Testing memory recall...\n",
      "Average error percentage: 10.8\n",
      "Theoretical error percentage: 5.325473815162926\n",
      "Forming weight matrix...\n",
      "Testing memory recall...\n",
      "Average error percentage: 19.9\n",
      "Theoretical error percentage: 15.742697620578861\n",
      "Forming weight matrix...\n"
     ]
    },
    {
     "name": "stderr",
     "output_type": "stream",
     "text": [
      "100%|██████████| 100/100 [00:00<00:00, 1386.21it/s]\n",
      " 64%|██████▍   | 129/200 [00:00<00:00, 1288.41it/s]"
     ]
    },
    {
     "name": "stdout",
     "output_type": "stream",
     "text": [
      "Testing memory recall...\n",
      "Average error percentage: 28.99\n",
      "Theoretical error percentage: 23.97500611156682\n",
      "Forming weight matrix...\n",
      "Testing memory recall...\n"
     ]
    },
    {
     "name": "stderr",
     "output_type": "stream",
     "text": [
      "100%|██████████| 200/200 [00:00<00:00, 1131.72it/s]\n",
      " 22%|██▏       | 112/500 [00:00<00:00, 1117.84it/s]"
     ]
    },
    {
     "name": "stdout",
     "output_type": "stream",
     "text": [
      "Average error percentage: 33.125\n",
      "Theoretical error percentage: 30.898052808211517\n",
      "Forming weight matrix...\n",
      "Testing memory recall...\n"
     ]
    },
    {
     "name": "stderr",
     "output_type": "stream",
     "text": [
      "100%|██████████| 500/500 [00:00<00:00, 1068.21it/s]\n",
      " 14%|█▍        | 144/1000 [00:00<00:00, 1438.20it/s]"
     ]
    },
    {
     "name": "stdout",
     "output_type": "stream",
     "text": [
      "Average error percentage: 40.732\n",
      "Theoretical error percentage: 37.639685899007844\n",
      "Forming weight matrix...\n",
      "Testing memory recall...\n"
     ]
    },
    {
     "name": "stderr",
     "output_type": "stream",
     "text": [
      "100%|██████████| 1000/1000 [00:00<00:00, 1118.01it/s]\n",
      "100%|██████████| 1/1 [00:00<00:00, 542.81it/s]\n",
      "100%|██████████| 2/2 [00:00<00:00, 793.02it/s]\n",
      "100%|██████████| 5/5 [00:00<00:00, 676.70it/s]\n",
      "100%|██████████| 10/10 [00:00<00:00, 643.57it/s]\n",
      "100%|██████████| 20/20 [00:00<00:00, 1060.39it/s]\n",
      "100%|██████████| 50/50 [00:00<00:00, 1268.04it/s]\n",
      "  0%|          | 0/100 [00:00<?, ?it/s]"
     ]
    },
    {
     "name": "stdout",
     "output_type": "stream",
     "text": [
      "Average error percentage: 42.997\n",
      "Theoretical error percentage: 41.19244763735692\n",
      "Forming weight matrix...\n",
      "Testing memory recall...\n",
      "Average error percentage: 0.0\n",
      "Theoretical error percentage: 0.0\n",
      "Forming weight matrix...\n",
      "Testing memory recall...\n",
      "Average error percentage: 0.0\n",
      "Theoretical error percentage: 9.918588689536384e-11\n",
      "Forming weight matrix...\n",
      "Testing memory recall...\n",
      "Average error percentage: 0.6\n",
      "Theoretical error percentage: 0.021756040588239132\n",
      "Forming weight matrix...\n",
      "Testing memory recall...\n",
      "Average error percentage: 3.2\n",
      "Theoretical error percentage: 0.95082368723994\n",
      "Forming weight matrix...\n",
      "Testing memory recall...\n",
      "Average error percentage: 18.4\n",
      "Theoretical error percentage: 5.325473815162926\n",
      "Forming weight matrix...\n",
      "Testing memory recall...\n",
      "Average error percentage: 26.34\n",
      "Theoretical error percentage: 15.742697620578861\n",
      "Forming weight matrix...\n",
      "Testing memory recall...\n"
     ]
    },
    {
     "name": "stderr",
     "output_type": "stream",
     "text": [
      "100%|██████████| 100/100 [00:00<00:00, 1239.32it/s]\n",
      " 68%|██████▊   | 137/200 [00:00<00:00, 1365.59it/s]"
     ]
    },
    {
     "name": "stdout",
     "output_type": "stream",
     "text": [
      "Average error percentage: 33.42\n",
      "Theoretical error percentage: 23.97500611156682\n",
      "Forming weight matrix...\n",
      "Testing memory recall...\n"
     ]
    },
    {
     "name": "stderr",
     "output_type": "stream",
     "text": [
      "100%|██████████| 200/200 [00:00<00:00, 943.91it/s] \n",
      " 31%|███       | 153/500 [00:00<00:00, 1528.41it/s]"
     ]
    },
    {
     "name": "stdout",
     "output_type": "stream",
     "text": [
      "Average error percentage: 38.64\n",
      "Theoretical error percentage: 30.898052808211517\n",
      "Forming weight matrix...\n",
      "Testing memory recall...\n"
     ]
    },
    {
     "name": "stderr",
     "output_type": "stream",
     "text": [
      "100%|██████████| 500/500 [00:00<00:00, 1253.77it/s]\n",
      " 10%|█         | 105/1000 [00:00<00:00, 1049.47it/s]"
     ]
    },
    {
     "name": "stdout",
     "output_type": "stream",
     "text": [
      "Average error percentage: 43.112\n",
      "Theoretical error percentage: 37.639685899007844\n",
      "Forming weight matrix...\n",
      "Testing memory recall...\n"
     ]
    },
    {
     "name": "stderr",
     "output_type": "stream",
     "text": [
      "100%|██████████| 1000/1000 [00:00<00:00, 1120.82it/s]\n",
      "100%|██████████| 1/1 [00:00<00:00, 257.98it/s]\n",
      "100%|██████████| 2/2 [00:00<00:00, 601.51it/s]\n",
      "100%|██████████| 5/5 [00:00<00:00, 624.69it/s]\n",
      "100%|██████████| 10/10 [00:00<00:00, 1106.30it/s]\n",
      "100%|██████████| 20/20 [00:00<00:00, 1192.38it/s]\n",
      "100%|██████████| 50/50 [00:00<00:00, 1463.29it/s]\n",
      "  0%|          | 0/100 [00:00<?, ?it/s]"
     ]
    },
    {
     "name": "stdout",
     "output_type": "stream",
     "text": [
      "Average error percentage: 44.522\n",
      "Theoretical error percentage: 41.19244763735692\n",
      "Forming weight matrix...\n",
      "Testing memory recall...\n",
      "Average error percentage: 0.0\n",
      "Theoretical error percentage: 0.0\n",
      "Forming weight matrix...\n",
      "Testing memory recall...\n",
      "Average error percentage: 24.0\n",
      "Theoretical error percentage: 9.918588689536384e-11\n",
      "Forming weight matrix...\n",
      "Testing memory recall...\n",
      "Average error percentage: 47.2\n",
      "Theoretical error percentage: 0.021756040588239132\n",
      "Forming weight matrix...\n",
      "Testing memory recall...\n",
      "Average error percentage: 57.7\n",
      "Theoretical error percentage: 0.95082368723994\n",
      "Forming weight matrix...\n",
      "Testing memory recall...\n",
      "Average error percentage: 51.5\n",
      "Theoretical error percentage: 5.325473815162926\n",
      "Forming weight matrix...\n",
      "Testing memory recall...\n",
      "Average error percentage: 49.26\n",
      "Theoretical error percentage: 15.742697620578861\n",
      "Forming weight matrix...\n",
      "Testing memory recall...\n"
     ]
    },
    {
     "name": "stderr",
     "output_type": "stream",
     "text": [
      "100%|██████████| 100/100 [00:00<00:00, 1316.52it/s]\n",
      "100%|██████████| 200/200 [00:00<00:00, 1190.60it/s]\n"
     ]
    },
    {
     "name": "stdout",
     "output_type": "stream",
     "text": [
      "Average error percentage: 50.35\n",
      "Theoretical error percentage: 23.97500611156682\n",
      "Forming weight matrix...\n",
      "Testing memory recall...\n",
      "Average error percentage: 49.425\n",
      "Theoretical error percentage: 30.898052808211517\n",
      "Forming weight matrix...\n"
     ]
    },
    {
     "name": "stderr",
     "output_type": "stream",
     "text": [
      " 38%|███▊      | 192/500 [00:00<00:00, 970.95it/s]"
     ]
    },
    {
     "name": "stdout",
     "output_type": "stream",
     "text": [
      "Testing memory recall...\n"
     ]
    },
    {
     "name": "stderr",
     "output_type": "stream",
     "text": [
      "100%|██████████| 500/500 [00:00<00:00, 1088.13it/s]\n",
      " 13%|█▎        | 133/1000 [00:00<00:00, 1328.58it/s]"
     ]
    },
    {
     "name": "stdout",
     "output_type": "stream",
     "text": [
      "Average error percentage: 50.052\n",
      "Theoretical error percentage: 37.639685899007844\n",
      "Forming weight matrix...\n",
      "Testing memory recall...\n"
     ]
    },
    {
     "name": "stderr",
     "output_type": "stream",
     "text": [
      "100%|██████████| 1000/1000 [00:00<00:00, 1272.98it/s]\n",
      "100%|██████████| 1/1 [00:00<00:00, 748.45it/s]\n",
      "100%|██████████| 2/2 [00:00<00:00, 308.98it/s]\n",
      "100%|██████████| 5/5 [00:00<00:00, 425.06it/s]\n",
      "100%|██████████| 10/10 [00:00<00:00, 807.54it/s]\n",
      "100%|██████████| 20/20 [00:00<00:00, 1041.25it/s]\n",
      "100%|██████████| 50/50 [00:00<00:00, 1327.66it/s]\n",
      "  0%|          | 0/100 [00:00<?, ?it/s]"
     ]
    },
    {
     "name": "stdout",
     "output_type": "stream",
     "text": [
      "Average error percentage: 49.839\n",
      "Theoretical error percentage: 41.19244763735692\n",
      "Forming weight matrix...\n",
      "Testing memory recall...\n",
      "Average error percentage: 100.0\n",
      "Theoretical error percentage: 0.0\n",
      "Forming weight matrix...\n",
      "Testing memory recall...\n",
      "Average error percentage: 100.0\n",
      "Theoretical error percentage: 9.918588689536384e-11\n",
      "Forming weight matrix...\n",
      "Testing memory recall...\n",
      "Average error percentage: 97.8\n",
      "Theoretical error percentage: 0.021756040588239132\n",
      "Forming weight matrix...\n",
      "Testing memory recall...\n",
      "Average error percentage: 88.1\n",
      "Theoretical error percentage: 0.95082368723994\n",
      "Forming weight matrix...\n",
      "Testing memory recall...\n",
      "Average error percentage: 80.45\n",
      "Theoretical error percentage: 5.325473815162926\n",
      "Forming weight matrix...\n",
      "Testing memory recall...\n",
      "Average error percentage: 73.38\n",
      "Theoretical error percentage: 15.742697620578861\n",
      "Forming weight matrix...\n",
      "Testing memory recall...\n"
     ]
    },
    {
     "name": "stderr",
     "output_type": "stream",
     "text": [
      "100%|██████████| 100/100 [00:00<00:00, 1400.09it/s]\n",
      "100%|██████████| 200/200 [00:00<00:00, 1454.84it/s]\n",
      "  0%|          | 0/500 [00:00<?, ?it/s]"
     ]
    },
    {
     "name": "stdout",
     "output_type": "stream",
     "text": [
      "Average error percentage: 65.64\n",
      "Theoretical error percentage: 23.97500611156682\n",
      "Forming weight matrix...\n",
      "Testing memory recall...\n",
      "Average error percentage: 60.0\n",
      "Theoretical error percentage: 30.898052808211517\n",
      "Forming weight matrix...\n",
      "Testing memory recall...\n"
     ]
    },
    {
     "name": "stderr",
     "output_type": "stream",
     "text": [
      "100%|██████████| 500/500 [00:00<00:00, 1397.90it/s]\n",
      " 13%|█▎        | 131/1000 [00:00<00:00, 1303.39it/s]"
     ]
    },
    {
     "name": "stdout",
     "output_type": "stream",
     "text": [
      "Average error percentage: 58.086\n",
      "Theoretical error percentage: 37.639685899007844\n",
      "Forming weight matrix...\n",
      "Testing memory recall...\n"
     ]
    },
    {
     "name": "stderr",
     "output_type": "stream",
     "text": [
      "100%|██████████| 1000/1000 [00:01<00:00, 970.35it/s]\n",
      "100%|██████████| 1/1 [00:00<00:00, 546.70it/s]\n",
      "100%|██████████| 2/2 [00:00<00:00, 359.52it/s]\n",
      "100%|██████████| 5/5 [00:00<00:00, 842.91it/s]\n",
      "100%|██████████| 10/10 [00:00<00:00, 80.50it/s]\n",
      "  0%|          | 0/20 [00:00<?, ?it/s]"
     ]
    },
    {
     "name": "stdout",
     "output_type": "stream",
     "text": [
      "Average error percentage: 55.741\n",
      "Theoretical error percentage: 41.19244763735692\n",
      "Forming weight matrix...\n",
      "Testing memory recall...\n",
      "Average error percentage: 100.0\n",
      "Theoretical error percentage: 0.0\n",
      "Forming weight matrix...\n",
      "Testing memory recall...\n",
      "Average error percentage: 100.0\n",
      "Theoretical error percentage: 9.918588689536384e-11\n",
      "Forming weight matrix...\n",
      "Testing memory recall...\n",
      "Average error percentage: 100.0\n",
      "Theoretical error percentage: 0.021756040588239132\n",
      "Forming weight matrix...\n",
      "Testing memory recall...\n",
      "Average error percentage: 97.7\n",
      "Theoretical error percentage: 0.95082368723994\n",
      "Forming weight matrix...\n",
      "Testing memory recall...\n"
     ]
    },
    {
     "name": "stderr",
     "output_type": "stream",
     "text": [
      "100%|██████████| 20/20 [00:00<00:00, 496.44it/s]\n",
      "100%|██████████| 50/50 [00:00<00:00, 596.31it/s]\n",
      "  0%|          | 0/100 [00:00<?, ?it/s]"
     ]
    },
    {
     "name": "stdout",
     "output_type": "stream",
     "text": [
      "Average error percentage: 91.15\n",
      "Theoretical error percentage: 5.325473815162926\n",
      "Forming weight matrix...\n",
      "Testing memory recall...\n",
      "Average error percentage: 79.36\n",
      "Theoretical error percentage: 15.742697620578861\n",
      "Forming weight matrix...\n",
      "Testing memory recall...\n"
     ]
    },
    {
     "name": "stderr",
     "output_type": "stream",
     "text": [
      "100%|██████████| 100/100 [00:00<00:00, 1042.35it/s]\n",
      " 40%|████      | 80/200 [00:00<00:00, 795.48it/s]"
     ]
    },
    {
     "name": "stdout",
     "output_type": "stream",
     "text": [
      "Average error percentage: 72.12\n",
      "Theoretical error percentage: 23.97500611156682\n",
      "Forming weight matrix...\n",
      "Testing memory recall...\n"
     ]
    },
    {
     "name": "stderr",
     "output_type": "stream",
     "text": [
      "100%|██████████| 200/200 [00:00<00:00, 863.87it/s]\n",
      " 21%|██▏       | 107/500 [00:00<00:00, 1059.04it/s]"
     ]
    },
    {
     "name": "stdout",
     "output_type": "stream",
     "text": [
      "Average error percentage: 65.575\n",
      "Theoretical error percentage: 30.898052808211517\n",
      "Forming weight matrix...\n",
      "Testing memory recall...\n"
     ]
    },
    {
     "name": "stderr",
     "output_type": "stream",
     "text": [
      "100%|██████████| 500/500 [00:00<00:00, 726.12it/s] \n",
      " 10%|▉         | 98/1000 [00:00<00:00, 972.55it/s]"
     ]
    },
    {
     "name": "stdout",
     "output_type": "stream",
     "text": [
      "Average error percentage: 60.158\n",
      "Theoretical error percentage: 37.639685899007844\n",
      "Forming weight matrix...\n",
      "Testing memory recall...\n"
     ]
    },
    {
     "name": "stderr",
     "output_type": "stream",
     "text": [
      "100%|██████████| 1000/1000 [00:00<00:00, 1167.90it/s]\n",
      "100%|██████████| 1/1 [00:00<00:00, 243.84it/s]\n",
      "100%|██████████| 2/2 [00:00<00:00, 536.66it/s]\n",
      "100%|██████████| 5/5 [00:00<00:00, 732.83it/s]\n",
      "100%|██████████| 10/10 [00:00<00:00, 993.35it/s]\n",
      "100%|██████████| 20/20 [00:00<00:00, 1063.72it/s]\n",
      "100%|██████████| 50/50 [00:00<00:00, 1239.41it/s]\n",
      "  0%|          | 0/100 [00:00<?, ?it/s]"
     ]
    },
    {
     "name": "stdout",
     "output_type": "stream",
     "text": [
      "Average error percentage: 56.885\n",
      "Theoretical error percentage: 41.19244763735692\n",
      "Forming weight matrix...\n",
      "Testing memory recall...\n",
      "Average error percentage: 100.0\n",
      "Theoretical error percentage: 0.0\n",
      "Forming weight matrix...\n",
      "Testing memory recall...\n",
      "Average error percentage: 100.0\n",
      "Theoretical error percentage: 9.918588689536384e-11\n",
      "Forming weight matrix...\n",
      "Testing memory recall...\n",
      "Average error percentage: 100.0\n",
      "Theoretical error percentage: 0.021756040588239132\n",
      "Forming weight matrix...\n",
      "Testing memory recall...\n",
      "Average error percentage: 97.5\n",
      "Theoretical error percentage: 0.95082368723994\n",
      "Forming weight matrix...\n",
      "Testing memory recall...\n",
      "Average error percentage: 95.1\n",
      "Theoretical error percentage: 5.325473815162926\n",
      "Forming weight matrix...\n",
      "Testing memory recall...\n",
      "Average error percentage: 84.3\n",
      "Theoretical error percentage: 15.742697620578861\n",
      "Forming weight matrix...\n",
      "Testing memory recall...\n"
     ]
    },
    {
     "name": "stderr",
     "output_type": "stream",
     "text": [
      "100%|██████████| 100/100 [00:00<00:00, 1410.84it/s]\n",
      "100%|██████████| 200/200 [00:00<00:00, 1468.22it/s]\n",
      "  0%|          | 0/500 [00:00<?, ?it/s]"
     ]
    },
    {
     "name": "stdout",
     "output_type": "stream",
     "text": [
      "Average error percentage: 76.74\n",
      "Theoretical error percentage: 23.97500611156682\n",
      "Forming weight matrix...\n",
      "Testing memory recall...\n",
      "Average error percentage: 68.54\n",
      "Theoretical error percentage: 30.898052808211517\n",
      "Forming weight matrix...\n",
      "Testing memory recall...\n"
     ]
    },
    {
     "name": "stderr",
     "output_type": "stream",
     "text": [
      "100%|██████████| 500/500 [00:00<00:00, 1198.15it/s]\n",
      " 14%|█▎        | 137/1000 [00:00<00:00, 1367.27it/s]"
     ]
    },
    {
     "name": "stdout",
     "output_type": "stream",
     "text": [
      "Average error percentage: 61.306\n",
      "Theoretical error percentage: 37.639685899007844\n",
      "Forming weight matrix...\n",
      "Testing memory recall...\n"
     ]
    },
    {
     "name": "stderr",
     "output_type": "stream",
     "text": [
      "100%|██████████| 1000/1000 [00:01<00:00, 909.10it/s]\n",
      "100%|██████████| 1/1 [00:00<00:00, 472.33it/s]\n",
      "100%|██████████| 2/2 [00:00<00:00, 629.54it/s]\n",
      "100%|██████████| 5/5 [00:00<00:00, 373.56it/s]\n",
      "100%|██████████| 10/10 [00:00<00:00, 632.27it/s]\n",
      "100%|██████████| 20/20 [00:00<00:00, 617.63it/s]\n",
      "100%|██████████| 50/50 [00:00<00:00, 1102.95it/s]\n"
     ]
    },
    {
     "name": "stdout",
     "output_type": "stream",
     "text": [
      "Average error percentage: 58.862\n",
      "Theoretical error percentage: 41.19244763735692\n",
      "Forming weight matrix...\n",
      "Testing memory recall...\n",
      "Average error percentage: 0.0\n",
      "Theoretical error percentage: 0.0\n",
      "Forming weight matrix...\n",
      "Testing memory recall...\n",
      "Average error percentage: 0.0\n",
      "Theoretical error percentage: 9.918588689536384e-11\n",
      "Forming weight matrix...\n",
      "Testing memory recall...\n",
      "Average error percentage: 0.0\n",
      "Theoretical error percentage: 0.021756040588239132\n",
      "Forming weight matrix...\n",
      "Testing memory recall...\n",
      "Average error percentage: 1.5\n",
      "Theoretical error percentage: 0.95082368723994\n",
      "Forming weight matrix...\n",
      "Testing memory recall...\n",
      "Average error percentage: 4.6\n",
      "Theoretical error percentage: 5.325473815162926\n",
      "Forming weight matrix...\n",
      "Testing memory recall...\n",
      "Average error percentage: 14.14\n",
      "Theoretical error percentage: 15.742697620578861\n",
      "Forming weight matrix...\n"
     ]
    },
    {
     "name": "stderr",
     "output_type": "stream",
     "text": [
      "100%|██████████| 100/100 [00:00<00:00, 889.46it/s]\n",
      "  0%|          | 0/200 [00:00<?, ?it/s]"
     ]
    },
    {
     "name": "stdout",
     "output_type": "stream",
     "text": [
      "Testing memory recall...\n",
      "Average error percentage: 23.48\n",
      "Theoretical error percentage: 23.97500611156682\n",
      "Forming weight matrix...\n",
      "Testing memory recall...\n"
     ]
    },
    {
     "name": "stderr",
     "output_type": "stream",
     "text": [
      "100%|██████████| 200/200 [00:00<00:00, 1184.18it/s]\n",
      " 16%|█▌        | 81/500 [00:00<00:00, 804.07it/s]"
     ]
    },
    {
     "name": "stdout",
     "output_type": "stream",
     "text": [
      "Average error percentage: 29.88\n",
      "Theoretical error percentage: 30.898052808211517\n",
      "Forming weight matrix...\n",
      "Testing memory recall...\n"
     ]
    },
    {
     "name": "stderr",
     "output_type": "stream",
     "text": [
      "100%|██████████| 500/500 [00:00<00:00, 856.70it/s]\n",
      " 15%|█▌        | 153/1000 [00:00<00:00, 1519.93it/s]"
     ]
    },
    {
     "name": "stdout",
     "output_type": "stream",
     "text": [
      "Average error percentage: 37.124\n",
      "Theoretical error percentage: 37.639685899007844\n",
      "Forming weight matrix...\n",
      "Testing memory recall...\n"
     ]
    },
    {
     "name": "stderr",
     "output_type": "stream",
     "text": [
      "100%|██████████| 1000/1000 [00:00<00:00, 1248.51it/s]\n",
      "100%|██████████| 1/1 [00:00<00:00, 491.83it/s]\n",
      "100%|██████████| 2/2 [00:00<00:00, 543.34it/s]\n",
      "100%|██████████| 5/5 [00:00<00:00, 605.05it/s]\n",
      "100%|██████████| 10/10 [00:00<00:00, 1005.51it/s]\n",
      "100%|██████████| 20/20 [00:00<00:00, 1187.87it/s]\n",
      "100%|██████████| 50/50 [00:00<00:00, 1309.62it/s]\n",
      "  0%|          | 0/100 [00:00<?, ?it/s]"
     ]
    },
    {
     "name": "stdout",
     "output_type": "stream",
     "text": [
      "Average error percentage: 41.756\n",
      "Theoretical error percentage: 41.19244763735692\n",
      "Forming weight matrix...\n",
      "Testing memory recall...\n",
      "Average error percentage: 0.0\n",
      "Theoretical error percentage: 0.0\n",
      "Forming weight matrix...\n",
      "Testing memory recall...\n",
      "Average error percentage: 0.0\n",
      "Theoretical error percentage: 9.918588689536384e-11\n",
      "Forming weight matrix...\n",
      "Testing memory recall...\n",
      "Average error percentage: 0.0\n",
      "Theoretical error percentage: 0.021756040588239132\n",
      "Forming weight matrix...\n",
      "Testing memory recall...\n",
      "Average error percentage: 2.9\n",
      "Theoretical error percentage: 0.95082368723994\n",
      "Forming weight matrix...\n",
      "Testing memory recall...\n",
      "Average error percentage: 7.15\n",
      "Theoretical error percentage: 5.325473815162926\n",
      "Forming weight matrix...\n",
      "Testing memory recall...\n",
      "Average error percentage: 15.54\n",
      "Theoretical error percentage: 15.742697620578861\n",
      "Forming weight matrix...\n",
      "Testing memory recall...\n"
     ]
    },
    {
     "name": "stderr",
     "output_type": "stream",
     "text": [
      "100%|██████████| 100/100 [00:00<00:00, 1158.31it/s]\n",
      "100%|██████████| 200/200 [00:00<00:00, 1413.29it/s]\n",
      "  0%|          | 0/500 [00:00<?, ?it/s]"
     ]
    },
    {
     "name": "stdout",
     "output_type": "stream",
     "text": [
      "Average error percentage: 24.92\n",
      "Theoretical error percentage: 23.97500611156682\n",
      "Forming weight matrix...\n",
      "Testing memory recall...\n",
      "Average error percentage: 31.54\n",
      "Theoretical error percentage: 30.898052808211517\n",
      "Forming weight matrix...\n",
      "Testing memory recall...\n"
     ]
    },
    {
     "name": "stderr",
     "output_type": "stream",
     "text": [
      "100%|██████████| 500/500 [00:00<00:00, 1181.71it/s]\n",
      " 14%|█▍        | 144/1000 [00:00<00:00, 1430.46it/s]"
     ]
    },
    {
     "name": "stdout",
     "output_type": "stream",
     "text": [
      "Average error percentage: 37.792\n",
      "Theoretical error percentage: 37.639685899007844\n",
      "Forming weight matrix...\n",
      "Testing memory recall...\n"
     ]
    },
    {
     "name": "stderr",
     "output_type": "stream",
     "text": [
      "100%|██████████| 1000/1000 [00:00<00:00, 1427.81it/s]\n",
      "100%|██████████| 1/1 [00:00<00:00, 188.75it/s]\n",
      "100%|██████████| 2/2 [00:00<00:00, 143.30it/s]\n",
      "100%|██████████| 5/5 [00:00<00:00, 858.54it/s]\n",
      "100%|██████████| 10/10 [00:00<00:00, 1043.41it/s]\n",
      "100%|██████████| 20/20 [00:00<00:00, 1218.25it/s]\n",
      "100%|██████████| 50/50 [00:00<00:00, 1269.42it/s]\n",
      "  0%|          | 0/100 [00:00<?, ?it/s]"
     ]
    },
    {
     "name": "stdout",
     "output_type": "stream",
     "text": [
      "Average error percentage: 41.569\n",
      "Theoretical error percentage: 41.19244763735692\n",
      "Forming weight matrix...\n",
      "Testing memory recall...\n",
      "Average error percentage: 0.0\n",
      "Theoretical error percentage: 0.0\n",
      "Forming weight matrix...\n",
      "Testing memory recall...\n",
      "Average error percentage: 0.0\n",
      "Theoretical error percentage: 9.918588689536384e-11\n",
      "Forming weight matrix...\n",
      "Testing memory recall...\n",
      "Average error percentage: 0.0\n",
      "Theoretical error percentage: 0.021756040588239132\n",
      "Forming weight matrix...\n",
      "Testing memory recall...\n",
      "Average error percentage: 0.6\n",
      "Theoretical error percentage: 0.95082368723994\n",
      "Forming weight matrix...\n",
      "Testing memory recall...\n",
      "Average error percentage: 7.65\n",
      "Theoretical error percentage: 5.325473815162926\n",
      "Forming weight matrix...\n",
      "Testing memory recall...\n",
      "Average error percentage: 18.02\n",
      "Theoretical error percentage: 15.742697620578861\n",
      "Forming weight matrix...\n",
      "Testing memory recall...\n"
     ]
    },
    {
     "name": "stderr",
     "output_type": "stream",
     "text": [
      "100%|██████████| 100/100 [00:00<00:00, 1224.69it/s]\n",
      "100%|██████████| 200/200 [00:00<00:00, 1239.49it/s]\n"
     ]
    },
    {
     "name": "stdout",
     "output_type": "stream",
     "text": [
      "Average error percentage: 28.04\n",
      "Theoretical error percentage: 23.97500611156682\n",
      "Forming weight matrix...\n",
      "Testing memory recall...\n",
      "Average error percentage: 33.65\n",
      "Theoretical error percentage: 30.898052808211517\n",
      "Forming weight matrix...\n"
     ]
    },
    {
     "name": "stderr",
     "output_type": "stream",
     "text": [
      " 29%|██▉       | 146/500 [00:00<00:00, 1453.41it/s]"
     ]
    },
    {
     "name": "stdout",
     "output_type": "stream",
     "text": [
      "Testing memory recall...\n"
     ]
    },
    {
     "name": "stderr",
     "output_type": "stream",
     "text": [
      "100%|██████████| 500/500 [00:00<00:00, 1348.00it/s]\n",
      " 15%|█▍        | 148/1000 [00:00<00:00, 1476.04it/s]"
     ]
    },
    {
     "name": "stdout",
     "output_type": "stream",
     "text": [
      "Average error percentage: 39.644\n",
      "Theoretical error percentage: 37.639685899007844\n",
      "Forming weight matrix...\n",
      "Testing memory recall...\n"
     ]
    },
    {
     "name": "stderr",
     "output_type": "stream",
     "text": [
      "100%|██████████| 1000/1000 [00:00<00:00, 1436.31it/s]\n",
      "100%|██████████| 1/1 [00:00<00:00, 516.03it/s]\n",
      "100%|██████████| 2/2 [00:00<00:00, 669.32it/s]\n",
      "100%|██████████| 5/5 [00:00<00:00, 639.77it/s]\n",
      "100%|██████████| 10/10 [00:00<00:00, 795.04it/s]\n",
      "100%|██████████| 20/20 [00:00<00:00, 1044.67it/s]\n",
      "100%|██████████| 50/50 [00:00<00:00, 1418.76it/s]\n",
      "  0%|          | 0/100 [00:00<?, ?it/s]"
     ]
    },
    {
     "name": "stdout",
     "output_type": "stream",
     "text": [
      "Average error percentage: 42.385\n",
      "Theoretical error percentage: 41.19244763735692\n",
      "Forming weight matrix...\n",
      "Testing memory recall...\n",
      "Average error percentage: 0.0\n",
      "Theoretical error percentage: 0.0\n",
      "Forming weight matrix...\n",
      "Testing memory recall...\n",
      "Average error percentage: 0.0\n",
      "Theoretical error percentage: 9.918588689536384e-11\n",
      "Forming weight matrix...\n",
      "Testing memory recall...\n",
      "Average error percentage: 0.0\n",
      "Theoretical error percentage: 0.021756040588239132\n",
      "Forming weight matrix...\n",
      "Testing memory recall...\n",
      "Average error percentage: 1.9\n",
      "Theoretical error percentage: 0.95082368723994\n",
      "Forming weight matrix...\n",
      "Testing memory recall...\n",
      "Average error percentage: 8.25\n",
      "Theoretical error percentage: 5.325473815162926\n",
      "Forming weight matrix...\n",
      "Testing memory recall...\n",
      "Average error percentage: 22.98\n",
      "Theoretical error percentage: 15.742697620578861\n",
      "Forming weight matrix...\n",
      "Testing memory recall...\n"
     ]
    },
    {
     "name": "stderr",
     "output_type": "stream",
     "text": [
      "100%|██████████| 100/100 [00:00<00:00, 1234.88it/s]\n",
      "100%|██████████| 200/200 [00:00<00:00, 1163.14it/s]\n"
     ]
    },
    {
     "name": "stdout",
     "output_type": "stream",
     "text": [
      "Average error percentage: 29.18\n",
      "Theoretical error percentage: 23.97500611156682\n",
      "Forming weight matrix...\n",
      "Testing memory recall...\n",
      "Average error percentage: 33.515\n",
      "Theoretical error percentage: 30.898052808211517\n",
      "Forming weight matrix...\n"
     ]
    },
    {
     "name": "stderr",
     "output_type": "stream",
     "text": [
      " 28%|██▊       | 142/500 [00:00<00:00, 1415.26it/s]"
     ]
    },
    {
     "name": "stdout",
     "output_type": "stream",
     "text": [
      "Testing memory recall...\n"
     ]
    },
    {
     "name": "stderr",
     "output_type": "stream",
     "text": [
      "100%|██████████| 500/500 [00:00<00:00, 1370.51it/s]\n",
      " 15%|█▍        | 147/1000 [00:00<00:00, 1465.41it/s]"
     ]
    },
    {
     "name": "stdout",
     "output_type": "stream",
     "text": [
      "Average error percentage: 39.682\n",
      "Theoretical error percentage: 37.639685899007844\n",
      "Forming weight matrix...\n",
      "Testing memory recall...\n"
     ]
    },
    {
     "name": "stderr",
     "output_type": "stream",
     "text": [
      "100%|██████████| 1000/1000 [00:00<00:00, 1338.63it/s]\n",
      "100%|██████████| 1/1 [00:00<00:00, 293.95it/s]\n",
      "100%|██████████| 2/2 [00:00<00:00, 629.02it/s]\n",
      "100%|██████████| 5/5 [00:00<00:00, 728.63it/s]\n",
      "100%|██████████| 10/10 [00:00<00:00, 871.15it/s]\n",
      "100%|██████████| 20/20 [00:00<00:00, 1164.34it/s]\n",
      "100%|██████████| 50/50 [00:00<00:00, 1276.36it/s]\n",
      "  0%|          | 0/100 [00:00<?, ?it/s]"
     ]
    },
    {
     "name": "stdout",
     "output_type": "stream",
     "text": [
      "Average error percentage: 42.587\n",
      "Theoretical error percentage: 41.19244763735692\n",
      "Forming weight matrix...\n",
      "Testing memory recall...\n",
      "Average error percentage: 0.0\n",
      "Theoretical error percentage: 0.0\n",
      "Forming weight matrix...\n",
      "Testing memory recall...\n",
      "Average error percentage: 0.0\n",
      "Theoretical error percentage: 9.918588689536384e-11\n",
      "Forming weight matrix...\n",
      "Testing memory recall...\n",
      "Average error percentage: 5.6\n",
      "Theoretical error percentage: 0.021756040588239132\n",
      "Forming weight matrix...\n",
      "Testing memory recall...\n",
      "Average error percentage: 9.9\n",
      "Theoretical error percentage: 0.95082368723994\n",
      "Forming weight matrix...\n",
      "Testing memory recall...\n",
      "Average error percentage: 19.75\n",
      "Theoretical error percentage: 5.325473815162926\n",
      "Forming weight matrix...\n",
      "Testing memory recall...\n",
      "Average error percentage: 28.6\n",
      "Theoretical error percentage: 15.742697620578861\n",
      "Forming weight matrix...\n",
      "Testing memory recall...\n"
     ]
    },
    {
     "name": "stderr",
     "output_type": "stream",
     "text": [
      "100%|██████████| 100/100 [00:00<00:00, 1320.76it/s]\n",
      "100%|██████████| 200/200 [00:00<00:00, 1397.53it/s]\n",
      "  0%|          | 0/500 [00:00<?, ?it/s]"
     ]
    },
    {
     "name": "stdout",
     "output_type": "stream",
     "text": [
      "Average error percentage: 33.73\n",
      "Theoretical error percentage: 23.97500611156682\n",
      "Forming weight matrix...\n",
      "Testing memory recall...\n",
      "Average error percentage: 38.285\n",
      "Theoretical error percentage: 30.898052808211517\n",
      "Forming weight matrix...\n",
      "Testing memory recall...\n"
     ]
    },
    {
     "name": "stderr",
     "output_type": "stream",
     "text": [
      "100%|██████████| 500/500 [00:00<00:00, 1318.18it/s]\n",
      " 13%|█▎        | 128/1000 [00:00<00:00, 1276.67it/s]"
     ]
    },
    {
     "name": "stdout",
     "output_type": "stream",
     "text": [
      "Average error percentage: 42.7\n",
      "Theoretical error percentage: 37.639685899007844\n",
      "Forming weight matrix...\n",
      "Testing memory recall...\n"
     ]
    },
    {
     "name": "stderr",
     "output_type": "stream",
     "text": [
      "100%|██████████| 1000/1000 [00:00<00:00, 1321.62it/s]\n",
      "100%|██████████| 1/1 [00:00<00:00, 474.84it/s]\n",
      "100%|██████████| 2/2 [00:00<00:00, 785.23it/s]\n",
      "100%|██████████| 5/5 [00:00<00:00, 739.97it/s]\n",
      "100%|██████████| 10/10 [00:00<00:00, 870.19it/s]\n",
      "100%|██████████| 20/20 [00:00<00:00, 1111.91it/s]\n",
      "100%|██████████| 50/50 [00:00<00:00, 1303.20it/s]\n",
      "  0%|          | 0/100 [00:00<?, ?it/s]"
     ]
    },
    {
     "name": "stdout",
     "output_type": "stream",
     "text": [
      "Average error percentage: 45.114\n",
      "Theoretical error percentage: 41.19244763735692\n",
      "Forming weight matrix...\n",
      "Testing memory recall...\n",
      "Average error percentage: 0.0\n",
      "Theoretical error percentage: 0.0\n",
      "Forming weight matrix...\n",
      "Testing memory recall...\n",
      "Average error percentage: 28.0\n",
      "Theoretical error percentage: 9.918588689536384e-11\n",
      "Forming weight matrix...\n",
      "Testing memory recall...\n",
      "Average error percentage: 53.6\n",
      "Theoretical error percentage: 0.021756040588239132\n",
      "Forming weight matrix...\n",
      "Testing memory recall...\n",
      "Average error percentage: 52.8\n",
      "Theoretical error percentage: 0.95082368723994\n",
      "Forming weight matrix...\n",
      "Testing memory recall...\n",
      "Average error percentage: 48.55\n",
      "Theoretical error percentage: 5.325473815162926\n",
      "Forming weight matrix...\n",
      "Testing memory recall...\n",
      "Average error percentage: 50.6\n",
      "Theoretical error percentage: 15.742697620578861\n",
      "Forming weight matrix...\n",
      "Testing memory recall...\n"
     ]
    },
    {
     "name": "stderr",
     "output_type": "stream",
     "text": [
      "100%|██████████| 100/100 [00:00<00:00, 1372.55it/s]\n",
      "100%|██████████| 200/200 [00:00<00:00, 1249.34it/s]\n"
     ]
    },
    {
     "name": "stdout",
     "output_type": "stream",
     "text": [
      "Average error percentage: 48.96\n",
      "Theoretical error percentage: 23.97500611156682\n",
      "Forming weight matrix...\n",
      "Testing memory recall...\n",
      "Average error percentage: 49.7\n",
      "Theoretical error percentage: 30.898052808211517\n",
      "Forming weight matrix...\n"
     ]
    },
    {
     "name": "stderr",
     "output_type": "stream",
     "text": [
      " 29%|██▉       | 145/500 [00:00<00:00, 1443.48it/s]"
     ]
    },
    {
     "name": "stdout",
     "output_type": "stream",
     "text": [
      "Testing memory recall...\n"
     ]
    },
    {
     "name": "stderr",
     "output_type": "stream",
     "text": [
      "100%|██████████| 500/500 [00:00<00:00, 1384.97it/s]\n",
      " 13%|█▎        | 133/1000 [00:00<00:00, 1328.06it/s]"
     ]
    },
    {
     "name": "stdout",
     "output_type": "stream",
     "text": [
      "Average error percentage: 49.918\n",
      "Theoretical error percentage: 37.639685899007844\n",
      "Forming weight matrix...\n",
      "Testing memory recall...\n"
     ]
    },
    {
     "name": "stderr",
     "output_type": "stream",
     "text": [
      "100%|██████████| 1000/1000 [00:00<00:00, 1398.72it/s]\n",
      "100%|██████████| 1/1 [00:00<00:00, 337.35it/s]\n",
      "100%|██████████| 2/2 [00:00<00:00, 790.19it/s]\n",
      "100%|██████████| 5/5 [00:00<00:00, 381.65it/s]\n",
      "100%|██████████| 10/10 [00:00<00:00, 672.81it/s]\n",
      "100%|██████████| 20/20 [00:00<00:00, 728.52it/s]\n",
      "100%|██████████| 50/50 [00:00<00:00, 1186.77it/s]\n",
      "  0%|          | 0/100 [00:00<?, ?it/s]"
     ]
    },
    {
     "name": "stdout",
     "output_type": "stream",
     "text": [
      "Average error percentage: 50.101\n",
      "Theoretical error percentage: 41.19244763735692\n",
      "Forming weight matrix...\n",
      "Testing memory recall...\n",
      "Average error percentage: 100.0\n",
      "Theoretical error percentage: 0.0\n",
      "Forming weight matrix...\n",
      "Testing memory recall...\n",
      "Average error percentage: 100.0\n",
      "Theoretical error percentage: 9.918588689536384e-11\n",
      "Forming weight matrix...\n",
      "Testing memory recall...\n",
      "Average error percentage: 93.4\n",
      "Theoretical error percentage: 0.021756040588239132\n",
      "Forming weight matrix...\n",
      "Testing memory recall...\n",
      "Average error percentage: 86.9\n",
      "Theoretical error percentage: 0.95082368723994\n",
      "Forming weight matrix...\n",
      "Testing memory recall...\n",
      "Average error percentage: 79.55\n",
      "Theoretical error percentage: 5.325473815162926\n",
      "Forming weight matrix...\n",
      "Testing memory recall...\n",
      "Average error percentage: 73.1\n",
      "Theoretical error percentage: 15.742697620578861\n",
      "Forming weight matrix...\n",
      "Testing memory recall...\n"
     ]
    },
    {
     "name": "stderr",
     "output_type": "stream",
     "text": [
      "100%|██████████| 100/100 [00:00<00:00, 1366.79it/s]\n",
      " 58%|█████▊    | 117/200 [00:00<00:00, 1160.84it/s]"
     ]
    },
    {
     "name": "stdout",
     "output_type": "stream",
     "text": [
      "Average error percentage: 67.12\n",
      "Theoretical error percentage: 23.97500611156682\n",
      "Forming weight matrix...\n",
      "Testing memory recall...\n"
     ]
    },
    {
     "name": "stderr",
     "output_type": "stream",
     "text": [
      "100%|██████████| 200/200 [00:00<00:00, 909.95it/s] \n",
      " 30%|██▉       | 148/500 [00:00<00:00, 1471.96it/s]"
     ]
    },
    {
     "name": "stdout",
     "output_type": "stream",
     "text": [
      "Average error percentage: 62.305\n",
      "Theoretical error percentage: 30.898052808211517\n",
      "Forming weight matrix...\n",
      "Testing memory recall...\n"
     ]
    },
    {
     "name": "stderr",
     "output_type": "stream",
     "text": [
      "100%|██████████| 500/500 [00:00<00:00, 972.02it/s] \n",
      " 13%|█▎        | 131/1000 [00:00<00:00, 1301.32it/s]"
     ]
    },
    {
     "name": "stdout",
     "output_type": "stream",
     "text": [
      "Average error percentage: 57.796\n",
      "Theoretical error percentage: 37.639685899007844\n",
      "Forming weight matrix...\n",
      "Testing memory recall...\n"
     ]
    },
    {
     "name": "stderr",
     "output_type": "stream",
     "text": [
      "100%|██████████| 1000/1000 [00:00<00:00, 1064.84it/s]\n",
      "100%|██████████| 1/1 [00:00<00:00, 262.32it/s]\n",
      "100%|██████████| 2/2 [00:00<00:00, 257.56it/s]\n",
      "100%|██████████| 5/5 [00:00<00:00, 324.35it/s]\n",
      "100%|██████████| 10/10 [00:00<00:00, 436.08it/s]\n",
      "100%|██████████| 20/20 [00:00<00:00, 714.59it/s]\n",
      "100%|██████████| 50/50 [00:00<00:00, 1423.32it/s]\n"
     ]
    },
    {
     "name": "stdout",
     "output_type": "stream",
     "text": [
      "Average error percentage: 55.402\n",
      "Theoretical error percentage: 41.19244763735692\n",
      "Forming weight matrix...\n",
      "Testing memory recall...\n",
      "Average error percentage: 100.0\n",
      "Theoretical error percentage: 0.0\n",
      "Forming weight matrix...\n",
      "Testing memory recall...\n",
      "Average error percentage: 100.0\n",
      "Theoretical error percentage: 9.918588689536384e-11\n",
      "Forming weight matrix...\n",
      "Testing memory recall...\n",
      "Average error percentage: 99.0\n",
      "Theoretical error percentage: 0.021756040588239132\n",
      "Forming weight matrix...\n",
      "Testing memory recall...\n",
      "Average error percentage: 97.9\n",
      "Theoretical error percentage: 0.95082368723994\n",
      "Forming weight matrix...\n",
      "Testing memory recall...\n",
      "Average error percentage: 90.1\n",
      "Theoretical error percentage: 5.325473815162926\n",
      "Forming weight matrix...\n",
      "Testing memory recall...\n",
      "Average error percentage: 78.46\n",
      "Theoretical error percentage: 15.742697620578861\n"
     ]
    },
    {
     "name": "stderr",
     "output_type": "stream",
     "text": [
      "100%|██████████| 100/100 [00:00<00:00, 1218.62it/s]\n",
      "  0%|          | 0/200 [00:00<?, ?it/s]"
     ]
    },
    {
     "name": "stdout",
     "output_type": "stream",
     "text": [
      "Forming weight matrix...\n",
      "Testing memory recall...\n",
      "Average error percentage: 72.21\n",
      "Theoretical error percentage: 23.97500611156682\n",
      "Forming weight matrix...\n",
      "Testing memory recall...\n"
     ]
    },
    {
     "name": "stderr",
     "output_type": "stream",
     "text": [
      "100%|██████████| 200/200 [00:00<00:00, 1110.75it/s]\n",
      " 30%|██▉       | 148/500 [00:00<00:00, 1475.01it/s]"
     ]
    },
    {
     "name": "stdout",
     "output_type": "stream",
     "text": [
      "Average error percentage: 64.115\n",
      "Theoretical error percentage: 30.898052808211517\n",
      "Forming weight matrix...\n",
      "Testing memory recall...\n"
     ]
    },
    {
     "name": "stderr",
     "output_type": "stream",
     "text": [
      "100%|██████████| 500/500 [00:00<00:00, 1291.32it/s]\n",
      " 15%|█▌        | 150/1000 [00:00<00:00, 1499.87it/s]"
     ]
    },
    {
     "name": "stdout",
     "output_type": "stream",
     "text": [
      "Average error percentage: 60.076\n",
      "Theoretical error percentage: 37.639685899007844\n",
      "Forming weight matrix...\n",
      "Testing memory recall...\n"
     ]
    },
    {
     "name": "stderr",
     "output_type": "stream",
     "text": [
      "100%|██████████| 1000/1000 [00:00<00:00, 1441.03it/s]\n",
      "100%|██████████| 1/1 [00:00<00:00, 216.40it/s]\n",
      "100%|██████████| 2/2 [00:00<00:00, 614.42it/s]\n",
      "100%|██████████| 5/5 [00:00<00:00, 623.13it/s]\n",
      "100%|██████████| 10/10 [00:00<00:00, 863.42it/s]\n",
      "100%|██████████| 20/20 [00:00<00:00, 1365.56it/s]\n",
      "100%|██████████| 50/50 [00:00<00:00, 1272.07it/s]\n",
      "  0%|          | 0/100 [00:00<?, ?it/s]"
     ]
    },
    {
     "name": "stdout",
     "output_type": "stream",
     "text": [
      "Average error percentage: 57.577\n",
      "Theoretical error percentage: 41.19244763735692\n",
      "Forming weight matrix...\n",
      "Testing memory recall...\n",
      "Average error percentage: 100.0\n",
      "Theoretical error percentage: 0.0\n",
      "Forming weight matrix...\n",
      "Testing memory recall...\n",
      "Average error percentage: 100.0\n",
      "Theoretical error percentage: 9.918588689536384e-11\n",
      "Forming weight matrix...\n",
      "Testing memory recall...\n",
      "Average error percentage: 100.0\n",
      "Theoretical error percentage: 0.021756040588239132\n",
      "Forming weight matrix...\n",
      "Testing memory recall...\n",
      "Average error percentage: 99.8\n",
      "Theoretical error percentage: 0.95082368723994\n",
      "Forming weight matrix...\n",
      "Testing memory recall...\n",
      "Average error percentage: 92.45\n",
      "Theoretical error percentage: 5.325473815162926\n",
      "Forming weight matrix...\n",
      "Testing memory recall...\n",
      "Average error percentage: 86.38\n",
      "Theoretical error percentage: 15.742697620578861\n",
      "Forming weight matrix...\n",
      "Testing memory recall...\n"
     ]
    },
    {
     "name": "stderr",
     "output_type": "stream",
     "text": [
      "100%|██████████| 100/100 [00:00<00:00, 1387.99it/s]\n",
      "100%|██████████| 200/200 [00:00<00:00, 1408.21it/s]\n",
      "  0%|          | 0/500 [00:00<?, ?it/s]"
     ]
    },
    {
     "name": "stdout",
     "output_type": "stream",
     "text": [
      "Average error percentage: 75.71\n",
      "Theoretical error percentage: 23.97500611156682\n",
      "Forming weight matrix...\n",
      "Testing memory recall...\n",
      "Average error percentage: 68.55\n",
      "Theoretical error percentage: 30.898052808211517\n",
      "Forming weight matrix...\n",
      "Testing memory recall...\n"
     ]
    },
    {
     "name": "stderr",
     "output_type": "stream",
     "text": [
      "100%|██████████| 500/500 [00:00<00:00, 1403.49it/s]\n",
      " 14%|█▍        | 141/1000 [00:00<00:00, 1399.64it/s]"
     ]
    },
    {
     "name": "stdout",
     "output_type": "stream",
     "text": [
      "Average error percentage: 62.658\n",
      "Theoretical error percentage: 37.639685899007844\n",
      "Forming weight matrix...\n",
      "Testing memory recall...\n"
     ]
    },
    {
     "name": "stderr",
     "output_type": "stream",
     "text": [
      "100%|██████████| 1000/1000 [00:00<00:00, 1278.58it/s]\n",
      "100%|██████████| 1/1 [00:00<00:00, 208.77it/s]\n",
      "100%|██████████| 2/2 [00:00<00:00, 721.54it/s]\n",
      "100%|██████████| 5/5 [00:00<00:00, 554.08it/s]\n",
      "100%|██████████| 10/10 [00:00<00:00, 628.57it/s]\n",
      "100%|██████████| 20/20 [00:00<00:00, 997.11it/s]\n",
      "100%|██████████| 50/50 [00:00<00:00, 1401.66it/s]\n",
      "  0%|          | 0/100 [00:00<?, ?it/s]"
     ]
    },
    {
     "name": "stdout",
     "output_type": "stream",
     "text": [
      "Average error percentage: 59.052\n",
      "Theoretical error percentage: 41.19244763735692\n",
      "Forming weight matrix...\n",
      "Testing memory recall...\n",
      "Average error percentage: 0.0\n",
      "Theoretical error percentage: 0.0\n",
      "Forming weight matrix...\n",
      "Testing memory recall...\n",
      "Average error percentage: 0.0\n",
      "Theoretical error percentage: 9.918588689536384e-11\n",
      "Forming weight matrix...\n",
      "Testing memory recall...\n",
      "Average error percentage: 0.0\n",
      "Theoretical error percentage: 0.021756040588239132\n",
      "Forming weight matrix...\n",
      "Testing memory recall...\n",
      "Average error percentage: 1.6\n",
      "Theoretical error percentage: 0.95082368723994\n",
      "Forming weight matrix...\n",
      "Testing memory recall...\n",
      "Average error percentage: 4.25\n",
      "Theoretical error percentage: 5.325473815162926\n",
      "Forming weight matrix...\n",
      "Testing memory recall...\n",
      "Average error percentage: 16.72\n",
      "Theoretical error percentage: 15.742697620578861\n",
      "Forming weight matrix...\n",
      "Testing memory recall...\n"
     ]
    },
    {
     "name": "stderr",
     "output_type": "stream",
     "text": [
      "100%|██████████| 100/100 [00:00<00:00, 1332.49it/s]\n",
      "100%|██████████| 200/200 [00:00<00:00, 1207.61it/s]\n"
     ]
    },
    {
     "name": "stdout",
     "output_type": "stream",
     "text": [
      "Average error percentage: 23.98\n",
      "Theoretical error percentage: 23.97500611156682\n",
      "Forming weight matrix...\n",
      "Testing memory recall...\n",
      "Average error percentage: 30.1\n",
      "Theoretical error percentage: 30.898052808211517\n"
     ]
    },
    {
     "name": "stderr",
     "output_type": "stream",
     "text": [
      " 30%|██▉       | 148/500 [00:00<00:00, 1473.84it/s]"
     ]
    },
    {
     "name": "stdout",
     "output_type": "stream",
     "text": [
      "Forming weight matrix...\n",
      "Testing memory recall...\n"
     ]
    },
    {
     "name": "stderr",
     "output_type": "stream",
     "text": [
      "100%|██████████| 500/500 [00:00<00:00, 1263.19it/s]\n",
      " 12%|█▏        | 121/1000 [00:00<00:00, 1203.33it/s]"
     ]
    },
    {
     "name": "stdout",
     "output_type": "stream",
     "text": [
      "Average error percentage: 38.276\n",
      "Theoretical error percentage: 37.639685899007844\n",
      "Forming weight matrix...\n",
      "Testing memory recall...\n"
     ]
    },
    {
     "name": "stderr",
     "output_type": "stream",
     "text": [
      "100%|██████████| 1000/1000 [00:00<00:00, 1344.34it/s]\n",
      "100%|██████████| 1/1 [00:00<00:00, 392.43it/s]\n",
      "100%|██████████| 2/2 [00:00<00:00, 634.54it/s]\n",
      "100%|██████████| 5/5 [00:00<00:00, 668.86it/s]\n",
      "100%|██████████| 10/10 [00:00<00:00, 916.75it/s]\n",
      "100%|██████████| 20/20 [00:00<00:00, 1081.61it/s]\n",
      "100%|██████████| 50/50 [00:00<00:00, 1294.56it/s]\n",
      "  0%|          | 0/100 [00:00<?, ?it/s]"
     ]
    },
    {
     "name": "stdout",
     "output_type": "stream",
     "text": [
      "Average error percentage: 41.215\n",
      "Theoretical error percentage: 41.19244763735692\n",
      "Forming weight matrix...\n",
      "Testing memory recall...\n",
      "Average error percentage: 0.0\n",
      "Theoretical error percentage: 0.0\n",
      "Forming weight matrix...\n",
      "Testing memory recall...\n",
      "Average error percentage: 0.0\n",
      "Theoretical error percentage: 9.918588689536384e-11\n",
      "Forming weight matrix...\n",
      "Testing memory recall...\n",
      "Average error percentage: 0.0\n",
      "Theoretical error percentage: 0.021756040588239132\n",
      "Forming weight matrix...\n",
      "Testing memory recall...\n",
      "Average error percentage: 4.1\n",
      "Theoretical error percentage: 0.95082368723994\n",
      "Forming weight matrix...\n",
      "Testing memory recall...\n",
      "Average error percentage: 6.1\n",
      "Theoretical error percentage: 5.325473815162926\n",
      "Forming weight matrix...\n",
      "Testing memory recall...\n",
      "Average error percentage: 16.7\n",
      "Theoretical error percentage: 15.742697620578861\n",
      "Forming weight matrix...\n",
      "Testing memory recall...\n"
     ]
    },
    {
     "name": "stderr",
     "output_type": "stream",
     "text": [
      "100%|██████████| 100/100 [00:00<00:00, 1377.09it/s]\n",
      "100%|██████████| 200/200 [00:00<00:00, 1435.03it/s]\n",
      "  0%|          | 0/500 [00:00<?, ?it/s]"
     ]
    },
    {
     "name": "stdout",
     "output_type": "stream",
     "text": [
      "Average error percentage: 24.8\n",
      "Theoretical error percentage: 23.97500611156682\n",
      "Forming weight matrix...\n",
      "Testing memory recall...\n",
      "Average error percentage: 31.395\n",
      "Theoretical error percentage: 30.898052808211517\n",
      "Forming weight matrix...\n",
      "Testing memory recall...\n"
     ]
    },
    {
     "name": "stderr",
     "output_type": "stream",
     "text": [
      "100%|██████████| 500/500 [00:00<00:00, 1144.21it/s]\n",
      " 14%|█▎        | 135/1000 [00:00<00:00, 1342.31it/s]"
     ]
    },
    {
     "name": "stdout",
     "output_type": "stream",
     "text": [
      "Average error percentage: 38.224\n",
      "Theoretical error percentage: 37.639685899007844\n",
      "Forming weight matrix...\n",
      "Testing memory recall...\n"
     ]
    },
    {
     "name": "stderr",
     "output_type": "stream",
     "text": [
      "100%|██████████| 1000/1000 [00:01<00:00, 931.89it/s]\n",
      "100%|██████████| 1/1 [00:00<00:00, 422.98it/s]\n",
      "100%|██████████| 2/2 [00:00<00:00, 605.54it/s]\n",
      "100%|██████████| 5/5 [00:00<00:00, 588.79it/s]\n",
      "100%|██████████| 10/10 [00:00<00:00, 744.04it/s]\n",
      "100%|██████████| 20/20 [00:00<00:00, 1104.91it/s]\n",
      "100%|██████████| 50/50 [00:00<00:00, 1277.93it/s]\n",
      "  0%|          | 0/100 [00:00<?, ?it/s]"
     ]
    },
    {
     "name": "stdout",
     "output_type": "stream",
     "text": [
      "Average error percentage: 42.023\n",
      "Theoretical error percentage: 41.19244763735692\n",
      "Forming weight matrix...\n",
      "Testing memory recall...\n",
      "Average error percentage: 0.0\n",
      "Theoretical error percentage: 0.0\n",
      "Forming weight matrix...\n",
      "Testing memory recall...\n",
      "Average error percentage: 0.0\n",
      "Theoretical error percentage: 9.918588689536384e-11\n",
      "Forming weight matrix...\n",
      "Testing memory recall...\n",
      "Average error percentage: 0.0\n",
      "Theoretical error percentage: 0.021756040588239132\n",
      "Forming weight matrix...\n",
      "Testing memory recall...\n",
      "Average error percentage: 1.3\n",
      "Theoretical error percentage: 0.95082368723994\n",
      "Forming weight matrix...\n",
      "Testing memory recall...\n",
      "Average error percentage: 7.25\n",
      "Theoretical error percentage: 5.325473815162926\n",
      "Forming weight matrix...\n",
      "Testing memory recall...\n",
      "Average error percentage: 17.68\n",
      "Theoretical error percentage: 15.742697620578861\n",
      "Forming weight matrix...\n",
      "Testing memory recall...\n"
     ]
    },
    {
     "name": "stderr",
     "output_type": "stream",
     "text": [
      "100%|██████████| 100/100 [00:00<00:00, 460.05it/s]\n",
      "100%|██████████| 200/200 [00:00<00:00, 1474.55it/s]\n",
      "  0%|          | 0/500 [00:00<?, ?it/s]"
     ]
    },
    {
     "name": "stdout",
     "output_type": "stream",
     "text": [
      "Average error percentage: 27.28\n",
      "Theoretical error percentage: 23.97500611156682\n",
      "Forming weight matrix...\n",
      "Testing memory recall...\n",
      "Average error percentage: 31.3\n",
      "Theoretical error percentage: 30.898052808211517\n",
      "Forming weight matrix...\n",
      "Testing memory recall...\n"
     ]
    },
    {
     "name": "stderr",
     "output_type": "stream",
     "text": [
      "100%|██████████| 500/500 [00:00<00:00, 831.02it/s]\n",
      " 14%|█▎        | 136/1000 [00:00<00:00, 1357.50it/s]"
     ]
    },
    {
     "name": "stdout",
     "output_type": "stream",
     "text": [
      "Average error percentage: 38.778\n",
      "Theoretical error percentage: 37.639685899007844\n",
      "Forming weight matrix...\n",
      "Testing memory recall...\n"
     ]
    },
    {
     "name": "stderr",
     "output_type": "stream",
     "text": [
      "100%|██████████| 1000/1000 [00:00<00:00, 1118.46it/s]\n",
      "100%|██████████| 1/1 [00:00<00:00, 234.48it/s]\n",
      "100%|██████████| 2/2 [00:00<00:00, 248.51it/s]\n",
      "100%|██████████| 5/5 [00:00<00:00, 439.91it/s]\n",
      "100%|██████████| 10/10 [00:00<00:00, 551.69it/s]\n",
      "100%|██████████| 20/20 [00:00<00:00, 655.84it/s]\n",
      "  0%|          | 0/50 [00:00<?, ?it/s]"
     ]
    },
    {
     "name": "stdout",
     "output_type": "stream",
     "text": [
      "Average error percentage: 42.25\n",
      "Theoretical error percentage: 41.19244763735692\n",
      "Forming weight matrix...\n",
      "Testing memory recall...\n",
      "Average error percentage: 0.0\n",
      "Theoretical error percentage: 0.0\n",
      "Forming weight matrix...\n",
      "Testing memory recall...\n",
      "Average error percentage: 0.0\n",
      "Theoretical error percentage: 9.918588689536384e-11\n",
      "Forming weight matrix...\n",
      "Testing memory recall...\n",
      "Average error percentage: 2.4\n",
      "Theoretical error percentage: 0.021756040588239132\n",
      "Forming weight matrix...\n",
      "Testing memory recall...\n",
      "Average error percentage: 2.6\n",
      "Theoretical error percentage: 0.95082368723994\n",
      "Forming weight matrix...\n",
      "Testing memory recall...\n",
      "Average error percentage: 8.55\n",
      "Theoretical error percentage: 5.325473815162926\n",
      "Forming weight matrix...\n",
      "Testing memory recall...\n"
     ]
    },
    {
     "name": "stderr",
     "output_type": "stream",
     "text": [
      "100%|██████████| 50/50 [00:00<00:00, 872.36it/s]\n",
      "100%|██████████| 100/100 [00:00<00:00, 1243.83it/s]\n",
      "  0%|          | 0/200 [00:00<?, ?it/s]"
     ]
    },
    {
     "name": "stdout",
     "output_type": "stream",
     "text": [
      "Average error percentage: 20.54\n",
      "Theoretical error percentage: 15.742697620578861\n",
      "Forming weight matrix...\n",
      "Testing memory recall...\n",
      "Average error percentage: 28.42\n",
      "Theoretical error percentage: 23.97500611156682\n",
      "Forming weight matrix...\n",
      "Testing memory recall...\n"
     ]
    },
    {
     "name": "stderr",
     "output_type": "stream",
     "text": [
      "100%|██████████| 200/200 [00:00<00:00, 928.82it/s]\n",
      " 18%|█▊        | 89/500 [00:00<00:00, 889.77it/s]"
     ]
    },
    {
     "name": "stdout",
     "output_type": "stream",
     "text": [
      "Average error percentage: 36.015\n",
      "Theoretical error percentage: 30.898052808211517\n",
      "Forming weight matrix...\n",
      "Testing memory recall...\n"
     ]
    },
    {
     "name": "stderr",
     "output_type": "stream",
     "text": [
      "100%|██████████| 500/500 [00:00<00:00, 911.64it/s]\n",
      "  9%|▉         | 91/1000 [00:00<00:01, 905.83it/s]"
     ]
    },
    {
     "name": "stdout",
     "output_type": "stream",
     "text": [
      "Average error percentage: 39.488\n",
      "Theoretical error percentage: 37.639685899007844\n",
      "Forming weight matrix...\n",
      "Testing memory recall...\n"
     ]
    },
    {
     "name": "stderr",
     "output_type": "stream",
     "text": [
      "100%|██████████| 1000/1000 [00:00<00:00, 1074.42it/s]\n",
      "100%|██████████| 1/1 [00:00<00:00, 298.27it/s]\n",
      "100%|██████████| 2/2 [00:00<00:00, 627.75it/s]\n",
      "100%|██████████| 5/5 [00:00<00:00, 635.40it/s]\n",
      "100%|██████████| 10/10 [00:00<00:00, 960.15it/s]\n",
      "100%|██████████| 20/20 [00:00<00:00, 983.44it/s]\n",
      "100%|██████████| 50/50 [00:00<00:00, 1315.93it/s]\n",
      "  0%|          | 0/100 [00:00<?, ?it/s]"
     ]
    },
    {
     "name": "stdout",
     "output_type": "stream",
     "text": [
      "Average error percentage: 42.536\n",
      "Theoretical error percentage: 41.19244763735692\n",
      "Forming weight matrix...\n",
      "Testing memory recall...\n",
      "Average error percentage: 0.0\n",
      "Theoretical error percentage: 0.0\n",
      "Forming weight matrix...\n",
      "Testing memory recall...\n",
      "Average error percentage: 0.0\n",
      "Theoretical error percentage: 9.918588689536384e-11\n",
      "Forming weight matrix...\n",
      "Testing memory recall...\n",
      "Average error percentage: 1.8\n",
      "Theoretical error percentage: 0.021756040588239132\n",
      "Forming weight matrix...\n",
      "Testing memory recall...\n",
      "Average error percentage: 10.6\n",
      "Theoretical error percentage: 0.95082368723994\n",
      "Forming weight matrix...\n",
      "Testing memory recall...\n",
      "Average error percentage: 16.45\n",
      "Theoretical error percentage: 5.325473815162926\n",
      "Forming weight matrix...\n",
      "Testing memory recall...\n",
      "Average error percentage: 27.46\n",
      "Theoretical error percentage: 15.742697620578861\n",
      "Forming weight matrix...\n",
      "Testing memory recall...\n"
     ]
    },
    {
     "name": "stderr",
     "output_type": "stream",
     "text": [
      "100%|██████████| 100/100 [00:00<00:00, 1222.55it/s]\n",
      " 39%|███▉      | 78/200 [00:00<00:00, 779.51it/s]"
     ]
    },
    {
     "name": "stdout",
     "output_type": "stream",
     "text": [
      "Average error percentage: 32.63\n",
      "Theoretical error percentage: 23.97500611156682\n",
      "Forming weight matrix...\n",
      "Testing memory recall...\n"
     ]
    },
    {
     "name": "stderr",
     "output_type": "stream",
     "text": [
      "100%|██████████| 200/200 [00:00<00:00, 925.60it/s]\n",
      " 16%|█▌        | 79/500 [00:00<00:00, 789.97it/s]"
     ]
    },
    {
     "name": "stdout",
     "output_type": "stream",
     "text": [
      "Average error percentage: 38.9\n",
      "Theoretical error percentage: 30.898052808211517\n",
      "Forming weight matrix...\n",
      "Testing memory recall...\n"
     ]
    },
    {
     "name": "stderr",
     "output_type": "stream",
     "text": [
      "100%|██████████| 500/500 [00:00<00:00, 1129.63it/s]\n",
      " 13%|█▎        | 131/1000 [00:00<00:00, 1299.62it/s]"
     ]
    },
    {
     "name": "stdout",
     "output_type": "stream",
     "text": [
      "Average error percentage: 41.8\n",
      "Theoretical error percentage: 37.639685899007844\n",
      "Forming weight matrix...\n",
      "Testing memory recall...\n"
     ]
    },
    {
     "name": "stderr",
     "output_type": "stream",
     "text": [
      "100%|██████████| 1000/1000 [00:00<00:00, 1354.60it/s]\n",
      "100%|██████████| 1/1 [00:00<00:00, 265.19it/s]\n",
      "100%|██████████| 2/2 [00:00<00:00, 453.93it/s]\n",
      "100%|██████████| 5/5 [00:00<00:00, 878.24it/s]\n",
      "100%|██████████| 10/10 [00:00<00:00, 987.75it/s]\n",
      "100%|██████████| 20/20 [00:00<00:00, 1157.62it/s]\n",
      "100%|██████████| 50/50 [00:00<00:00, 1364.00it/s]\n",
      "  0%|          | 0/100 [00:00<?, ?it/s]"
     ]
    },
    {
     "name": "stdout",
     "output_type": "stream",
     "text": [
      "Average error percentage: 44.784\n",
      "Theoretical error percentage: 41.19244763735692\n",
      "Forming weight matrix...\n",
      "Testing memory recall...\n",
      "Average error percentage: 100.0\n",
      "Theoretical error percentage: 0.0\n",
      "Forming weight matrix...\n",
      "Testing memory recall...\n",
      "Average error percentage: 77.0\n",
      "Theoretical error percentage: 9.918588689536384e-11\n",
      "Forming weight matrix...\n",
      "Testing memory recall...\n",
      "Average error percentage: 57.6\n",
      "Theoretical error percentage: 0.021756040588239132\n",
      "Forming weight matrix...\n",
      "Testing memory recall...\n",
      "Average error percentage: 55.2\n",
      "Theoretical error percentage: 0.95082368723994\n",
      "Forming weight matrix...\n",
      "Testing memory recall...\n",
      "Average error percentage: 49.65\n",
      "Theoretical error percentage: 5.325473815162926\n",
      "Forming weight matrix...\n",
      "Testing memory recall...\n",
      "Average error percentage: 49.76\n",
      "Theoretical error percentage: 15.742697620578861\n",
      "Forming weight matrix...\n",
      "Testing memory recall...\n"
     ]
    },
    {
     "name": "stderr",
     "output_type": "stream",
     "text": [
      "100%|██████████| 100/100 [00:00<00:00, 1293.69it/s]\n",
      "100%|██████████| 200/200 [00:00<00:00, 1328.10it/s]\n"
     ]
    },
    {
     "name": "stdout",
     "output_type": "stream",
     "text": [
      "Average error percentage: 48.84\n",
      "Theoretical error percentage: 23.97500611156682\n",
      "Forming weight matrix...\n",
      "Testing memory recall...\n",
      "Average error percentage: 50.165\n",
      "Theoretical error percentage: 30.898052808211517\n",
      "Forming weight matrix...\n"
     ]
    },
    {
     "name": "stderr",
     "output_type": "stream",
     "text": [
      " 27%|██▋       | 135/500 [00:00<00:00, 1347.04it/s]"
     ]
    },
    {
     "name": "stdout",
     "output_type": "stream",
     "text": [
      "Testing memory recall...\n"
     ]
    },
    {
     "name": "stderr",
     "output_type": "stream",
     "text": [
      "100%|██████████| 500/500 [00:00<00:00, 1290.12it/s]\n",
      " 15%|█▍        | 147/1000 [00:00<00:00, 1464.99it/s]"
     ]
    },
    {
     "name": "stdout",
     "output_type": "stream",
     "text": [
      "Average error percentage: 50.452\n",
      "Theoretical error percentage: 37.639685899007844\n",
      "Forming weight matrix...\n",
      "Testing memory recall...\n"
     ]
    },
    {
     "name": "stderr",
     "output_type": "stream",
     "text": [
      "100%|██████████| 1000/1000 [00:00<00:00, 1161.98it/s]\n",
      "100%|██████████| 1/1 [00:00<00:00, 648.47it/s]\n",
      "100%|██████████| 2/2 [00:00<00:00, 574.88it/s]\n",
      "100%|██████████| 5/5 [00:00<00:00, 590.25it/s]\n",
      "100%|██████████| 10/10 [00:00<00:00, 756.60it/s]\n",
      "100%|██████████| 20/20 [00:00<00:00, 744.69it/s]\n",
      "100%|██████████| 50/50 [00:00<00:00, 1038.45it/s]\n",
      "  0%|          | 0/100 [00:00<?, ?it/s]"
     ]
    },
    {
     "name": "stdout",
     "output_type": "stream",
     "text": [
      "Average error percentage: 50.167\n",
      "Theoretical error percentage: 41.19244763735692\n",
      "Forming weight matrix...\n",
      "Testing memory recall...\n",
      "Average error percentage: 100.0\n",
      "Theoretical error percentage: 0.0\n",
      "Forming weight matrix...\n",
      "Testing memory recall...\n",
      "Average error percentage: 100.0\n",
      "Theoretical error percentage: 9.918588689536384e-11\n",
      "Forming weight matrix...\n",
      "Testing memory recall...\n",
      "Average error percentage: 99.8\n",
      "Theoretical error percentage: 0.021756040588239132\n",
      "Forming weight matrix...\n",
      "Testing memory recall...\n",
      "Average error percentage: 86.9\n",
      "Theoretical error percentage: 0.95082368723994\n",
      "Forming weight matrix...\n",
      "Testing memory recall...\n",
      "Average error percentage: 86.25\n",
      "Theoretical error percentage: 5.325473815162926\n",
      "Forming weight matrix...\n",
      "Testing memory recall...\n",
      "Average error percentage: 72.24\n",
      "Theoretical error percentage: 15.742697620578861\n",
      "Forming weight matrix...\n",
      "Testing memory recall...\n"
     ]
    },
    {
     "name": "stderr",
     "output_type": "stream",
     "text": [
      "100%|██████████| 100/100 [00:00<00:00, 1306.86it/s]\n",
      "100%|██████████| 200/200 [00:00<00:00, 1200.34it/s]\n"
     ]
    },
    {
     "name": "stdout",
     "output_type": "stream",
     "text": [
      "Average error percentage: 66.78\n",
      "Theoretical error percentage: 23.97500611156682\n",
      "Forming weight matrix...\n",
      "Testing memory recall...\n",
      "Average error percentage: 62.09\n",
      "Theoretical error percentage: 30.898052808211517\n",
      "Forming weight matrix...\n"
     ]
    },
    {
     "name": "stderr",
     "output_type": "stream",
     "text": [
      " 51%|█████     | 253/500 [00:00<00:00, 1263.53it/s]"
     ]
    },
    {
     "name": "stdout",
     "output_type": "stream",
     "text": [
      "Testing memory recall...\n"
     ]
    },
    {
     "name": "stderr",
     "output_type": "stream",
     "text": [
      "100%|██████████| 500/500 [00:00<00:00, 1310.55it/s]\n",
      " 15%|█▌        | 151/1000 [00:00<00:00, 1508.43it/s]"
     ]
    },
    {
     "name": "stdout",
     "output_type": "stream",
     "text": [
      "Average error percentage: 56.936\n",
      "Theoretical error percentage: 37.639685899007844\n",
      "Forming weight matrix...\n",
      "Testing memory recall...\n"
     ]
    },
    {
     "name": "stderr",
     "output_type": "stream",
     "text": [
      "100%|██████████| 1000/1000 [00:00<00:00, 1206.44it/s]\n",
      "100%|██████████| 1/1 [00:00<00:00, 703.15it/s]\n",
      "100%|██████████| 2/2 [00:00<00:00, 292.87it/s]\n",
      "100%|██████████| 5/5 [00:00<00:00, 481.37it/s]\n",
      "100%|██████████| 10/10 [00:00<00:00, 1002.32it/s]\n",
      "100%|██████████| 20/20 [00:00<00:00, 1250.78it/s]\n",
      "100%|██████████| 50/50 [00:00<00:00, 1302.35it/s]\n",
      "  0%|          | 0/100 [00:00<?, ?it/s]"
     ]
    },
    {
     "name": "stdout",
     "output_type": "stream",
     "text": [
      "Average error percentage: 55.363\n",
      "Theoretical error percentage: 41.19244763735692\n",
      "Forming weight matrix...\n",
      "Testing memory recall...\n",
      "Average error percentage: 100.0\n",
      "Theoretical error percentage: 0.0\n",
      "Forming weight matrix...\n",
      "Testing memory recall...\n",
      "Average error percentage: 100.0\n",
      "Theoretical error percentage: 9.918588689536384e-11\n",
      "Forming weight matrix...\n",
      "Testing memory recall...\n",
      "Average error percentage: 98.4\n",
      "Theoretical error percentage: 0.021756040588239132\n",
      "Forming weight matrix...\n",
      "Testing memory recall...\n",
      "Average error percentage: 96.3\n",
      "Theoretical error percentage: 0.95082368723994\n",
      "Forming weight matrix...\n",
      "Testing memory recall...\n",
      "Average error percentage: 92.9\n",
      "Theoretical error percentage: 5.325473815162926\n",
      "Forming weight matrix...\n",
      "Testing memory recall...\n",
      "Average error percentage: 77.9\n",
      "Theoretical error percentage: 15.742697620578861\n",
      "Forming weight matrix...\n",
      "Testing memory recall...\n"
     ]
    },
    {
     "name": "stderr",
     "output_type": "stream",
     "text": [
      "100%|██████████| 100/100 [00:00<00:00, 1405.62it/s]\n",
      "100%|██████████| 200/200 [00:00<00:00, 1377.02it/s]\n",
      "  0%|          | 0/500 [00:00<?, ?it/s]"
     ]
    },
    {
     "name": "stdout",
     "output_type": "stream",
     "text": [
      "Average error percentage: 73.31\n",
      "Theoretical error percentage: 23.97500611156682\n",
      "Forming weight matrix...\n",
      "Testing memory recall...\n",
      "Average error percentage: 65.02\n",
      "Theoretical error percentage: 30.898052808211517\n",
      "Forming weight matrix...\n",
      "Testing memory recall...\n"
     ]
    },
    {
     "name": "stderr",
     "output_type": "stream",
     "text": [
      "100%|██████████| 500/500 [00:00<00:00, 1197.34it/s]\n",
      " 12%|█▏        | 121/1000 [00:00<00:00, 1203.35it/s]"
     ]
    },
    {
     "name": "stdout",
     "output_type": "stream",
     "text": [
      "Average error percentage: 59.932\n",
      "Theoretical error percentage: 37.639685899007844\n",
      "Forming weight matrix...\n",
      "Testing memory recall...\n"
     ]
    },
    {
     "name": "stderr",
     "output_type": "stream",
     "text": [
      "100%|██████████| 1000/1000 [00:00<00:00, 1295.51it/s]\n",
      "100%|██████████| 1/1 [00:00<00:00, 268.68it/s]\n",
      "100%|██████████| 2/2 [00:00<00:00, 559.13it/s]\n",
      "100%|██████████| 5/5 [00:00<00:00, 866.56it/s]\n",
      "100%|██████████| 10/10 [00:00<00:00, 1074.11it/s]\n",
      "100%|██████████| 20/20 [00:00<00:00, 1152.80it/s]\n",
      "100%|██████████| 50/50 [00:00<00:00, 1307.46it/s]\n",
      "  0%|          | 0/100 [00:00<?, ?it/s]"
     ]
    },
    {
     "name": "stdout",
     "output_type": "stream",
     "text": [
      "Average error percentage: 57.657\n",
      "Theoretical error percentage: 41.19244763735692\n",
      "Forming weight matrix...\n",
      "Testing memory recall...\n",
      "Average error percentage: 100.0\n",
      "Theoretical error percentage: 0.0\n",
      "Forming weight matrix...\n",
      "Testing memory recall...\n",
      "Average error percentage: 100.0\n",
      "Theoretical error percentage: 9.918588689536384e-11\n",
      "Forming weight matrix...\n",
      "Testing memory recall...\n",
      "Average error percentage: 100.0\n",
      "Theoretical error percentage: 0.021756040588239132\n",
      "Forming weight matrix...\n",
      "Testing memory recall...\n",
      "Average error percentage: 99.3\n",
      "Theoretical error percentage: 0.95082368723994\n",
      "Forming weight matrix...\n",
      "Testing memory recall...\n",
      "Average error percentage: 94.75\n",
      "Theoretical error percentage: 5.325473815162926\n",
      "Forming weight matrix...\n",
      "Testing memory recall...\n",
      "Average error percentage: 83.7\n",
      "Theoretical error percentage: 15.742697620578861\n",
      "Forming weight matrix...\n",
      "Testing memory recall...\n"
     ]
    },
    {
     "name": "stderr",
     "output_type": "stream",
     "text": [
      "100%|██████████| 100/100 [00:00<00:00, 1451.63it/s]\n",
      "100%|██████████| 200/200 [00:00<00:00, 1310.40it/s]\n"
     ]
    },
    {
     "name": "stdout",
     "output_type": "stream",
     "text": [
      "Average error percentage: 76.04\n",
      "Theoretical error percentage: 23.97500611156682\n",
      "Forming weight matrix...\n",
      "Testing memory recall...\n",
      "Average error percentage: 67.64\n",
      "Theoretical error percentage: 30.898052808211517\n",
      "Forming weight matrix...\n"
     ]
    },
    {
     "name": "stderr",
     "output_type": "stream",
     "text": [
      " 25%|██▌       | 127/500 [00:00<00:00, 1251.45it/s]"
     ]
    },
    {
     "name": "stdout",
     "output_type": "stream",
     "text": [
      "Testing memory recall...\n"
     ]
    },
    {
     "name": "stderr",
     "output_type": "stream",
     "text": [
      "100%|██████████| 500/500 [00:00<00:00, 1247.31it/s]\n",
      " 10%|█         | 101/1000 [00:00<00:00, 1003.57it/s]"
     ]
    },
    {
     "name": "stdout",
     "output_type": "stream",
     "text": [
      "Average error percentage: 63.108\n",
      "Theoretical error percentage: 37.639685899007844\n",
      "Forming weight matrix...\n",
      "Testing memory recall...\n"
     ]
    },
    {
     "name": "stderr",
     "output_type": "stream",
     "text": [
      "100%|██████████| 1000/1000 [00:00<00:00, 1211.55it/s]\n",
      "100%|██████████| 1/1 [00:00<00:00, 470.79it/s]\n",
      "100%|██████████| 2/2 [00:00<00:00, 377.36it/s]\n",
      "100%|██████████| 5/5 [00:00<00:00, 800.53it/s]\n",
      "100%|██████████| 10/10 [00:00<00:00, 709.73it/s]\n",
      "100%|██████████| 20/20 [00:00<00:00, 1043.24it/s]\n",
      "100%|██████████| 50/50 [00:00<00:00, 1406.55it/s]\n",
      "  0%|          | 0/100 [00:00<?, ?it/s]"
     ]
    },
    {
     "name": "stdout",
     "output_type": "stream",
     "text": [
      "Average error percentage: 59.114\n",
      "Theoretical error percentage: 41.19244763735692\n",
      "Forming weight matrix...\n",
      "Testing memory recall...\n",
      "Average error percentage: 0.0\n",
      "Theoretical error percentage: 0.0\n",
      "Forming weight matrix...\n",
      "Testing memory recall...\n",
      "Average error percentage: 0.0\n",
      "Theoretical error percentage: 9.918588689536384e-11\n",
      "Forming weight matrix...\n",
      "Testing memory recall...\n",
      "Average error percentage: 0.0\n",
      "Theoretical error percentage: 0.021756040588239132\n",
      "Forming weight matrix...\n",
      "Testing memory recall...\n",
      "Average error percentage: 0.4\n",
      "Theoretical error percentage: 0.95082368723994\n",
      "Forming weight matrix...\n",
      "Testing memory recall...\n",
      "Average error percentage: 5.2\n",
      "Theoretical error percentage: 5.325473815162926\n",
      "Forming weight matrix...\n",
      "Testing memory recall...\n",
      "Average error percentage: 15.44\n",
      "Theoretical error percentage: 15.742697620578861\n",
      "Forming weight matrix...\n",
      "Testing memory recall...\n"
     ]
    },
    {
     "name": "stderr",
     "output_type": "stream",
     "text": [
      "100%|██████████| 100/100 [00:00<00:00, 1185.48it/s]\n",
      "100%|██████████| 200/200 [00:00<00:00, 1202.15it/s]\n"
     ]
    },
    {
     "name": "stdout",
     "output_type": "stream",
     "text": [
      "Average error percentage: 24.31\n",
      "Theoretical error percentage: 23.97500611156682\n",
      "Forming weight matrix...\n",
      "Testing memory recall...\n",
      "Average error percentage: 31.47\n",
      "Theoretical error percentage: 30.898052808211517\n",
      "Forming weight matrix...\n"
     ]
    },
    {
     "name": "stderr",
     "output_type": "stream",
     "text": [
      " 23%|██▎       | 114/500 [00:00<00:00, 1135.33it/s]"
     ]
    },
    {
     "name": "stdout",
     "output_type": "stream",
     "text": [
      "Testing memory recall...\n"
     ]
    },
    {
     "name": "stderr",
     "output_type": "stream",
     "text": [
      "100%|██████████| 500/500 [00:00<00:00, 1078.54it/s]\n",
      " 14%|█▍        | 142/1000 [00:00<00:00, 1411.18it/s]"
     ]
    },
    {
     "name": "stdout",
     "output_type": "stream",
     "text": [
      "Average error percentage: 37.872\n",
      "Theoretical error percentage: 37.639685899007844\n",
      "Forming weight matrix...\n",
      "Testing memory recall...\n"
     ]
    },
    {
     "name": "stderr",
     "output_type": "stream",
     "text": [
      "100%|██████████| 1000/1000 [00:00<00:00, 1326.84it/s]\n",
      "100%|██████████| 1/1 [00:00<00:00, 224.73it/s]\n",
      "100%|██████████| 2/2 [00:00<00:00, 641.67it/s]\n",
      "100%|██████████| 5/5 [00:00<00:00, 911.92it/s]\n",
      "100%|██████████| 10/10 [00:00<00:00, 862.05it/s]\n",
      "100%|██████████| 20/20 [00:00<00:00, 1105.10it/s]\n",
      "100%|██████████| 50/50 [00:00<00:00, 1327.67it/s]\n",
      "  0%|          | 0/100 [00:00<?, ?it/s]"
     ]
    },
    {
     "name": "stdout",
     "output_type": "stream",
     "text": [
      "Average error percentage: 41.161\n",
      "Theoretical error percentage: 41.19244763735692\n",
      "Forming weight matrix...\n",
      "Testing memory recall...\n",
      "Average error percentage: 0.0\n",
      "Theoretical error percentage: 0.0\n",
      "Forming weight matrix...\n",
      "Testing memory recall...\n",
      "Average error percentage: 0.0\n",
      "Theoretical error percentage: 9.918588689536384e-11\n",
      "Forming weight matrix...\n",
      "Testing memory recall...\n",
      "Average error percentage: 0.0\n",
      "Theoretical error percentage: 0.021756040588239132\n",
      "Forming weight matrix...\n",
      "Testing memory recall...\n",
      "Average error percentage: 0.2\n",
      "Theoretical error percentage: 0.95082368723994\n",
      "Forming weight matrix...\n",
      "Testing memory recall...\n",
      "Average error percentage: 7.15\n",
      "Theoretical error percentage: 5.325473815162926\n",
      "Forming weight matrix...\n",
      "Testing memory recall...\n",
      "Average error percentage: 16.04\n",
      "Theoretical error percentage: 15.742697620578861\n",
      "Forming weight matrix...\n",
      "Testing memory recall...\n"
     ]
    },
    {
     "name": "stderr",
     "output_type": "stream",
     "text": [
      "100%|██████████| 100/100 [00:00<00:00, 1218.46it/s]\n",
      "100%|██████████| 200/200 [00:00<00:00, 1408.60it/s]\n",
      "  0%|          | 0/500 [00:00<?, ?it/s]"
     ]
    },
    {
     "name": "stdout",
     "output_type": "stream",
     "text": [
      "Average error percentage: 24.48\n",
      "Theoretical error percentage: 23.97500611156682\n",
      "Forming weight matrix...\n",
      "Testing memory recall...\n",
      "Average error percentage: 32.55\n",
      "Theoretical error percentage: 30.898052808211517\n",
      "Forming weight matrix...\n",
      "Testing memory recall...\n"
     ]
    },
    {
     "name": "stderr",
     "output_type": "stream",
     "text": [
      "100%|██████████| 500/500 [00:00<00:00, 1357.23it/s]\n",
      " 15%|█▌        | 150/1000 [00:00<00:00, 1491.34it/s]"
     ]
    },
    {
     "name": "stdout",
     "output_type": "stream",
     "text": [
      "Average error percentage: 37.968\n",
      "Theoretical error percentage: 37.639685899007844\n",
      "Forming weight matrix...\n",
      "Testing memory recall...\n"
     ]
    },
    {
     "name": "stderr",
     "output_type": "stream",
     "text": [
      "100%|██████████| 1000/1000 [00:00<00:00, 1325.09it/s]\n",
      "100%|██████████| 1/1 [00:00<00:00, 480.50it/s]\n",
      "100%|██████████| 2/2 [00:00<00:00, 468.06it/s]\n",
      "100%|██████████| 5/5 [00:00<00:00, 723.48it/s]\n",
      "100%|██████████| 10/10 [00:00<00:00, 697.83it/s]\n",
      "100%|██████████| 20/20 [00:00<00:00, 1145.81it/s]\n",
      "100%|██████████| 50/50 [00:00<00:00, 1419.25it/s]\n",
      "  0%|          | 0/100 [00:00<?, ?it/s]"
     ]
    },
    {
     "name": "stdout",
     "output_type": "stream",
     "text": [
      "Average error percentage: 41.879\n",
      "Theoretical error percentage: 41.19244763735692\n",
      "Forming weight matrix...\n",
      "Testing memory recall...\n",
      "Average error percentage: 0.0\n",
      "Theoretical error percentage: 0.0\n",
      "Forming weight matrix...\n",
      "Testing memory recall...\n",
      "Average error percentage: 0.0\n",
      "Theoretical error percentage: 9.918588689536384e-11\n",
      "Forming weight matrix...\n",
      "Testing memory recall...\n",
      "Average error percentage: 0.2\n",
      "Theoretical error percentage: 0.021756040588239132\n",
      "Forming weight matrix...\n",
      "Testing memory recall...\n",
      "Average error percentage: 1.1\n",
      "Theoretical error percentage: 0.95082368723994\n",
      "Forming weight matrix...\n",
      "Testing memory recall...\n",
      "Average error percentage: 5.1\n",
      "Theoretical error percentage: 5.325473815162926\n",
      "Forming weight matrix...\n",
      "Testing memory recall...\n",
      "Average error percentage: 24.08\n",
      "Theoretical error percentage: 15.742697620578861\n",
      "Forming weight matrix...\n",
      "Testing memory recall...\n"
     ]
    },
    {
     "name": "stderr",
     "output_type": "stream",
     "text": [
      "100%|██████████| 100/100 [00:00<00:00, 1460.66it/s]\n",
      " 52%|█████▏    | 103/200 [00:00<00:00, 1009.50it/s]"
     ]
    },
    {
     "name": "stdout",
     "output_type": "stream",
     "text": [
      "Average error percentage: 23.87\n",
      "Theoretical error percentage: 23.97500611156682\n",
      "Forming weight matrix...\n",
      "Testing memory recall...\n"
     ]
    },
    {
     "name": "stderr",
     "output_type": "stream",
     "text": [
      "100%|██████████| 200/200 [00:00<00:00, 997.46it/s] \n",
      " 21%|██        | 105/500 [00:00<00:00, 1049.69it/s]"
     ]
    },
    {
     "name": "stdout",
     "output_type": "stream",
     "text": [
      "Average error percentage: 32.69\n",
      "Theoretical error percentage: 30.898052808211517\n",
      "Forming weight matrix...\n",
      "Testing memory recall...\n"
     ]
    },
    {
     "name": "stderr",
     "output_type": "stream",
     "text": [
      "100%|██████████| 500/500 [00:00<00:00, 1272.34it/s]\n",
      " 16%|█▌        | 155/1000 [00:00<00:00, 1541.03it/s]"
     ]
    },
    {
     "name": "stdout",
     "output_type": "stream",
     "text": [
      "Average error percentage: 39.32\n",
      "Theoretical error percentage: 37.639685899007844\n",
      "Forming weight matrix...\n",
      "Testing memory recall...\n"
     ]
    },
    {
     "name": "stderr",
     "output_type": "stream",
     "text": [
      "100%|██████████| 1000/1000 [00:00<00:00, 1317.64it/s]\n",
      "100%|██████████| 1/1 [00:00<00:00, 243.43it/s]\n",
      "100%|██████████| 2/2 [00:00<00:00, 860.99it/s]\n",
      "100%|██████████| 5/5 [00:00<00:00, 406.72it/s]\n",
      "100%|██████████| 10/10 [00:00<00:00, 885.75it/s]\n",
      "100%|██████████| 20/20 [00:00<00:00, 1073.82it/s]\n",
      "100%|██████████| 50/50 [00:00<00:00, 1252.94it/s]\n",
      "  0%|          | 0/100 [00:00<?, ?it/s]"
     ]
    },
    {
     "name": "stdout",
     "output_type": "stream",
     "text": [
      "Average error percentage: 42.053\n",
      "Theoretical error percentage: 41.19244763735692\n",
      "Forming weight matrix...\n",
      "Testing memory recall...\n",
      "Average error percentage: 0.0\n",
      "Theoretical error percentage: 0.0\n",
      "Forming weight matrix...\n",
      "Testing memory recall...\n",
      "Average error percentage: 0.0\n",
      "Theoretical error percentage: 9.918588689536384e-11\n",
      "Forming weight matrix...\n",
      "Testing memory recall...\n",
      "Average error percentage: 2.0\n",
      "Theoretical error percentage: 0.021756040588239132\n",
      "Forming weight matrix...\n",
      "Testing memory recall...\n",
      "Average error percentage: 3.2\n",
      "Theoretical error percentage: 0.95082368723994\n",
      "Forming weight matrix...\n",
      "Testing memory recall...\n",
      "Average error percentage: 8.7\n",
      "Theoretical error percentage: 5.325473815162926\n",
      "Forming weight matrix...\n",
      "Testing memory recall...\n",
      "Average error percentage: 20.62\n",
      "Theoretical error percentage: 15.742697620578861\n",
      "Forming weight matrix...\n",
      "Testing memory recall...\n"
     ]
    },
    {
     "name": "stderr",
     "output_type": "stream",
     "text": [
      "100%|██████████| 100/100 [00:00<00:00, 1329.42it/s]\n",
      "100%|██████████| 200/200 [00:00<00:00, 1401.90it/s]\n",
      "  0%|          | 0/500 [00:00<?, ?it/s]"
     ]
    },
    {
     "name": "stdout",
     "output_type": "stream",
     "text": [
      "Average error percentage: 28.7\n",
      "Theoretical error percentage: 23.97500611156682\n",
      "Forming weight matrix...\n",
      "Testing memory recall...\n",
      "Average error percentage: 34.095\n",
      "Theoretical error percentage: 30.898052808211517\n",
      "Forming weight matrix...\n",
      "Testing memory recall...\n"
     ]
    },
    {
     "name": "stderr",
     "output_type": "stream",
     "text": [
      "100%|██████████| 500/500 [00:00<00:00, 1345.87it/s]\n",
      " 14%|█▍        | 145/1000 [00:00<00:00, 1441.41it/s]"
     ]
    },
    {
     "name": "stdout",
     "output_type": "stream",
     "text": [
      "Average error percentage: 40.37\n",
      "Theoretical error percentage: 37.639685899007844\n",
      "Forming weight matrix...\n",
      "Testing memory recall...\n"
     ]
    },
    {
     "name": "stderr",
     "output_type": "stream",
     "text": [
      "100%|██████████| 1000/1000 [00:00<00:00, 1461.12it/s]\n",
      "100%|██████████| 1/1 [00:00<00:00, 567.18it/s]\n",
      "100%|██████████| 2/2 [00:00<00:00, 755.87it/s]\n",
      "100%|██████████| 5/5 [00:00<00:00, 803.23it/s]\n",
      "100%|██████████| 10/10 [00:00<00:00, 1115.80it/s]\n",
      "100%|██████████| 20/20 [00:00<00:00, 1221.89it/s]\n",
      "100%|██████████| 50/50 [00:00<00:00, 1402.52it/s]\n",
      "100%|██████████| 100/100 [00:00<00:00, 1401.11it/s]"
     ]
    },
    {
     "name": "stdout",
     "output_type": "stream",
     "text": [
      "Average error percentage: 43.304\n",
      "Theoretical error percentage: 41.19244763735692\n",
      "Forming weight matrix...\n",
      "Testing memory recall...\n",
      "Average error percentage: 0.0\n",
      "Theoretical error percentage: 0.0\n",
      "Forming weight matrix...\n",
      "Testing memory recall...\n",
      "Average error percentage: 0.0\n",
      "Theoretical error percentage: 9.918588689536384e-11\n",
      "Forming weight matrix...\n",
      "Testing memory recall...\n",
      "Average error percentage: 5.4\n",
      "Theoretical error percentage: 0.021756040588239132\n",
      "Forming weight matrix...\n",
      "Testing memory recall...\n",
      "Average error percentage: 4.9\n",
      "Theoretical error percentage: 0.95082368723994\n",
      "Forming weight matrix...\n",
      "Testing memory recall...\n",
      "Average error percentage: 17.45\n",
      "Theoretical error percentage: 5.325473815162926\n",
      "Forming weight matrix...\n",
      "Testing memory recall...\n",
      "Average error percentage: 27.74\n",
      "Theoretical error percentage: 15.742697620578861\n",
      "Forming weight matrix...\n",
      "Testing memory recall...\n"
     ]
    },
    {
     "name": "stderr",
     "output_type": "stream",
     "text": [
      "\n",
      "100%|██████████| 200/200 [00:00<00:00, 1295.09it/s]\n"
     ]
    },
    {
     "name": "stdout",
     "output_type": "stream",
     "text": [
      "Average error percentage: 34.13\n",
      "Theoretical error percentage: 23.97500611156682\n",
      "Forming weight matrix...\n",
      "Testing memory recall...\n",
      "Average error percentage: 38.875\n",
      "Theoretical error percentage: 30.898052808211517\n",
      "Forming weight matrix...\n"
     ]
    },
    {
     "name": "stderr",
     "output_type": "stream",
     "text": [
      " 26%|██▌       | 130/500 [00:00<00:00, 1295.49it/s]"
     ]
    },
    {
     "name": "stdout",
     "output_type": "stream",
     "text": [
      "Testing memory recall...\n"
     ]
    },
    {
     "name": "stderr",
     "output_type": "stream",
     "text": [
      "100%|██████████| 500/500 [00:00<00:00, 1310.98it/s]\n",
      " 16%|█▌        | 156/1000 [00:00<00:00, 1554.76it/s]"
     ]
    },
    {
     "name": "stdout",
     "output_type": "stream",
     "text": [
      "Average error percentage: 42.406\n",
      "Theoretical error percentage: 37.639685899007844\n",
      "Forming weight matrix...\n",
      "Testing memory recall...\n"
     ]
    },
    {
     "name": "stderr",
     "output_type": "stream",
     "text": [
      "100%|██████████| 1000/1000 [00:00<00:00, 1353.64it/s]\n",
      "100%|██████████| 1/1 [00:00<00:00, 667.99it/s]\n",
      "100%|██████████| 2/2 [00:00<00:00, 437.07it/s]\n",
      "100%|██████████| 5/5 [00:00<00:00, 543.54it/s]\n",
      "100%|██████████| 10/10 [00:00<00:00, 929.20it/s]\n",
      "100%|██████████| 20/20 [00:00<00:00, 1162.26it/s]\n",
      "100%|██████████| 50/50 [00:00<00:00, 1100.91it/s]\n",
      "  0%|          | 0/100 [00:00<?, ?it/s]"
     ]
    },
    {
     "name": "stdout",
     "output_type": "stream",
     "text": [
      "Average error percentage: 44.671\n",
      "Theoretical error percentage: 41.19244763735692\n",
      "Forming weight matrix...\n",
      "Testing memory recall...\n",
      "Average error percentage: 0.0\n",
      "Theoretical error percentage: 0.0\n",
      "Forming weight matrix...\n",
      "Testing memory recall...\n",
      "Average error percentage: 50.0\n",
      "Theoretical error percentage: 9.918588689536384e-11\n",
      "Forming weight matrix...\n",
      "Testing memory recall...\n",
      "Average error percentage: 53.6\n",
      "Theoretical error percentage: 0.021756040588239132\n",
      "Forming weight matrix...\n",
      "Testing memory recall...\n",
      "Average error percentage: 56.8\n",
      "Theoretical error percentage: 0.95082368723994\n",
      "Forming weight matrix...\n",
      "Testing memory recall...\n",
      "Average error percentage: 47.9\n",
      "Theoretical error percentage: 5.325473815162926\n",
      "Forming weight matrix...\n",
      "Testing memory recall...\n",
      "Average error percentage: 49.16\n",
      "Theoretical error percentage: 15.742697620578861\n",
      "Forming weight matrix...\n",
      "Testing memory recall...\n"
     ]
    },
    {
     "name": "stderr",
     "output_type": "stream",
     "text": [
      "100%|██████████| 100/100 [00:00<00:00, 1232.65it/s]\n",
      "100%|██████████| 200/200 [00:00<00:00, 1370.02it/s]\n",
      "  0%|          | 0/500 [00:00<?, ?it/s]"
     ]
    },
    {
     "name": "stdout",
     "output_type": "stream",
     "text": [
      "Average error percentage: 50.29\n",
      "Theoretical error percentage: 23.97500611156682\n",
      "Forming weight matrix...\n",
      "Testing memory recall...\n",
      "Average error percentage: 50.04\n",
      "Theoretical error percentage: 30.898052808211517\n",
      "Forming weight matrix...\n",
      "Testing memory recall...\n"
     ]
    },
    {
     "name": "stderr",
     "output_type": "stream",
     "text": [
      "100%|██████████| 500/500 [00:00<00:00, 1448.11it/s]\n",
      " 14%|█▍        | 141/1000 [00:00<00:00, 1393.36it/s]"
     ]
    },
    {
     "name": "stdout",
     "output_type": "stream",
     "text": [
      "Average error percentage: 49.878\n",
      "Theoretical error percentage: 37.639685899007844\n",
      "Forming weight matrix...\n",
      "Testing memory recall...\n"
     ]
    },
    {
     "name": "stderr",
     "output_type": "stream",
     "text": [
      "100%|██████████| 1000/1000 [00:00<00:00, 1220.63it/s]\n",
      "100%|██████████| 1/1 [00:00<00:00, 582.62it/s]\n",
      "100%|██████████| 2/2 [00:00<00:00, 571.90it/s]\n",
      "100%|██████████| 5/5 [00:00<00:00, 939.12it/s]\n",
      "100%|██████████| 10/10 [00:00<00:00, 919.12it/s]\n",
      "100%|██████████| 20/20 [00:00<00:00, 1237.86it/s]\n",
      "100%|██████████| 50/50 [00:00<00:00, 1337.75it/s]\n",
      "  0%|          | 0/100 [00:00<?, ?it/s]"
     ]
    },
    {
     "name": "stdout",
     "output_type": "stream",
     "text": [
      "Average error percentage: 49.864\n",
      "Theoretical error percentage: 41.19244763735692\n",
      "Forming weight matrix...\n",
      "Testing memory recall...\n",
      "Average error percentage: 100.0\n",
      "Theoretical error percentage: 0.0\n",
      "Forming weight matrix...\n",
      "Testing memory recall...\n",
      "Average error percentage: 100.0\n",
      "Theoretical error percentage: 9.918588689536384e-11\n",
      "Forming weight matrix...\n",
      "Testing memory recall...\n",
      "Average error percentage: 99.8\n",
      "Theoretical error percentage: 0.021756040588239132\n",
      "Forming weight matrix...\n",
      "Testing memory recall...\n",
      "Average error percentage: 85.4\n",
      "Theoretical error percentage: 0.95082368723994\n",
      "Forming weight matrix...\n",
      "Testing memory recall...\n",
      "Average error percentage: 85.2\n",
      "Theoretical error percentage: 5.325473815162926\n",
      "Forming weight matrix...\n",
      "Testing memory recall...\n",
      "Average error percentage: 71.06\n",
      "Theoretical error percentage: 15.742697620578861\n",
      "Forming weight matrix...\n",
      "Testing memory recall...\n"
     ]
    },
    {
     "name": "stderr",
     "output_type": "stream",
     "text": [
      "100%|██████████| 100/100 [00:00<00:00, 1165.80it/s]\n",
      "100%|██████████| 200/200 [00:00<00:00, 1457.44it/s]\n",
      "  0%|          | 0/500 [00:00<?, ?it/s]"
     ]
    },
    {
     "name": "stdout",
     "output_type": "stream",
     "text": [
      "Average error percentage: 66.18\n",
      "Theoretical error percentage: 23.97500611156682\n",
      "Forming weight matrix...\n",
      "Testing memory recall...\n",
      "Average error percentage: 60.97\n",
      "Theoretical error percentage: 30.898052808211517\n",
      "Forming weight matrix...\n",
      "Testing memory recall...\n"
     ]
    },
    {
     "name": "stderr",
     "output_type": "stream",
     "text": [
      "100%|██████████| 500/500 [00:00<00:00, 1158.92it/s]\n",
      " 14%|█▎        | 135/1000 [00:00<00:00, 1349.80it/s]"
     ]
    },
    {
     "name": "stdout",
     "output_type": "stream",
     "text": [
      "Average error percentage: 57.834\n",
      "Theoretical error percentage: 37.639685899007844\n",
      "Forming weight matrix...\n",
      "Testing memory recall...\n"
     ]
    },
    {
     "name": "stderr",
     "output_type": "stream",
     "text": [
      "100%|██████████| 1000/1000 [00:00<00:00, 1374.18it/s]\n",
      "100%|██████████| 1/1 [00:00<00:00, 479.18it/s]\n",
      "100%|██████████| 2/2 [00:00<00:00, 776.65it/s]\n",
      "100%|██████████| 5/5 [00:00<00:00, 854.13it/s]\n",
      "100%|██████████| 10/10 [00:00<00:00, 906.60it/s]\n",
      "100%|██████████| 20/20 [00:00<00:00, 1023.08it/s]\n",
      "100%|██████████| 50/50 [00:00<00:00, 1331.66it/s]\n",
      "  0%|          | 0/100 [00:00<?, ?it/s]"
     ]
    },
    {
     "name": "stdout",
     "output_type": "stream",
     "text": [
      "Average error percentage: 55.22\n",
      "Theoretical error percentage: 41.19244763735692\n",
      "Forming weight matrix...\n",
      "Testing memory recall...\n",
      "Average error percentage: 100.0\n",
      "Theoretical error percentage: 0.0\n",
      "Forming weight matrix...\n",
      "Testing memory recall...\n",
      "Average error percentage: 100.0\n",
      "Theoretical error percentage: 9.918588689536384e-11\n",
      "Forming weight matrix...\n",
      "Testing memory recall...\n",
      "Average error percentage: 100.0\n",
      "Theoretical error percentage: 0.021756040588239132\n",
      "Forming weight matrix...\n",
      "Testing memory recall...\n",
      "Average error percentage: 96.0\n",
      "Theoretical error percentage: 0.95082368723994\n",
      "Forming weight matrix...\n",
      "Testing memory recall...\n",
      "Average error percentage: 86.7\n",
      "Theoretical error percentage: 5.325473815162926\n",
      "Forming weight matrix...\n",
      "Testing memory recall...\n",
      "Average error percentage: 77.36\n",
      "Theoretical error percentage: 15.742697620578861\n",
      "Forming weight matrix...\n",
      "Testing memory recall...\n"
     ]
    },
    {
     "name": "stderr",
     "output_type": "stream",
     "text": [
      "100%|██████████| 100/100 [00:00<00:00, 1238.16it/s]\n",
      "100%|██████████| 200/200 [00:00<00:00, 1249.30it/s]\n"
     ]
    },
    {
     "name": "stdout",
     "output_type": "stream",
     "text": [
      "Average error percentage: 71.04\n",
      "Theoretical error percentage: 23.97500611156682\n",
      "Forming weight matrix...\n",
      "Testing memory recall...\n",
      "Average error percentage: 64.94\n",
      "Theoretical error percentage: 30.898052808211517\n",
      "Forming weight matrix...\n"
     ]
    },
    {
     "name": "stderr",
     "output_type": "stream",
     "text": [
      " 27%|██▋       | 135/500 [00:00<00:00, 1342.31it/s]"
     ]
    },
    {
     "name": "stdout",
     "output_type": "stream",
     "text": [
      "Testing memory recall...\n"
     ]
    },
    {
     "name": "stderr",
     "output_type": "stream",
     "text": [
      "100%|██████████| 500/500 [00:00<00:00, 1144.98it/s]\n",
      " 11%|█         | 108/1000 [00:00<00:00, 1075.63it/s]"
     ]
    },
    {
     "name": "stdout",
     "output_type": "stream",
     "text": [
      "Average error percentage: 60.11\n",
      "Theoretical error percentage: 37.639685899007844\n",
      "Forming weight matrix...\n",
      "Testing memory recall...\n"
     ]
    },
    {
     "name": "stderr",
     "output_type": "stream",
     "text": [
      "100%|██████████| 1000/1000 [00:00<00:00, 1222.85it/s]\n",
      "100%|██████████| 1/1 [00:00<00:00, 275.56it/s]\n",
      "100%|██████████| 2/2 [00:00<00:00, 275.44it/s]\n",
      "100%|██████████| 5/5 [00:00<00:00, 577.44it/s]\n",
      "100%|██████████| 10/10 [00:00<00:00, 1225.65it/s]\n",
      "100%|██████████| 20/20 [00:00<00:00, 1044.01it/s]\n",
      "100%|██████████| 50/50 [00:00<00:00, 1318.74it/s]\n",
      "  0%|          | 0/100 [00:00<?, ?it/s]"
     ]
    },
    {
     "name": "stdout",
     "output_type": "stream",
     "text": [
      "Average error percentage: 57.096\n",
      "Theoretical error percentage: 41.19244763735692\n",
      "Forming weight matrix...\n",
      "Testing memory recall...\n",
      "Average error percentage: 100.0\n",
      "Theoretical error percentage: 0.0\n",
      "Forming weight matrix...\n",
      "Testing memory recall...\n",
      "Average error percentage: 100.0\n",
      "Theoretical error percentage: 9.918588689536384e-11\n",
      "Forming weight matrix...\n",
      "Testing memory recall...\n",
      "Average error percentage: 100.0\n",
      "Theoretical error percentage: 0.021756040588239132\n",
      "Forming weight matrix...\n",
      "Testing memory recall...\n",
      "Average error percentage: 99.0\n",
      "Theoretical error percentage: 0.95082368723994\n",
      "Forming weight matrix...\n",
      "Testing memory recall...\n",
      "Average error percentage: 96.95\n",
      "Theoretical error percentage: 5.325473815162926\n",
      "Forming weight matrix...\n",
      "Testing memory recall...\n",
      "Average error percentage: 84.46\n",
      "Theoretical error percentage: 15.742697620578861\n",
      "Forming weight matrix...\n",
      "Testing memory recall...\n"
     ]
    },
    {
     "name": "stderr",
     "output_type": "stream",
     "text": [
      "100%|██████████| 100/100 [00:00<00:00, 1149.52it/s]\n",
      " 60%|██████    | 120/200 [00:00<00:00, 986.13it/s]"
     ]
    },
    {
     "name": "stdout",
     "output_type": "stream",
     "text": [
      "Average error percentage: 77.16\n",
      "Theoretical error percentage: 23.97500611156682\n",
      "Forming weight matrix...\n",
      "Testing memory recall...\n"
     ]
    },
    {
     "name": "stderr",
     "output_type": "stream",
     "text": [
      "100%|██████████| 200/200 [00:00<00:00, 1022.03it/s]\n",
      " 27%|██▋       | 135/500 [00:00<00:00, 1339.29it/s]"
     ]
    },
    {
     "name": "stdout",
     "output_type": "stream",
     "text": [
      "Average error percentage: 69.125\n",
      "Theoretical error percentage: 30.898052808211517\n",
      "Forming weight matrix...\n",
      "Testing memory recall...\n"
     ]
    },
    {
     "name": "stderr",
     "output_type": "stream",
     "text": [
      "100%|██████████| 500/500 [00:00<00:00, 1139.44it/s]\n",
      " 14%|█▍        | 140/1000 [00:00<00:00, 1399.98it/s]"
     ]
    },
    {
     "name": "stdout",
     "output_type": "stream",
     "text": [
      "Average error percentage: 62.31\n",
      "Theoretical error percentage: 37.639685899007844\n",
      "Forming weight matrix...\n",
      "Testing memory recall...\n"
     ]
    },
    {
     "name": "stderr",
     "output_type": "stream",
     "text": [
      "100%|██████████| 1000/1000 [00:00<00:00, 1216.99it/s]\n",
      "100%|██████████| 1/1 [00:00<00:00, 610.17it/s]\n",
      "100%|██████████| 2/2 [00:00<00:00, 617.63it/s]\n",
      "100%|██████████| 5/5 [00:00<00:00, 632.43it/s]\n",
      "100%|██████████| 10/10 [00:00<00:00, 1133.14it/s]\n",
      "100%|██████████| 20/20 [00:00<00:00, 1013.37it/s]\n",
      "100%|██████████| 50/50 [00:00<00:00, 1035.11it/s]\n",
      "  0%|          | 0/100 [00:00<?, ?it/s]"
     ]
    },
    {
     "name": "stdout",
     "output_type": "stream",
     "text": [
      "Average error percentage: 58.976\n",
      "Theoretical error percentage: 41.19244763735692\n",
      "Forming weight matrix...\n",
      "Testing memory recall...\n",
      "Average error percentage: 0.0\n",
      "Theoretical error percentage: 0.0\n",
      "Forming weight matrix...\n",
      "Testing memory recall...\n",
      "Average error percentage: 0.0\n",
      "Theoretical error percentage: 9.918588689536384e-11\n",
      "Forming weight matrix...\n",
      "Testing memory recall...\n",
      "Average error percentage: 0.0\n",
      "Theoretical error percentage: 0.021756040588239132\n",
      "Forming weight matrix...\n",
      "Testing memory recall...\n",
      "Average error percentage: 0.7\n",
      "Theoretical error percentage: 0.95082368723994\n",
      "Forming weight matrix...\n",
      "Testing memory recall...\n",
      "Average error percentage: 3.25\n",
      "Theoretical error percentage: 5.325473815162926\n",
      "Forming weight matrix...\n",
      "Testing memory recall...\n",
      "Average error percentage: 15.3\n",
      "Theoretical error percentage: 15.742697620578861\n",
      "Forming weight matrix...\n",
      "Testing memory recall...\n"
     ]
    },
    {
     "name": "stderr",
     "output_type": "stream",
     "text": [
      "100%|██████████| 100/100 [00:00<00:00, 730.98it/s]\n",
      " 42%|████▎     | 85/200 [00:00<00:00, 846.26it/s]"
     ]
    },
    {
     "name": "stdout",
     "output_type": "stream",
     "text": [
      "Average error percentage: 27.21\n",
      "Theoretical error percentage: 23.97500611156682\n",
      "Forming weight matrix...\n",
      "Testing memory recall...\n"
     ]
    },
    {
     "name": "stderr",
     "output_type": "stream",
     "text": [
      "100%|██████████| 200/200 [00:00<00:00, 857.64it/s]\n",
      " 21%|██        | 103/500 [00:00<00:00, 1024.91it/s]"
     ]
    },
    {
     "name": "stdout",
     "output_type": "stream",
     "text": [
      "Average error percentage: 31.865\n",
      "Theoretical error percentage: 30.898052808211517\n",
      "Forming weight matrix...\n",
      "Testing memory recall...\n"
     ]
    },
    {
     "name": "stderr",
     "output_type": "stream",
     "text": [
      "100%|██████████| 500/500 [00:00<00:00, 1001.97it/s]\n",
      " 10%|█         | 100/1000 [00:00<00:00, 981.66it/s]"
     ]
    },
    {
     "name": "stdout",
     "output_type": "stream",
     "text": [
      "Average error percentage: 37.296\n",
      "Theoretical error percentage: 37.639685899007844\n",
      "Forming weight matrix...\n",
      "Testing memory recall...\n"
     ]
    },
    {
     "name": "stderr",
     "output_type": "stream",
     "text": [
      "100%|██████████| 1000/1000 [00:01<00:00, 867.43it/s]\n",
      "100%|██████████| 1/1 [00:00<00:00, 481.99it/s]\n",
      "100%|██████████| 2/2 [00:00<00:00, 631.53it/s]\n",
      "100%|██████████| 5/5 [00:00<00:00, 748.72it/s]\n",
      "100%|██████████| 10/10 [00:00<00:00, 1056.74it/s]\n",
      "100%|██████████| 20/20 [00:00<00:00, 1083.44it/s]\n",
      "100%|██████████| 50/50 [00:00<00:00, 1343.29it/s]\n",
      "  0%|          | 0/100 [00:00<?, ?it/s]"
     ]
    },
    {
     "name": "stdout",
     "output_type": "stream",
     "text": [
      "Average error percentage: 40.751\n",
      "Theoretical error percentage: 41.19244763735692\n",
      "Forming weight matrix...\n",
      "Testing memory recall...\n",
      "Average error percentage: 0.0\n",
      "Theoretical error percentage: 0.0\n",
      "Forming weight matrix...\n",
      "Testing memory recall...\n",
      "Average error percentage: 0.0\n",
      "Theoretical error percentage: 9.918588689536384e-11\n",
      "Forming weight matrix...\n",
      "Testing memory recall...\n",
      "Average error percentage: 0.0\n",
      "Theoretical error percentage: 0.021756040588239132\n",
      "Forming weight matrix...\n",
      "Testing memory recall...\n",
      "Average error percentage: 1.0\n",
      "Theoretical error percentage: 0.95082368723994\n",
      "Forming weight matrix...\n",
      "Testing memory recall...\n",
      "Average error percentage: 4.8\n",
      "Theoretical error percentage: 5.325473815162926\n",
      "Forming weight matrix...\n",
      "Testing memory recall...\n",
      "Average error percentage: 17.1\n",
      "Theoretical error percentage: 15.742697620578861\n",
      "Forming weight matrix...\n",
      "Testing memory recall...\n"
     ]
    },
    {
     "name": "stderr",
     "output_type": "stream",
     "text": [
      "100%|██████████| 100/100 [00:00<00:00, 1333.15it/s]\n",
      "100%|██████████| 200/200 [00:00<00:00, 1344.86it/s]\n",
      "  0%|          | 0/500 [00:00<?, ?it/s]"
     ]
    },
    {
     "name": "stdout",
     "output_type": "stream",
     "text": [
      "Average error percentage: 23.42\n",
      "Theoretical error percentage: 23.97500611156682\n",
      "Forming weight matrix...\n",
      "Testing memory recall...\n",
      "Average error percentage: 33.12\n",
      "Theoretical error percentage: 30.898052808211517\n",
      "Forming weight matrix...\n",
      "Testing memory recall...\n"
     ]
    },
    {
     "name": "stderr",
     "output_type": "stream",
     "text": [
      "100%|██████████| 500/500 [00:00<00:00, 1430.99it/s]\n",
      " 15%|█▍        | 147/1000 [00:00<00:00, 1463.42it/s]"
     ]
    },
    {
     "name": "stdout",
     "output_type": "stream",
     "text": [
      "Average error percentage: 39.016\n",
      "Theoretical error percentage: 37.639685899007844\n",
      "Forming weight matrix...\n",
      "Testing memory recall...\n"
     ]
    },
    {
     "name": "stderr",
     "output_type": "stream",
     "text": [
      "100%|██████████| 1000/1000 [00:00<00:00, 1439.74it/s]\n",
      "100%|██████████| 1/1 [00:00<00:00, 456.60it/s]\n",
      "100%|██████████| 2/2 [00:00<00:00, 521.10it/s]\n",
      "100%|██████████| 5/5 [00:00<00:00, 893.01it/s]\n",
      "100%|██████████| 10/10 [00:00<00:00, 1004.24it/s]\n",
      "100%|██████████| 20/20 [00:00<00:00, 1062.47it/s]\n",
      "100%|██████████| 50/50 [00:00<00:00, 1268.17it/s]\n",
      "  0%|          | 0/100 [00:00<?, ?it/s]"
     ]
    },
    {
     "name": "stdout",
     "output_type": "stream",
     "text": [
      "Average error percentage: 41.545\n",
      "Theoretical error percentage: 41.19244763735692\n",
      "Forming weight matrix...\n",
      "Testing memory recall...\n",
      "Average error percentage: 0.0\n",
      "Theoretical error percentage: 0.0\n",
      "Forming weight matrix...\n",
      "Testing memory recall...\n",
      "Average error percentage: 0.0\n",
      "Theoretical error percentage: 9.918588689536384e-11\n",
      "Forming weight matrix...\n",
      "Testing memory recall...\n",
      "Average error percentage: 0.0\n",
      "Theoretical error percentage: 0.021756040588239132\n",
      "Forming weight matrix...\n",
      "Testing memory recall...\n",
      "Average error percentage: 1.0\n",
      "Theoretical error percentage: 0.95082368723994\n",
      "Forming weight matrix...\n",
      "Testing memory recall...\n",
      "Average error percentage: 6.0\n",
      "Theoretical error percentage: 5.325473815162926\n",
      "Forming weight matrix...\n",
      "Testing memory recall...\n",
      "Average error percentage: 18.78\n",
      "Theoretical error percentage: 15.742697620578861\n",
      "Forming weight matrix...\n",
      "Testing memory recall...\n"
     ]
    },
    {
     "name": "stderr",
     "output_type": "stream",
     "text": [
      "100%|██████████| 100/100 [00:00<00:00, 1247.10it/s]\n",
      "100%|██████████| 200/200 [00:00<00:00, 1375.39it/s]\n",
      "  0%|          | 0/500 [00:00<?, ?it/s]"
     ]
    },
    {
     "name": "stdout",
     "output_type": "stream",
     "text": [
      "Average error percentage: 27.32\n",
      "Theoretical error percentage: 23.97500611156682\n",
      "Forming weight matrix...\n",
      "Testing memory recall...\n",
      "Average error percentage: 33.24\n",
      "Theoretical error percentage: 30.898052808211517\n",
      "Forming weight matrix...\n",
      "Testing memory recall...\n"
     ]
    },
    {
     "name": "stderr",
     "output_type": "stream",
     "text": [
      "100%|██████████| 500/500 [00:00<00:00, 1405.27it/s]\n",
      " 11%|█         | 112/1000 [00:00<00:00, 1116.74it/s]"
     ]
    },
    {
     "name": "stdout",
     "output_type": "stream",
     "text": [
      "Average error percentage: 39.004\n",
      "Theoretical error percentage: 37.639685899007844\n",
      "Forming weight matrix...\n",
      "Testing memory recall...\n"
     ]
    },
    {
     "name": "stderr",
     "output_type": "stream",
     "text": [
      "100%|██████████| 1000/1000 [00:01<00:00, 990.52it/s]\n",
      "100%|██████████| 1/1 [00:00<00:00, 474.36it/s]\n",
      "100%|██████████| 2/2 [00:00<00:00, 705.46it/s]\n",
      "100%|██████████| 5/5 [00:00<00:00, 999.60it/s]\n",
      "100%|██████████| 10/10 [00:00<00:00, 1194.04it/s]\n",
      "100%|██████████| 20/20 [00:00<00:00, 891.49it/s]\n",
      "100%|██████████| 50/50 [00:00<00:00, 890.68it/s]\n",
      "  0%|          | 0/100 [00:00<?, ?it/s]"
     ]
    },
    {
     "name": "stdout",
     "output_type": "stream",
     "text": [
      "Average error percentage: 41.526\n",
      "Theoretical error percentage: 41.19244763735692\n",
      "Forming weight matrix...\n",
      "Testing memory recall...\n",
      "Average error percentage: 0.0\n",
      "Theoretical error percentage: 0.0\n",
      "Forming weight matrix...\n",
      "Testing memory recall...\n",
      "Average error percentage: 0.0\n",
      "Theoretical error percentage: 9.918588689536384e-11\n",
      "Forming weight matrix...\n",
      "Testing memory recall...\n",
      "Average error percentage: 1.0\n",
      "Theoretical error percentage: 0.021756040588239132\n",
      "Forming weight matrix...\n",
      "Testing memory recall...\n",
      "Average error percentage: 3.3\n",
      "Theoretical error percentage: 0.95082368723994\n",
      "Forming weight matrix...\n",
      "Testing memory recall...\n",
      "Average error percentage: 16.9\n",
      "Theoretical error percentage: 5.325473815162926\n",
      "Forming weight matrix...\n",
      "Testing memory recall...\n",
      "Average error percentage: 20.76\n",
      "Theoretical error percentage: 15.742697620578861\n",
      "Forming weight matrix...\n",
      "Testing memory recall...\n"
     ]
    },
    {
     "name": "stderr",
     "output_type": "stream",
     "text": [
      "100%|██████████| 100/100 [00:00<00:00, 674.47it/s]\n",
      "100%|██████████| 200/200 [00:00<00:00, 1182.39it/s]\n"
     ]
    },
    {
     "name": "stdout",
     "output_type": "stream",
     "text": [
      "Average error percentage: 28.95\n",
      "Theoretical error percentage: 23.97500611156682\n",
      "Forming weight matrix...\n",
      "Testing memory recall...\n",
      "Average error percentage: 34.735\n",
      "Theoretical error percentage: 30.898052808211517"
     ]
    },
    {
     "name": "stderr",
     "output_type": "stream",
     "text": [
      " 26%|██▌       | 131/500 [00:00<00:00, 1303.98it/s]"
     ]
    },
    {
     "name": "stdout",
     "output_type": "stream",
     "text": [
      "\n",
      "Forming weight matrix...\n",
      "Testing memory recall...\n"
     ]
    },
    {
     "name": "stderr",
     "output_type": "stream",
     "text": [
      "100%|██████████| 500/500 [00:00<00:00, 1247.45it/s]\n",
      " 14%|█▍        | 138/1000 [00:00<00:00, 1375.72it/s]"
     ]
    },
    {
     "name": "stdout",
     "output_type": "stream",
     "text": [
      "Average error percentage: 40.822\n",
      "Theoretical error percentage: 37.639685899007844\n",
      "Forming weight matrix...\n",
      "Testing memory recall...\n"
     ]
    },
    {
     "name": "stderr",
     "output_type": "stream",
     "text": [
      "100%|██████████| 1000/1000 [00:01<00:00, 860.76it/s]\n",
      "100%|██████████| 1/1 [00:00<00:00, 489.93it/s]\n",
      "100%|██████████| 2/2 [00:00<00:00, 832.62it/s]\n",
      "100%|██████████| 5/5 [00:00<00:00, 808.15it/s]\n",
      "100%|██████████| 10/10 [00:00<00:00, 1095.55it/s]\n",
      "100%|██████████| 20/20 [00:00<00:00, 1211.54it/s]\n",
      "100%|██████████| 50/50 [00:00<00:00, 1175.55it/s]\n",
      "  0%|          | 0/100 [00:00<?, ?it/s]"
     ]
    },
    {
     "name": "stdout",
     "output_type": "stream",
     "text": [
      "Average error percentage: 42.715\n",
      "Theoretical error percentage: 41.19244763735692\n",
      "Forming weight matrix...\n",
      "Testing memory recall...\n",
      "Average error percentage: 0.0\n",
      "Theoretical error percentage: 0.0\n",
      "Forming weight matrix...\n",
      "Testing memory recall...\n",
      "Average error percentage: 0.0\n",
      "Theoretical error percentage: 9.918588689536384e-11\n",
      "Forming weight matrix...\n",
      "Testing memory recall...\n",
      "Average error percentage: 4.4\n",
      "Theoretical error percentage: 0.021756040588239132\n",
      "Forming weight matrix...\n",
      "Testing memory recall...\n",
      "Average error percentage: 11.7\n",
      "Theoretical error percentage: 0.95082368723994\n",
      "Forming weight matrix...\n",
      "Testing memory recall...\n",
      "Average error percentage: 17.25\n",
      "Theoretical error percentage: 5.325473815162926\n",
      "Forming weight matrix...\n",
      "Testing memory recall...\n",
      "Average error percentage: 31.98\n",
      "Theoretical error percentage: 15.742697620578861\n",
      "Forming weight matrix...\n",
      "Testing memory recall...\n"
     ]
    },
    {
     "name": "stderr",
     "output_type": "stream",
     "text": [
      "100%|██████████| 100/100 [00:00<00:00, 1321.95it/s]\n",
      "100%|██████████| 200/200 [00:00<00:00, 1378.31it/s]\n",
      "  0%|          | 0/500 [00:00<?, ?it/s]"
     ]
    },
    {
     "name": "stdout",
     "output_type": "stream",
     "text": [
      "Average error percentage: 35.56\n",
      "Theoretical error percentage: 23.97500611156682\n",
      "Forming weight matrix...\n",
      "Testing memory recall...\n",
      "Average error percentage: 38.81\n",
      "Theoretical error percentage: 30.898052808211517\n",
      "Forming weight matrix...\n",
      "Testing memory recall...\n"
     ]
    },
    {
     "name": "stderr",
     "output_type": "stream",
     "text": [
      "100%|██████████| 500/500 [00:00<00:00, 1394.08it/s]\n",
      " 15%|█▌        | 151/1000 [00:00<00:00, 1506.43it/s]"
     ]
    },
    {
     "name": "stdout",
     "output_type": "stream",
     "text": [
      "Average error percentage: 42.974\n",
      "Theoretical error percentage: 37.639685899007844\n",
      "Forming weight matrix...\n",
      "Testing memory recall...\n"
     ]
    },
    {
     "name": "stderr",
     "output_type": "stream",
     "text": [
      "100%|██████████| 1000/1000 [00:00<00:00, 1372.28it/s]\n",
      "100%|██████████| 1/1 [00:00<00:00, 768.61it/s]\n",
      "100%|██████████| 2/2 [00:00<00:00, 600.95it/s]\n",
      "100%|██████████| 5/5 [00:00<00:00, 692.91it/s]\n",
      "100%|██████████| 10/10 [00:00<00:00, 1084.47it/s]\n",
      "100%|██████████| 20/20 [00:00<00:00, 1146.41it/s]\n",
      "100%|██████████| 50/50 [00:00<00:00, 1287.80it/s]\n",
      "  0%|          | 0/100 [00:00<?, ?it/s]"
     ]
    },
    {
     "name": "stdout",
     "output_type": "stream",
     "text": [
      "Average error percentage: 44.673\n",
      "Theoretical error percentage: 41.19244763735692\n",
      "Forming weight matrix...\n",
      "Testing memory recall...\n",
      "Average error percentage: 0.0\n",
      "Theoretical error percentage: 0.0\n",
      "Forming weight matrix...\n",
      "Testing memory recall...\n",
      "Average error percentage: 75.5\n",
      "Theoretical error percentage: 9.918588689536384e-11\n",
      "Forming weight matrix...\n",
      "Testing memory recall...\n",
      "Average error percentage: 55.0\n",
      "Theoretical error percentage: 0.021756040588239132\n",
      "Forming weight matrix...\n",
      "Testing memory recall...\n",
      "Average error percentage: 48.5\n",
      "Theoretical error percentage: 0.95082368723994\n",
      "Forming weight matrix...\n",
      "Testing memory recall...\n",
      "Average error percentage: 52.3\n",
      "Theoretical error percentage: 5.325473815162926\n",
      "Forming weight matrix...\n",
      "Testing memory recall...\n",
      "Average error percentage: 48.54\n",
      "Theoretical error percentage: 15.742697620578861\n",
      "Forming weight matrix...\n",
      "Testing memory recall...\n"
     ]
    },
    {
     "name": "stderr",
     "output_type": "stream",
     "text": [
      "100%|██████████| 100/100 [00:00<00:00, 1141.89it/s]\n",
      "100%|██████████| 200/200 [00:00<00:00, 1276.80it/s]\n"
     ]
    },
    {
     "name": "stdout",
     "output_type": "stream",
     "text": [
      "Average error percentage: 50.87\n",
      "Theoretical error percentage: 23.97500611156682\n",
      "Forming weight matrix...\n",
      "Testing memory recall...\n",
      "Average error percentage: 49.54\n",
      "Theoretical error percentage: 30.898052808211517\n",
      "Forming weight matrix...\n"
     ]
    },
    {
     "name": "stderr",
     "output_type": "stream",
     "text": [
      " 28%|██▊       | 141/500 [00:00<00:00, 1409.97it/s]"
     ]
    },
    {
     "name": "stdout",
     "output_type": "stream",
     "text": [
      "Testing memory recall...\n"
     ]
    },
    {
     "name": "stderr",
     "output_type": "stream",
     "text": [
      "100%|██████████| 500/500 [00:00<00:00, 1368.33it/s]\n",
      " 16%|█▌        | 155/1000 [00:00<00:00, 1547.71it/s]"
     ]
    },
    {
     "name": "stdout",
     "output_type": "stream",
     "text": [
      "Average error percentage: 49.696\n",
      "Theoretical error percentage: 37.639685899007844\n",
      "Forming weight matrix...\n",
      "Testing memory recall...\n"
     ]
    },
    {
     "name": "stderr",
     "output_type": "stream",
     "text": [
      "100%|██████████| 1000/1000 [00:00<00:00, 1239.32it/s]\n",
      "100%|██████████| 1/1 [00:00<00:00, 197.20it/s]\n",
      "100%|██████████| 2/2 [00:00<00:00, 188.27it/s]\n",
      "100%|██████████| 5/5 [00:00<00:00, 270.50it/s]\n",
      "100%|██████████| 10/10 [00:00<00:00, 437.03it/s]\n",
      "100%|██████████| 20/20 [00:00<00:00, 1152.27it/s]\n",
      "100%|██████████| 50/50 [00:00<00:00, 1484.59it/s]\n",
      "  0%|          | 0/100 [00:00<?, ?it/s]"
     ]
    },
    {
     "name": "stdout",
     "output_type": "stream",
     "text": [
      "Average error percentage: 49.986\n",
      "Theoretical error percentage: 41.19244763735692\n",
      "Forming weight matrix...\n",
      "Testing memory recall...\n",
      "Average error percentage: 100.0\n",
      "Theoretical error percentage: 0.0\n",
      "Forming weight matrix...\n",
      "Testing memory recall...\n",
      "Average error percentage: 100.0\n",
      "Theoretical error percentage: 9.918588689536384e-11\n",
      "Forming weight matrix...\n",
      "Testing memory recall...\n",
      "Average error percentage: 99.4\n",
      "Theoretical error percentage: 0.021756040588239132\n",
      "Forming weight matrix...\n",
      "Testing memory recall...\n",
      "Average error percentage: 93.8\n",
      "Theoretical error percentage: 0.95082368723994\n",
      "Forming weight matrix...\n",
      "Testing memory recall...\n",
      "Average error percentage: 81.2\n",
      "Theoretical error percentage: 5.325473815162926\n",
      "Forming weight matrix...\n",
      "Testing memory recall...\n",
      "Average error percentage: 70.38\n",
      "Theoretical error percentage: 15.742697620578861\n",
      "Forming weight matrix...\n",
      "Testing memory recall...\n"
     ]
    },
    {
     "name": "stderr",
     "output_type": "stream",
     "text": [
      "100%|██████████| 100/100 [00:00<00:00, 1493.34it/s]\n",
      " 61%|██████    | 122/200 [00:00<00:00, 1208.10it/s]"
     ]
    },
    {
     "name": "stdout",
     "output_type": "stream",
     "text": [
      "Average error percentage: 66.87\n",
      "Theoretical error percentage: 23.97500611156682\n",
      "Forming weight matrix...\n",
      "Testing memory recall...\n"
     ]
    },
    {
     "name": "stderr",
     "output_type": "stream",
     "text": [
      "100%|██████████| 200/200 [00:00<00:00, 916.06it/s] \n",
      " 30%|███       | 151/500 [00:00<00:00, 1506.46it/s]"
     ]
    },
    {
     "name": "stdout",
     "output_type": "stream",
     "text": [
      "Average error percentage: 61.5\n",
      "Theoretical error percentage: 30.898052808211517\n",
      "Forming weight matrix...\n",
      "Testing memory recall...\n"
     ]
    },
    {
     "name": "stderr",
     "output_type": "stream",
     "text": [
      "100%|██████████| 500/500 [00:00<00:00, 1132.27it/s]\n",
      "  9%|▉         | 93/1000 [00:00<00:00, 921.99it/s]"
     ]
    },
    {
     "name": "stdout",
     "output_type": "stream",
     "text": [
      "Average error percentage: 57.734\n",
      "Theoretical error percentage: 37.639685899007844\n",
      "Forming weight matrix...\n",
      "Testing memory recall...\n"
     ]
    },
    {
     "name": "stderr",
     "output_type": "stream",
     "text": [
      "100%|██████████| 1000/1000 [00:01<00:00, 851.23it/s]\n",
      "100%|██████████| 1/1 [00:00<00:00, 361.14it/s]\n",
      "100%|██████████| 2/2 [00:00<00:00, 516.92it/s]\n",
      "100%|██████████| 5/5 [00:00<00:00, 497.60it/s]\n",
      "100%|██████████| 10/10 [00:00<00:00, 793.65it/s]\n",
      "100%|██████████| 20/20 [00:00<00:00, 774.36it/s]\n",
      "100%|██████████| 50/50 [00:00<00:00, 743.43it/s]\n"
     ]
    },
    {
     "name": "stdout",
     "output_type": "stream",
     "text": [
      "Average error percentage: 55.976\n",
      "Theoretical error percentage: 41.19244763735692\n",
      "Forming weight matrix...\n",
      "Testing memory recall...\n",
      "Average error percentage: 100.0\n",
      "Theoretical error percentage: 0.0\n",
      "Forming weight matrix...\n",
      "Testing memory recall...\n",
      "Average error percentage: 100.0\n",
      "Theoretical error percentage: 9.918588689536384e-11\n",
      "Forming weight matrix...\n",
      "Testing memory recall...\n",
      "Average error percentage: 100.0\n",
      "Theoretical error percentage: 0.021756040588239132\n",
      "Forming weight matrix...\n",
      "Testing memory recall...\n",
      "Average error percentage: 93.7\n",
      "Theoretical error percentage: 0.95082368723994\n",
      "Forming weight matrix...\n",
      "Testing memory recall...\n",
      "Average error percentage: 89.8\n",
      "Theoretical error percentage: 5.325473815162926\n",
      "Forming weight matrix...\n",
      "Testing memory recall...\n",
      "Average error percentage: 79.8\n",
      "Theoretical error percentage: 15.742697620578861\n",
      "Forming weight matrix...\n"
     ]
    },
    {
     "name": "stderr",
     "output_type": "stream",
     "text": [
      "100%|██████████| 100/100 [00:00<00:00, 862.94it/s]\n",
      "  0%|          | 0/200 [00:00<?, ?it/s]"
     ]
    },
    {
     "name": "stdout",
     "output_type": "stream",
     "text": [
      "Testing memory recall...\n",
      "Average error percentage: 72.55\n",
      "Theoretical error percentage: 23.97500611156682\n",
      "Forming weight matrix...\n",
      "Testing memory recall...\n"
     ]
    },
    {
     "name": "stderr",
     "output_type": "stream",
     "text": [
      "100%|██████████| 200/200 [00:00<00:00, 1161.78it/s]\n",
      " 23%|██▎       | 115/500 [00:00<00:00, 1148.75it/s]"
     ]
    },
    {
     "name": "stdout",
     "output_type": "stream",
     "text": [
      "Average error percentage: 66.235\n",
      "Theoretical error percentage: 30.898052808211517\n",
      "Forming weight matrix...\n",
      "Testing memory recall...\n"
     ]
    },
    {
     "name": "stderr",
     "output_type": "stream",
     "text": [
      "100%|██████████| 500/500 [00:00<00:00, 1301.68it/s]\n",
      " 10%|█         | 105/1000 [00:00<00:00, 1041.92it/s]"
     ]
    },
    {
     "name": "stdout",
     "output_type": "stream",
     "text": [
      "Average error percentage: 60.062\n",
      "Theoretical error percentage: 37.639685899007844\n",
      "Forming weight matrix...\n",
      "Testing memory recall...\n"
     ]
    },
    {
     "name": "stderr",
     "output_type": "stream",
     "text": [
      "100%|██████████| 1000/1000 [00:00<00:00, 1250.73it/s]\n",
      "100%|██████████| 1/1 [00:00<00:00, 553.70it/s]\n",
      "100%|██████████| 2/2 [00:00<00:00, 1018.78it/s]\n",
      "100%|██████████| 5/5 [00:00<00:00, 653.68it/s]\n",
      "100%|██████████| 10/10 [00:00<00:00, 815.58it/s]\n",
      "100%|██████████| 20/20 [00:00<00:00, 920.77it/s]\n",
      "100%|██████████| 50/50 [00:00<00:00, 1074.74it/s]\n",
      "  0%|          | 0/100 [00:00<?, ?it/s]"
     ]
    },
    {
     "name": "stdout",
     "output_type": "stream",
     "text": [
      "Average error percentage: 57.069\n",
      "Theoretical error percentage: 41.19244763735692\n",
      "Forming weight matrix...\n",
      "Testing memory recall...\n",
      "Average error percentage: 100.0\n",
      "Theoretical error percentage: 0.0\n",
      "Forming weight matrix...\n",
      "Testing memory recall...\n",
      "Average error percentage: 100.0\n",
      "Theoretical error percentage: 9.918588689536384e-11\n",
      "Forming weight matrix...\n",
      "Testing memory recall...\n",
      "Average error percentage: 100.0\n",
      "Theoretical error percentage: 0.021756040588239132\n",
      "Forming weight matrix...\n",
      "Testing memory recall...\n",
      "Average error percentage: 98.5\n",
      "Theoretical error percentage: 0.95082368723994\n",
      "Forming weight matrix...\n",
      "Testing memory recall...\n",
      "Average error percentage: 96.5\n",
      "Theoretical error percentage: 5.325473815162926\n",
      "Forming weight matrix...\n",
      "Testing memory recall...\n",
      "Average error percentage: 83.96\n",
      "Theoretical error percentage: 15.742697620578861\n",
      "Forming weight matrix...\n",
      "Testing memory recall...\n"
     ]
    },
    {
     "name": "stderr",
     "output_type": "stream",
     "text": [
      "100%|██████████| 100/100 [00:00<00:00, 1097.65it/s]\n",
      "100%|██████████| 200/200 [00:00<00:00, 1225.41it/s]\n"
     ]
    },
    {
     "name": "stdout",
     "output_type": "stream",
     "text": [
      "Average error percentage: 77.76\n",
      "Theoretical error percentage: 23.97500611156682\n",
      "Forming weight matrix...\n",
      "Testing memory recall...\n",
      "Average error percentage: 67.92\n",
      "Theoretical error percentage: 30.898052808211517\n",
      "Forming weight matrix...\n"
     ]
    },
    {
     "name": "stderr",
     "output_type": "stream",
     "text": [
      " 21%|██        | 103/500 [00:00<00:00, 1028.85it/s]"
     ]
    },
    {
     "name": "stdout",
     "output_type": "stream",
     "text": [
      "Testing memory recall...\n"
     ]
    },
    {
     "name": "stderr",
     "output_type": "stream",
     "text": [
      "100%|██████████| 500/500 [00:00<00:00, 1082.94it/s]\n",
      " 13%|█▎        | 134/1000 [00:00<00:00, 1324.77it/s]"
     ]
    },
    {
     "name": "stdout",
     "output_type": "stream",
     "text": [
      "Average error percentage: 62.964\n",
      "Theoretical error percentage: 37.639685899007844\n",
      "Forming weight matrix...\n",
      "Testing memory recall...\n"
     ]
    },
    {
     "name": "stderr",
     "output_type": "stream",
     "text": [
      "100%|██████████| 1000/1000 [00:00<00:00, 1191.58it/s]\n",
      "100%|██████████| 1/1 [00:00<00:00, 468.38it/s]\n",
      "100%|██████████| 2/2 [00:00<00:00, 205.05it/s]\n",
      "100%|██████████| 5/5 [00:00<00:00, 708.62it/s]\n",
      "100%|██████████| 10/10 [00:00<00:00, 907.78it/s]\n",
      "100%|██████████| 20/20 [00:00<00:00, 861.89it/s]\n",
      "100%|██████████| 50/50 [00:00<00:00, 1269.85it/s]\n"
     ]
    },
    {
     "name": "stdout",
     "output_type": "stream",
     "text": [
      "Average error percentage: 58.589\n",
      "Theoretical error percentage: 41.19244763735692\n",
      "Forming weight matrix...\n",
      "Testing memory recall...\n",
      "Average error percentage: 0.0\n",
      "Theoretical error percentage: 0.0\n",
      "Forming weight matrix...\n",
      "Testing memory recall...\n",
      "Average error percentage: 0.0\n",
      "Theoretical error percentage: 9.918588689536384e-11\n",
      "Forming weight matrix...\n",
      "Testing memory recall...\n",
      "Average error percentage: 0.0\n",
      "Theoretical error percentage: 0.021756040588239132\n",
      "Forming weight matrix...\n",
      "Testing memory recall...\n",
      "Average error percentage: 1.4\n",
      "Theoretical error percentage: 0.95082368723994\n",
      "Forming weight matrix...\n",
      "Testing memory recall...\n",
      "Average error percentage: 9.9\n",
      "Theoretical error percentage: 5.325473815162926\n",
      "Forming weight matrix...\n",
      "Testing memory recall...\n",
      "Average error percentage: 17.54\n",
      "Theoretical error percentage: 15.742697620578861\n",
      "Forming weight matrix...\n"
     ]
    },
    {
     "name": "stderr",
     "output_type": "stream",
     "text": [
      "100%|██████████| 100/100 [00:00<00:00, 1269.35it/s]\n",
      " 64%|██████▍   | 128/200 [00:00<00:00, 1275.38it/s]"
     ]
    },
    {
     "name": "stdout",
     "output_type": "stream",
     "text": [
      "Testing memory recall...\n",
      "Average error percentage: 27.0\n",
      "Theoretical error percentage: 23.97500611156682\n",
      "Forming weight matrix...\n",
      "Testing memory recall...\n"
     ]
    },
    {
     "name": "stderr",
     "output_type": "stream",
     "text": [
      "100%|██████████| 200/200 [00:00<00:00, 1135.51it/s]\n",
      " 26%|██▌       | 128/500 [00:00<00:00, 1277.66it/s]"
     ]
    },
    {
     "name": "stdout",
     "output_type": "stream",
     "text": [
      "Average error percentage: 31.025\n",
      "Theoretical error percentage: 30.898052808211517\n",
      "Forming weight matrix...\n",
      "Testing memory recall...\n"
     ]
    },
    {
     "name": "stderr",
     "output_type": "stream",
     "text": [
      "100%|██████████| 500/500 [00:00<00:00, 1173.14it/s]\n",
      "  9%|▉         | 91/1000 [00:00<00:01, 906.10it/s]"
     ]
    },
    {
     "name": "stdout",
     "output_type": "stream",
     "text": [
      "Average error percentage: 37.398\n",
      "Theoretical error percentage: 37.639685899007844\n",
      "Forming weight matrix...\n",
      "Testing memory recall...\n"
     ]
    },
    {
     "name": "stderr",
     "output_type": "stream",
     "text": [
      "100%|██████████| 1000/1000 [00:00<00:00, 1338.22it/s]\n",
      "100%|██████████| 1/1 [00:00<00:00, 318.98it/s]\n",
      "100%|██████████| 2/2 [00:00<00:00, 817.76it/s]\n",
      "100%|██████████| 5/5 [00:00<00:00, 797.82it/s]\n",
      "100%|██████████| 10/10 [00:00<00:00, 1126.26it/s]\n",
      "100%|██████████| 20/20 [00:00<00:00, 1315.20it/s]\n",
      "100%|██████████| 50/50 [00:00<00:00, 1353.72it/s]\n",
      "  0%|          | 0/100 [00:00<?, ?it/s]"
     ]
    },
    {
     "name": "stdout",
     "output_type": "stream",
     "text": [
      "Average error percentage: 41.041\n",
      "Theoretical error percentage: 41.19244763735692\n",
      "Forming weight matrix...\n",
      "Testing memory recall...\n",
      "Average error percentage: 0.0\n",
      "Theoretical error percentage: 0.0\n",
      "Forming weight matrix...\n",
      "Testing memory recall...\n",
      "Average error percentage: 0.0\n",
      "Theoretical error percentage: 9.918588689536384e-11\n",
      "Forming weight matrix...\n",
      "Testing memory recall...\n",
      "Average error percentage: 0.0\n",
      "Theoretical error percentage: 0.021756040588239132\n",
      "Forming weight matrix...\n",
      "Testing memory recall...\n",
      "Average error percentage: 1.1\n",
      "Theoretical error percentage: 0.95082368723994\n",
      "Forming weight matrix...\n",
      "Testing memory recall...\n",
      "Average error percentage: 7.45\n",
      "Theoretical error percentage: 5.325473815162926\n",
      "Forming weight matrix...\n",
      "Testing memory recall...\n",
      "Average error percentage: 15.8\n",
      "Theoretical error percentage: 15.742697620578861\n",
      "Forming weight matrix...\n",
      "Testing memory recall...\n"
     ]
    },
    {
     "name": "stderr",
     "output_type": "stream",
     "text": [
      "100%|██████████| 100/100 [00:00<00:00, 1332.25it/s]\n",
      "100%|██████████| 200/200 [00:00<00:00, 1232.41it/s]\n"
     ]
    },
    {
     "name": "stdout",
     "output_type": "stream",
     "text": [
      "Average error percentage: 25.35\n",
      "Theoretical error percentage: 23.97500611156682\n",
      "Forming weight matrix...\n",
      "Testing memory recall...\n",
      "Average error percentage: 32.635\n",
      "Theoretical error percentage: 30.898052808211517\n",
      "Forming weight matrix...\n"
     ]
    },
    {
     "name": "stderr",
     "output_type": "stream",
     "text": [
      " 29%|██▉       | 144/500 [00:00<00:00, 1438.05it/s]"
     ]
    },
    {
     "name": "stdout",
     "output_type": "stream",
     "text": [
      "Testing memory recall...\n"
     ]
    },
    {
     "name": "stderr",
     "output_type": "stream",
     "text": [
      "100%|██████████| 500/500 [00:00<00:00, 1427.67it/s]\n",
      " 13%|█▎        | 132/1000 [00:00<00:00, 1316.68it/s]"
     ]
    },
    {
     "name": "stdout",
     "output_type": "stream",
     "text": [
      "Average error percentage: 38.714\n",
      "Theoretical error percentage: 37.639685899007844\n",
      "Forming weight matrix...\n",
      "Testing memory recall...\n"
     ]
    },
    {
     "name": "stderr",
     "output_type": "stream",
     "text": [
      "100%|██████████| 1000/1000 [00:00<00:00, 1239.38it/s]\n",
      "100%|██████████| 1/1 [00:00<00:00, 218.10it/s]\n",
      "100%|██████████| 2/2 [00:00<00:00, 296.69it/s]\n",
      "100%|██████████| 5/5 [00:00<00:00, 705.71it/s]\n",
      "100%|██████████| 10/10 [00:00<00:00, 763.36it/s]\n",
      "100%|██████████| 20/20 [00:00<00:00, 926.36it/s]\n",
      "100%|██████████| 50/50 [00:00<00:00, 1452.11it/s]\n",
      "  0%|          | 0/100 [00:00<?, ?it/s]"
     ]
    },
    {
     "name": "stdout",
     "output_type": "stream",
     "text": [
      "Average error percentage: 41.529\n",
      "Theoretical error percentage: 41.19244763735692\n",
      "Forming weight matrix...\n",
      "Testing memory recall...\n",
      "Average error percentage: 0.0\n",
      "Theoretical error percentage: 0.0\n",
      "Forming weight matrix...\n",
      "Testing memory recall...\n",
      "Average error percentage: 0.0\n",
      "Theoretical error percentage: 9.918588689536384e-11\n",
      "Forming weight matrix...\n",
      "Testing memory recall...\n",
      "Average error percentage: 0.0\n",
      "Theoretical error percentage: 0.021756040588239132\n",
      "Forming weight matrix...\n",
      "Testing memory recall...\n",
      "Average error percentage: 3.7\n",
      "Theoretical error percentage: 0.95082368723994\n",
      "Forming weight matrix...\n",
      "Testing memory recall...\n",
      "Average error percentage: 10.0\n",
      "Theoretical error percentage: 5.325473815162926\n",
      "Forming weight matrix...\n",
      "Testing memory recall...\n",
      "Average error percentage: 17.74\n",
      "Theoretical error percentage: 15.742697620578861\n",
      "Forming weight matrix...\n",
      "Testing memory recall...\n"
     ]
    },
    {
     "name": "stderr",
     "output_type": "stream",
     "text": [
      "100%|██████████| 100/100 [00:00<00:00, 1156.46it/s]\n",
      "100%|██████████| 200/200 [00:00<00:00, 1192.29it/s]\n"
     ]
    },
    {
     "name": "stdout",
     "output_type": "stream",
     "text": [
      "Average error percentage: 27.6\n",
      "Theoretical error percentage: 23.97500611156682\n",
      "Forming weight matrix...\n",
      "Testing memory recall...\n",
      "Average error percentage: 31.78\n",
      "Theoretical error percentage: 30.898052808211517\n",
      "Forming weight matrix...\n"
     ]
    },
    {
     "name": "stderr",
     "output_type": "stream",
     "text": [
      " 51%|█████     | 256/500 [00:00<00:00, 1326.82it/s]"
     ]
    },
    {
     "name": "stdout",
     "output_type": "stream",
     "text": [
      "Testing memory recall...\n"
     ]
    },
    {
     "name": "stderr",
     "output_type": "stream",
     "text": [
      "100%|██████████| 500/500 [00:00<00:00, 1272.13it/s]\n",
      " 12%|█▏        | 120/1000 [00:00<00:00, 1193.93it/s]"
     ]
    },
    {
     "name": "stdout",
     "output_type": "stream",
     "text": [
      "Average error percentage: 39.04\n",
      "Theoretical error percentage: 37.639685899007844\n",
      "Forming weight matrix...\n",
      "Testing memory recall...\n"
     ]
    },
    {
     "name": "stderr",
     "output_type": "stream",
     "text": [
      "100%|██████████| 1000/1000 [00:00<00:00, 1239.74it/s]\n",
      "100%|██████████| 1/1 [00:00<00:00, 142.49it/s]\n",
      "100%|██████████| 2/2 [00:00<00:00, 338.76it/s]\n",
      "100%|██████████| 5/5 [00:00<00:00, 445.82it/s]\n",
      "100%|██████████| 10/10 [00:00<00:00, 946.18it/s]\n",
      "100%|██████████| 20/20 [00:00<00:00, 1065.69it/s]\n",
      "100%|██████████| 50/50 [00:00<00:00, 1325.42it/s]\n",
      "  0%|          | 0/100 [00:00<?, ?it/s]"
     ]
    },
    {
     "name": "stdout",
     "output_type": "stream",
     "text": [
      "Average error percentage: 41.365\n",
      "Theoretical error percentage: 41.19244763735692\n",
      "Forming weight matrix...\n",
      "Testing memory recall...\n",
      "Average error percentage: 0.0\n",
      "Theoretical error percentage: 0.0\n",
      "Forming weight matrix...\n",
      "Testing memory recall...\n",
      "Average error percentage: 0.0\n",
      "Theoretical error percentage: 9.918588689536384e-11\n",
      "Forming weight matrix...\n",
      "Testing memory recall...\n",
      "Average error percentage: 0.0\n",
      "Theoretical error percentage: 0.021756040588239132\n",
      "Forming weight matrix...\n",
      "Testing memory recall...\n",
      "Average error percentage: 2.6\n",
      "Theoretical error percentage: 0.95082368723994\n",
      "Forming weight matrix...\n",
      "Testing memory recall...\n",
      "Average error percentage: 7.1\n",
      "Theoretical error percentage: 5.325473815162926\n",
      "Forming weight matrix...\n",
      "Testing memory recall...\n",
      "Average error percentage: 23.28\n",
      "Theoretical error percentage: 15.742697620578861\n",
      "Forming weight matrix...\n",
      "Testing memory recall...\n"
     ]
    },
    {
     "name": "stderr",
     "output_type": "stream",
     "text": [
      "100%|██████████| 100/100 [00:00<00:00, 1041.99it/s]\n",
      "100%|██████████| 200/200 [00:00<00:00, 1292.49it/s]\n"
     ]
    },
    {
     "name": "stdout",
     "output_type": "stream",
     "text": [
      "Average error percentage: 30.11\n",
      "Theoretical error percentage: 23.97500611156682\n",
      "Forming weight matrix...\n",
      "Testing memory recall...\n",
      "Average error percentage: 33.485\n",
      "Theoretical error percentage: 30.898052808211517\n",
      "Forming weight matrix...\n"
     ]
    },
    {
     "name": "stderr",
     "output_type": "stream",
     "text": [
      " 28%|██▊       | 139/500 [00:00<00:00, 1384.31it/s]"
     ]
    },
    {
     "name": "stdout",
     "output_type": "stream",
     "text": [
      "Testing memory recall...\n"
     ]
    },
    {
     "name": "stderr",
     "output_type": "stream",
     "text": [
      "100%|██████████| 500/500 [00:00<00:00, 1247.93it/s]\n",
      " 14%|█▍        | 144/1000 [00:00<00:00, 1432.26it/s]"
     ]
    },
    {
     "name": "stdout",
     "output_type": "stream",
     "text": [
      "Average error percentage: 40.186\n",
      "Theoretical error percentage: 37.639685899007844\n",
      "Forming weight matrix...\n",
      "Testing memory recall...\n"
     ]
    },
    {
     "name": "stderr",
     "output_type": "stream",
     "text": [
      "100%|██████████| 1000/1000 [00:00<00:00, 1067.41it/s]\n",
      "100%|██████████| 1/1 [00:00<00:00, 181.59it/s]\n",
      "100%|██████████| 2/2 [00:00<00:00, 387.09it/s]\n",
      "100%|██████████| 5/5 [00:00<00:00, 529.84it/s]\n",
      "100%|██████████| 10/10 [00:00<00:00, 882.16it/s]\n",
      "100%|██████████| 20/20 [00:00<00:00, 769.79it/s]\n",
      "100%|██████████| 50/50 [00:00<00:00, 865.50it/s]\n",
      "  0%|          | 0/100 [00:00<?, ?it/s]"
     ]
    },
    {
     "name": "stdout",
     "output_type": "stream",
     "text": [
      "Average error percentage: 43.244\n",
      "Theoretical error percentage: 41.19244763735692\n",
      "Forming weight matrix...\n",
      "Testing memory recall...\n",
      "Average error percentage: 0.0\n",
      "Theoretical error percentage: 0.0\n",
      "Forming weight matrix...\n",
      "Testing memory recall...\n",
      "Average error percentage: 0.0\n",
      "Theoretical error percentage: 9.918588689536384e-11\n",
      "Forming weight matrix...\n",
      "Testing memory recall...\n",
      "Average error percentage: 5.8\n",
      "Theoretical error percentage: 0.021756040588239132\n",
      "Forming weight matrix...\n",
      "Testing memory recall...\n",
      "Average error percentage: 3.6\n",
      "Theoretical error percentage: 0.95082368723994\n",
      "Forming weight matrix...\n",
      "Testing memory recall...\n",
      "Average error percentage: 18.75\n",
      "Theoretical error percentage: 5.325473815162926\n",
      "Forming weight matrix...\n",
      "Testing memory recall...\n",
      "Average error percentage: 26.06\n",
      "Theoretical error percentage: 15.742697620578861\n",
      "Forming weight matrix...\n",
      "Testing memory recall...\n"
     ]
    },
    {
     "name": "stderr",
     "output_type": "stream",
     "text": [
      "100%|██████████| 100/100 [00:00<00:00, 1257.92it/s]\n",
      "100%|██████████| 200/200 [00:00<00:00, 1505.54it/s]\n",
      "  0%|          | 0/500 [00:00<?, ?it/s]"
     ]
    },
    {
     "name": "stdout",
     "output_type": "stream",
     "text": [
      "Average error percentage: 34.51\n",
      "Theoretical error percentage: 23.97500611156682\n",
      "Forming weight matrix...\n",
      "Testing memory recall...\n",
      "Average error percentage: 39.315\n",
      "Theoretical error percentage: 30.898052808211517\n",
      "Forming weight matrix...\n",
      "Testing memory recall...\n"
     ]
    },
    {
     "name": "stderr",
     "output_type": "stream",
     "text": [
      "100%|██████████| 500/500 [00:00<00:00, 1455.06it/s]\n",
      " 15%|█▍        | 149/1000 [00:00<00:00, 1485.81it/s]"
     ]
    },
    {
     "name": "stdout",
     "output_type": "stream",
     "text": [
      "Average error percentage: 43.01\n",
      "Theoretical error percentage: 37.639685899007844\n",
      "Forming weight matrix...\n",
      "Testing memory recall...\n"
     ]
    },
    {
     "name": "stderr",
     "output_type": "stream",
     "text": [
      "100%|██████████| 1000/1000 [00:00<00:00, 1393.57it/s]\n",
      "100%|██████████| 1/1 [00:00<00:00, 271.37it/s]\n",
      "100%|██████████| 2/2 [00:00<00:00, 567.37it/s]\n",
      "100%|██████████| 5/5 [00:00<00:00, 942.67it/s]\n",
      "100%|██████████| 10/10 [00:00<00:00, 923.10it/s]\n",
      "100%|██████████| 20/20 [00:00<00:00, 1063.28it/s]\n",
      "100%|██████████| 50/50 [00:00<00:00, 1363.25it/s]\n",
      "100%|██████████| 100/100 [00:00<00:00, 1470.40it/s]\n"
     ]
    },
    {
     "name": "stdout",
     "output_type": "stream",
     "text": [
      "Average error percentage: 44.636\n",
      "Theoretical error percentage: 41.19244763735692\n",
      "Forming weight matrix...\n",
      "Testing memory recall...\n",
      "Average error percentage: 100.0\n",
      "Theoretical error percentage: 0.0\n",
      "Forming weight matrix...\n",
      "Testing memory recall...\n",
      "Average error percentage: 74.5\n",
      "Theoretical error percentage: 9.918588689536384e-11\n",
      "Forming weight matrix...\n",
      "Testing memory recall...\n",
      "Average error percentage: 38.2\n",
      "Theoretical error percentage: 0.021756040588239132\n",
      "Forming weight matrix...\n",
      "Testing memory recall...\n",
      "Average error percentage: 56.6\n",
      "Theoretical error percentage: 0.95082368723994\n",
      "Forming weight matrix...\n",
      "Testing memory recall...\n",
      "Average error percentage: 44.85\n",
      "Theoretical error percentage: 5.325473815162926\n",
      "Forming weight matrix...\n",
      "Testing memory recall...\n",
      "Average error percentage: 49.44\n",
      "Theoretical error percentage: 15.742697620578861\n",
      "Forming weight matrix...\n",
      "Testing memory recall...\n",
      "Average error percentage: 50.2\n",
      "Theoretical error percentage: 23.97500611156682\n"
     ]
    },
    {
     "name": "stderr",
     "output_type": "stream",
     "text": [
      "100%|██████████| 200/200 [00:00<00:00, 1422.95it/s]\n",
      "  0%|          | 0/500 [00:00<?, ?it/s]"
     ]
    },
    {
     "name": "stdout",
     "output_type": "stream",
     "text": [
      "Forming weight matrix...\n",
      "Testing memory recall...\n",
      "Average error percentage: 49.99\n",
      "Theoretical error percentage: 30.898052808211517\n",
      "Forming weight matrix...\n",
      "Testing memory recall...\n"
     ]
    },
    {
     "name": "stderr",
     "output_type": "stream",
     "text": [
      "100%|██████████| 500/500 [00:00<00:00, 1431.91it/s]\n",
      " 15%|█▍        | 146/1000 [00:00<00:00, 1456.59it/s]"
     ]
    },
    {
     "name": "stdout",
     "output_type": "stream",
     "text": [
      "Average error percentage: 49.94\n",
      "Theoretical error percentage: 37.639685899007844\n",
      "Forming weight matrix...\n",
      "Testing memory recall...\n"
     ]
    },
    {
     "name": "stderr",
     "output_type": "stream",
     "text": [
      "100%|██████████| 1000/1000 [00:00<00:00, 1461.05it/s]\n",
      "100%|██████████| 1/1 [00:00<00:00, 643.10it/s]\n",
      "100%|██████████| 2/2 [00:00<00:00, 341.25it/s]\n",
      "100%|██████████| 5/5 [00:00<00:00, 905.43it/s]\n",
      "100%|██████████| 10/10 [00:00<00:00, 910.66it/s]\n",
      "100%|██████████| 20/20 [00:00<00:00, 1004.62it/s]\n",
      "100%|██████████| 50/50 [00:00<00:00, 1305.69it/s]\n",
      "  0%|          | 0/100 [00:00<?, ?it/s]"
     ]
    },
    {
     "name": "stdout",
     "output_type": "stream",
     "text": [
      "Average error percentage: 50.044\n",
      "Theoretical error percentage: 41.19244763735692\n",
      "Forming weight matrix...\n",
      "Testing memory recall...\n",
      "Average error percentage: 100.0\n",
      "Theoretical error percentage: 0.0\n",
      "Forming weight matrix...\n",
      "Testing memory recall...\n",
      "Average error percentage: 100.0\n",
      "Theoretical error percentage: 9.918588689536384e-11\n",
      "Forming weight matrix...\n",
      "Testing memory recall...\n",
      "Average error percentage: 99.6\n",
      "Theoretical error percentage: 0.021756040588239132\n",
      "Forming weight matrix...\n",
      "Testing memory recall...\n",
      "Average error percentage: 94.2\n",
      "Theoretical error percentage: 0.95082368723994\n",
      "Forming weight matrix...\n",
      "Testing memory recall...\n",
      "Average error percentage: 84.45\n",
      "Theoretical error percentage: 5.325473815162926\n",
      "Forming weight matrix...\n",
      "Testing memory recall...\n",
      "Average error percentage: 74.24\n",
      "Theoretical error percentage: 15.742697620578861\n",
      "Forming weight matrix...\n",
      "Testing memory recall...\n"
     ]
    },
    {
     "name": "stderr",
     "output_type": "stream",
     "text": [
      "100%|██████████| 100/100 [00:00<00:00, 1363.20it/s]\n",
      "100%|██████████| 200/200 [00:00<00:00, 1417.67it/s]\n",
      "  0%|          | 0/500 [00:00<?, ?it/s]"
     ]
    },
    {
     "name": "stdout",
     "output_type": "stream",
     "text": [
      "Average error percentage: 66.44\n",
      "Theoretical error percentage: 23.97500611156682\n",
      "Forming weight matrix...\n",
      "Testing memory recall...\n",
      "Average error percentage: 62.115\n",
      "Theoretical error percentage: 30.898052808211517\n",
      "Forming weight matrix...\n",
      "Testing memory recall...\n"
     ]
    },
    {
     "name": "stderr",
     "output_type": "stream",
     "text": [
      "100%|██████████| 500/500 [00:00<00:00, 1432.50it/s]\n",
      " 15%|█▍        | 146/1000 [00:00<00:00, 1455.18it/s]"
     ]
    },
    {
     "name": "stdout",
     "output_type": "stream",
     "text": [
      "Average error percentage: 57.174\n",
      "Theoretical error percentage: 37.639685899007844\n",
      "Forming weight matrix...\n",
      "Testing memory recall...\n"
     ]
    },
    {
     "name": "stderr",
     "output_type": "stream",
     "text": [
      "100%|██████████| 1000/1000 [00:00<00:00, 1447.74it/s]\n",
      "100%|██████████| 1/1 [00:00<00:00, 391.88it/s]\n",
      "100%|██████████| 2/2 [00:00<00:00, 877.29it/s]\n",
      "100%|██████████| 5/5 [00:00<00:00, 655.83it/s]\n",
      "100%|██████████| 10/10 [00:00<00:00, 886.39it/s]\n",
      "100%|██████████| 20/20 [00:00<00:00, 1235.13it/s]\n",
      "100%|██████████| 50/50 [00:00<00:00, 1315.49it/s]\n",
      "  0%|          | 0/100 [00:00<?, ?it/s]"
     ]
    },
    {
     "name": "stdout",
     "output_type": "stream",
     "text": [
      "Average error percentage: 55.44\n",
      "Theoretical error percentage: 41.19244763735692\n",
      "Forming weight matrix...\n",
      "Testing memory recall...\n",
      "Average error percentage: 100.0\n",
      "Theoretical error percentage: 0.0\n",
      "Forming weight matrix...\n",
      "Testing memory recall...\n",
      "Average error percentage: 100.0\n",
      "Theoretical error percentage: 9.918588689536384e-11\n",
      "Forming weight matrix...\n",
      "Testing memory recall...\n",
      "Average error percentage: 100.0\n",
      "Theoretical error percentage: 0.021756040588239132\n",
      "Forming weight matrix...\n",
      "Testing memory recall...\n",
      "Average error percentage: 95.3\n",
      "Theoretical error percentage: 0.95082368723994\n",
      "Forming weight matrix...\n",
      "Testing memory recall...\n",
      "Average error percentage: 93.45\n",
      "Theoretical error percentage: 5.325473815162926\n",
      "Forming weight matrix...\n",
      "Testing memory recall...\n",
      "Average error percentage: 77.46\n",
      "Theoretical error percentage: 15.742697620578861\n",
      "Forming weight matrix...\n",
      "Testing memory recall...\n"
     ]
    },
    {
     "name": "stderr",
     "output_type": "stream",
     "text": [
      "100%|██████████| 100/100 [00:00<00:00, 1326.45it/s]\n",
      "100%|██████████| 200/200 [00:00<00:00, 1414.72it/s]\n",
      "  0%|          | 0/500 [00:00<?, ?it/s]"
     ]
    },
    {
     "name": "stdout",
     "output_type": "stream",
     "text": [
      "Average error percentage: 70.7\n",
      "Theoretical error percentage: 23.97500611156682\n",
      "Forming weight matrix...\n",
      "Testing memory recall...\n",
      "Average error percentage: 65.73\n",
      "Theoretical error percentage: 30.898052808211517\n",
      "Forming weight matrix...\n",
      "Testing memory recall...\n"
     ]
    },
    {
     "name": "stderr",
     "output_type": "stream",
     "text": [
      "100%|██████████| 500/500 [00:00<00:00, 1407.66it/s]\n",
      " 15%|█▍        | 149/1000 [00:00<00:00, 1488.04it/s]"
     ]
    },
    {
     "name": "stdout",
     "output_type": "stream",
     "text": [
      "Average error percentage: 59.392\n",
      "Theoretical error percentage: 37.639685899007844\n",
      "Forming weight matrix...\n",
      "Testing memory recall...\n"
     ]
    },
    {
     "name": "stderr",
     "output_type": "stream",
     "text": [
      "100%|██████████| 1000/1000 [00:00<00:00, 1316.66it/s]\n",
      "100%|██████████| 1/1 [00:00<00:00, 253.62it/s]\n",
      "100%|██████████| 2/2 [00:00<00:00, 817.44it/s]\n",
      "100%|██████████| 5/5 [00:00<00:00, 912.92it/s]\n",
      "100%|██████████| 10/10 [00:00<00:00, 983.19it/s]\n",
      "100%|██████████| 20/20 [00:00<00:00, 944.20it/s]\n",
      "100%|██████████| 50/50 [00:00<00:00, 1120.42it/s]\n",
      "  0%|          | 0/100 [00:00<?, ?it/s]"
     ]
    },
    {
     "name": "stdout",
     "output_type": "stream",
     "text": [
      "Average error percentage: 57.035\n",
      "Theoretical error percentage: 41.19244763735692\n",
      "Forming weight matrix...\n",
      "Testing memory recall...\n",
      "Average error percentage: 100.0\n",
      "Theoretical error percentage: 0.0\n",
      "Forming weight matrix...\n",
      "Testing memory recall...\n",
      "Average error percentage: 100.0\n",
      "Theoretical error percentage: 9.918588689536384e-11\n",
      "Forming weight matrix...\n",
      "Testing memory recall...\n",
      "Average error percentage: 100.0\n",
      "Theoretical error percentage: 0.021756040588239132\n",
      "Forming weight matrix...\n",
      "Testing memory recall...\n",
      "Average error percentage: 98.4\n",
      "Theoretical error percentage: 0.95082368723994\n",
      "Forming weight matrix...\n",
      "Testing memory recall...\n",
      "Average error percentage: 96.15\n",
      "Theoretical error percentage: 5.325473815162926\n",
      "Forming weight matrix...\n",
      "Testing memory recall...\n",
      "Average error percentage: 85.34\n",
      "Theoretical error percentage: 15.742697620578861\n",
      "Forming weight matrix...\n",
      "Testing memory recall...\n"
     ]
    },
    {
     "name": "stderr",
     "output_type": "stream",
     "text": [
      "100%|██████████| 100/100 [00:00<00:00, 1265.31it/s]\n",
      " 50%|█████     | 101/200 [00:00<00:00, 1009.77it/s]"
     ]
    },
    {
     "name": "stdout",
     "output_type": "stream",
     "text": [
      "Average error percentage: 77.08\n",
      "Theoretical error percentage: 23.97500611156682\n",
      "Forming weight matrix...\n",
      "Testing memory recall...\n"
     ]
    },
    {
     "name": "stderr",
     "output_type": "stream",
     "text": [
      "100%|██████████| 200/200 [00:00<00:00, 1115.87it/s]\n",
      " 22%|██▏       | 111/500 [00:00<00:00, 1105.79it/s]"
     ]
    },
    {
     "name": "stdout",
     "output_type": "stream",
     "text": [
      "Average error percentage: 68.39\n",
      "Theoretical error percentage: 30.898052808211517\n",
      "Forming weight matrix...\n",
      "Testing memory recall...\n"
     ]
    },
    {
     "name": "stderr",
     "output_type": "stream",
     "text": [
      "100%|██████████| 500/500 [00:00<00:00, 1195.53it/s]\n",
      " 14%|█▍        | 143/1000 [00:00<00:00, 1423.32it/s]"
     ]
    },
    {
     "name": "stdout",
     "output_type": "stream",
     "text": [
      "Average error percentage: 61.736\n",
      "Theoretical error percentage: 37.639685899007844\n",
      "Forming weight matrix...\n",
      "Testing memory recall...\n"
     ]
    },
    {
     "name": "stderr",
     "output_type": "stream",
     "text": [
      "100%|██████████| 1000/1000 [00:00<00:00, 1220.16it/s]\n",
      "100%|██████████| 1/1 [00:00<00:00, 439.56it/s]\n",
      "100%|██████████| 2/2 [00:00<00:00, 424.07it/s]\n",
      "100%|██████████| 5/5 [00:00<00:00, 863.56it/s]\n",
      "100%|██████████| 10/10 [00:00<00:00, 832.58it/s]\n",
      "100%|██████████| 20/20 [00:00<00:00, 1298.77it/s]\n",
      "100%|██████████| 50/50 [00:00<00:00, 1020.04it/s]\n",
      "  0%|          | 0/100 [00:00<?, ?it/s]"
     ]
    },
    {
     "name": "stdout",
     "output_type": "stream",
     "text": [
      "Average error percentage: 58.807\n",
      "Theoretical error percentage: 41.19244763735692\n",
      "Forming weight matrix...\n",
      "Testing memory recall...\n",
      "Average error percentage: 0.0\n",
      "Theoretical error percentage: 0.0\n",
      "Forming weight matrix...\n",
      "Testing memory recall...\n",
      "Average error percentage: 0.0\n",
      "Theoretical error percentage: 9.918588689536384e-11\n",
      "Forming weight matrix...\n",
      "Testing memory recall...\n",
      "Average error percentage: 0.0\n",
      "Theoretical error percentage: 0.021756040588239132\n",
      "Forming weight matrix...\n",
      "Testing memory recall...\n",
      "Average error percentage: 0.6\n",
      "Theoretical error percentage: 0.95082368723994\n",
      "Forming weight matrix...\n",
      "Testing memory recall...\n",
      "Average error percentage: 8.95\n",
      "Theoretical error percentage: 5.325473815162926\n",
      "Forming weight matrix...\n",
      "Testing memory recall...\n",
      "Average error percentage: 19.14\n",
      "Theoretical error percentage: 15.742697620578861\n",
      "Forming weight matrix...\n",
      "Testing memory recall...\n"
     ]
    },
    {
     "name": "stderr",
     "output_type": "stream",
     "text": [
      "100%|██████████| 100/100 [00:00<00:00, 791.48it/s]\n",
      " 45%|████▌     | 90/200 [00:00<00:00, 897.02it/s]"
     ]
    },
    {
     "name": "stdout",
     "output_type": "stream",
     "text": [
      "Average error percentage: 23.65\n",
      "Theoretical error percentage: 23.97500611156682\n",
      "Forming weight matrix...\n",
      "Testing memory recall...\n"
     ]
    },
    {
     "name": "stderr",
     "output_type": "stream",
     "text": [
      "100%|██████████| 200/200 [00:00<00:00, 983.62it/s]\n",
      " 28%|██▊       | 139/500 [00:00<00:00, 1380.09it/s]"
     ]
    },
    {
     "name": "stdout",
     "output_type": "stream",
     "text": [
      "Average error percentage: 31.91\n",
      "Theoretical error percentage: 30.898052808211517\n",
      "Forming weight matrix...\n",
      "Testing memory recall...\n"
     ]
    },
    {
     "name": "stderr",
     "output_type": "stream",
     "text": [
      "100%|██████████| 500/500 [00:00<00:00, 1421.65it/s]\n",
      " 14%|█▍        | 141/1000 [00:00<00:00, 1408.03it/s]"
     ]
    },
    {
     "name": "stdout",
     "output_type": "stream",
     "text": [
      "Average error percentage: 37.846\n",
      "Theoretical error percentage: 37.639685899007844\n",
      "Forming weight matrix...\n",
      "Testing memory recall...\n"
     ]
    },
    {
     "name": "stderr",
     "output_type": "stream",
     "text": [
      "100%|██████████| 1000/1000 [00:00<00:00, 1260.61it/s]\n",
      "100%|██████████| 1/1 [00:00<00:00, 399.34it/s]\n",
      "100%|██████████| 2/2 [00:00<00:00, 588.06it/s]\n",
      "100%|██████████| 5/5 [00:00<00:00, 745.26it/s]\n",
      "100%|██████████| 10/10 [00:00<00:00, 645.25it/s]\n",
      "100%|██████████| 20/20 [00:00<00:00, 768.05it/s]\n",
      "100%|██████████| 50/50 [00:00<00:00, 1113.95it/s]\n",
      "  0%|          | 0/100 [00:00<?, ?it/s]"
     ]
    },
    {
     "name": "stdout",
     "output_type": "stream",
     "text": [
      "Average error percentage: 41.05\n",
      "Theoretical error percentage: 41.19244763735692\n",
      "Forming weight matrix...\n",
      "Testing memory recall...\n",
      "Average error percentage: 0.0\n",
      "Theoretical error percentage: 0.0\n",
      "Forming weight matrix...\n",
      "Testing memory recall...\n",
      "Average error percentage: 0.0\n",
      "Theoretical error percentage: 9.918588689536384e-11\n",
      "Forming weight matrix...\n",
      "Testing memory recall...\n",
      "Average error percentage: 0.0\n",
      "Theoretical error percentage: 0.021756040588239132\n",
      "Forming weight matrix...\n",
      "Testing memory recall...\n",
      "Average error percentage: 1.4\n",
      "Theoretical error percentage: 0.95082368723994\n",
      "Forming weight matrix...\n",
      "Testing memory recall...\n",
      "Average error percentage: 5.6\n",
      "Theoretical error percentage: 5.325473815162926\n",
      "Forming weight matrix...\n",
      "Testing memory recall...\n",
      "Average error percentage: 17.4\n",
      "Theoretical error percentage: 15.742697620578861\n",
      "Forming weight matrix...\n",
      "Testing memory recall...\n"
     ]
    },
    {
     "name": "stderr",
     "output_type": "stream",
     "text": [
      "100%|██████████| 100/100 [00:00<00:00, 1194.84it/s]\n",
      "100%|██████████| 200/200 [00:00<00:00, 1220.04it/s]\n"
     ]
    },
    {
     "name": "stdout",
     "output_type": "stream",
     "text": [
      "Average error percentage: 23.79\n",
      "Theoretical error percentage: 23.97500611156682\n",
      "Forming weight matrix...\n",
      "Testing memory recall...\n",
      "Average error percentage: 30.415\n",
      "Theoretical error percentage: 30.898052808211517\n",
      "Forming weight matrix...\n"
     ]
    },
    {
     "name": "stderr",
     "output_type": "stream",
     "text": [
      " 50%|█████     | 252/500 [00:00<00:00, 1290.01it/s]"
     ]
    },
    {
     "name": "stdout",
     "output_type": "stream",
     "text": [
      "Testing memory recall...\n"
     ]
    },
    {
     "name": "stderr",
     "output_type": "stream",
     "text": [
      "100%|██████████| 500/500 [00:00<00:00, 1200.33it/s]\n",
      " 11%|█▏        | 114/1000 [00:00<00:00, 1139.05it/s]"
     ]
    },
    {
     "name": "stdout",
     "output_type": "stream",
     "text": [
      "Average error percentage: 38.062\n",
      "Theoretical error percentage: 37.639685899007844\n",
      "Forming weight matrix...\n",
      "Testing memory recall...\n"
     ]
    },
    {
     "name": "stderr",
     "output_type": "stream",
     "text": [
      "100%|██████████| 1000/1000 [00:00<00:00, 1329.48it/s]\n",
      "100%|██████████| 1/1 [00:00<00:00, 400.49it/s]\n",
      "100%|██████████| 2/2 [00:00<00:00, 658.55it/s]\n",
      "100%|██████████| 5/5 [00:00<00:00, 884.99it/s]\n",
      "100%|██████████| 10/10 [00:00<00:00, 747.04it/s]\n",
      "100%|██████████| 20/20 [00:00<00:00, 936.51it/s]\n",
      "100%|██████████| 50/50 [00:00<00:00, 1048.17it/s]\n",
      "  0%|          | 0/100 [00:00<?, ?it/s]"
     ]
    },
    {
     "name": "stdout",
     "output_type": "stream",
     "text": [
      "Average error percentage: 41.926\n",
      "Theoretical error percentage: 41.19244763735692\n",
      "Forming weight matrix...\n",
      "Testing memory recall...\n",
      "Average error percentage: 0.0\n",
      "Theoretical error percentage: 0.0\n",
      "Forming weight matrix...\n",
      "Testing memory recall...\n",
      "Average error percentage: 0.0\n",
      "Theoretical error percentage: 9.918588689536384e-11\n",
      "Forming weight matrix...\n",
      "Testing memory recall...\n",
      "Average error percentage: 0.0\n",
      "Theoretical error percentage: 0.021756040588239132\n",
      "Forming weight matrix...\n",
      "Testing memory recall...\n",
      "Average error percentage: 0.8\n",
      "Theoretical error percentage: 0.95082368723994\n",
      "Forming weight matrix...\n",
      "Testing memory recall...\n",
      "Average error percentage: 10.55\n",
      "Theoretical error percentage: 5.325473815162926\n",
      "Forming weight matrix...\n",
      "Testing memory recall...\n",
      "Average error percentage: 17.26\n",
      "Theoretical error percentage: 15.742697620578861\n",
      "Forming weight matrix...\n",
      "Testing memory recall...\n"
     ]
    },
    {
     "name": "stderr",
     "output_type": "stream",
     "text": [
      "100%|██████████| 100/100 [00:00<00:00, 1345.26it/s]\n",
      " 50%|█████     | 100/200 [00:00<00:00, 993.96it/s]"
     ]
    },
    {
     "name": "stdout",
     "output_type": "stream",
     "text": [
      "Average error percentage: 26.74\n",
      "Theoretical error percentage: 23.97500611156682\n",
      "Forming weight matrix...\n",
      "Testing memory recall...\n"
     ]
    },
    {
     "name": "stderr",
     "output_type": "stream",
     "text": [
      "100%|██████████| 200/200 [00:00<00:00, 1050.81it/s]\n",
      " 25%|██▌       | 127/500 [00:00<00:00, 1257.56it/s]"
     ]
    },
    {
     "name": "stdout",
     "output_type": "stream",
     "text": [
      "Average error percentage: 32.955\n",
      "Theoretical error percentage: 30.898052808211517\n",
      "Forming weight matrix...\n",
      "Testing memory recall...\n"
     ]
    },
    {
     "name": "stderr",
     "output_type": "stream",
     "text": [
      "100%|██████████| 500/500 [00:00<00:00, 1328.23it/s]\n",
      " 14%|█▍        | 143/1000 [00:00<00:00, 1423.47it/s]"
     ]
    },
    {
     "name": "stdout",
     "output_type": "stream",
     "text": [
      "Average error percentage: 38.838\n",
      "Theoretical error percentage: 37.639685899007844\n",
      "Forming weight matrix...\n",
      "Testing memory recall...\n"
     ]
    },
    {
     "name": "stderr",
     "output_type": "stream",
     "text": [
      "100%|██████████| 1000/1000 [00:00<00:00, 1276.99it/s]\n",
      "100%|██████████| 1/1 [00:00<00:00, 216.50it/s]\n",
      "100%|██████████| 2/2 [00:00<00:00, 711.02it/s]\n",
      "100%|██████████| 5/5 [00:00<00:00, 688.99it/s]\n",
      "100%|██████████| 10/10 [00:00<00:00, 1173.17it/s]\n",
      "100%|██████████| 20/20 [00:00<00:00, 1161.84it/s]\n",
      "100%|██████████| 50/50 [00:00<00:00, 1205.55it/s]\n",
      "  0%|          | 0/100 [00:00<?, ?it/s]"
     ]
    },
    {
     "name": "stdout",
     "output_type": "stream",
     "text": [
      "Average error percentage: 42.229\n",
      "Theoretical error percentage: 41.19244763735692\n",
      "Forming weight matrix...\n",
      "Testing memory recall...\n",
      "Average error percentage: 0.0\n",
      "Theoretical error percentage: 0.0\n",
      "Forming weight matrix...\n",
      "Testing memory recall...\n",
      "Average error percentage: 0.0\n",
      "Theoretical error percentage: 9.918588689536384e-11\n",
      "Forming weight matrix...\n",
      "Testing memory recall...\n",
      "Average error percentage: 1.4\n",
      "Theoretical error percentage: 0.021756040588239132\n",
      "Forming weight matrix...\n",
      "Testing memory recall...\n",
      "Average error percentage: 2.6\n",
      "Theoretical error percentage: 0.95082368723994\n",
      "Forming weight matrix...\n",
      "Testing memory recall...\n",
      "Average error percentage: 7.35\n",
      "Theoretical error percentage: 5.325473815162926\n",
      "Forming weight matrix...\n",
      "Testing memory recall...\n",
      "Average error percentage: 21.34\n",
      "Theoretical error percentage: 15.742697620578861\n",
      "Forming weight matrix...\n",
      "Testing memory recall...\n"
     ]
    },
    {
     "name": "stderr",
     "output_type": "stream",
     "text": [
      "100%|██████████| 100/100 [00:00<00:00, 1251.25it/s]\n",
      " 52%|█████▏    | 104/200 [00:00<00:00, 1036.56it/s]"
     ]
    },
    {
     "name": "stdout",
     "output_type": "stream",
     "text": [
      "Average error percentage: 27.78\n",
      "Theoretical error percentage: 23.97500611156682\n",
      "Forming weight matrix...\n",
      "Testing memory recall...\n"
     ]
    },
    {
     "name": "stderr",
     "output_type": "stream",
     "text": [
      "100%|██████████| 200/200 [00:00<00:00, 1138.35it/s]\n",
      " 22%|██▏       | 111/500 [00:00<00:00, 1105.99it/s]"
     ]
    },
    {
     "name": "stdout",
     "output_type": "stream",
     "text": [
      "Average error percentage: 33.555\n",
      "Theoretical error percentage: 30.898052808211517\n",
      "Forming weight matrix...\n",
      "Testing memory recall...\n"
     ]
    },
    {
     "name": "stderr",
     "output_type": "stream",
     "text": [
      "100%|██████████| 500/500 [00:00<00:00, 1215.14it/s]\n",
      " 15%|█▍        | 148/1000 [00:00<00:00, 1469.38it/s]"
     ]
    },
    {
     "name": "stdout",
     "output_type": "stream",
     "text": [
      "Average error percentage: 40.306\n",
      "Theoretical error percentage: 37.639685899007844\n",
      "Forming weight matrix...\n",
      "Testing memory recall...\n"
     ]
    },
    {
     "name": "stderr",
     "output_type": "stream",
     "text": [
      "100%|██████████| 1000/1000 [00:00<00:00, 1335.50it/s]\n",
      "100%|██████████| 1/1 [00:00<00:00, 399.53it/s]\n",
      "100%|██████████| 2/2 [00:00<00:00, 680.95it/s]\n",
      "100%|██████████| 5/5 [00:00<00:00, 745.26it/s]\n",
      "100%|██████████| 10/10 [00:00<00:00, 1084.84it/s]\n",
      "100%|██████████| 20/20 [00:00<00:00, 1052.46it/s]\n",
      "100%|██████████| 50/50 [00:00<00:00, 1281.10it/s]\n",
      "  0%|          | 0/100 [00:00<?, ?it/s]"
     ]
    },
    {
     "name": "stdout",
     "output_type": "stream",
     "text": [
      "Average error percentage: 43.117\n",
      "Theoretical error percentage: 41.19244763735692\n",
      "Forming weight matrix...\n",
      "Testing memory recall...\n",
      "Average error percentage: 0.0\n",
      "Theoretical error percentage: 0.0\n",
      "Forming weight matrix...\n",
      "Testing memory recall...\n",
      "Average error percentage: 0.0\n",
      "Theoretical error percentage: 9.918588689536384e-11\n",
      "Forming weight matrix...\n",
      "Testing memory recall...\n",
      "Average error percentage: 1.0\n",
      "Theoretical error percentage: 0.021756040588239132\n",
      "Forming weight matrix...\n",
      "Testing memory recall...\n",
      "Average error percentage: 4.1\n",
      "Theoretical error percentage: 0.95082368723994\n",
      "Forming weight matrix...\n",
      "Testing memory recall...\n",
      "Average error percentage: 19.2\n",
      "Theoretical error percentage: 5.325473815162926\n",
      "Forming weight matrix...\n",
      "Testing memory recall...\n",
      "Average error percentage: 30.06\n",
      "Theoretical error percentage: 15.742697620578861\n",
      "Forming weight matrix...\n",
      "Testing memory recall...\n"
     ]
    },
    {
     "name": "stderr",
     "output_type": "stream",
     "text": [
      "100%|██████████| 100/100 [00:00<00:00, 1208.87it/s]\n",
      "100%|██████████| 200/200 [00:00<00:00, 1334.82it/s]\n"
     ]
    },
    {
     "name": "stdout",
     "output_type": "stream",
     "text": [
      "Average error percentage: 33.38\n",
      "Theoretical error percentage: 23.97500611156682\n",
      "Forming weight matrix...\n",
      "Testing memory recall...\n",
      "Average error percentage: 39.88\n",
      "Theoretical error percentage: 30.898052808211517\n",
      "Forming weight matrix...\n"
     ]
    },
    {
     "name": "stderr",
     "output_type": "stream",
     "text": [
      " 57%|█████▋    | 286/500 [00:00<00:00, 1399.49it/s]"
     ]
    },
    {
     "name": "stdout",
     "output_type": "stream",
     "text": [
      "Testing memory recall...\n"
     ]
    },
    {
     "name": "stderr",
     "output_type": "stream",
     "text": [
      "100%|██████████| 500/500 [00:00<00:00, 1448.91it/s]\n",
      " 13%|█▎        | 128/1000 [00:00<00:00, 1274.58it/s]"
     ]
    },
    {
     "name": "stdout",
     "output_type": "stream",
     "text": [
      "Average error percentage: 42.194\n",
      "Theoretical error percentage: 37.639685899007844\n",
      "Forming weight matrix...\n",
      "Testing memory recall...\n"
     ]
    },
    {
     "name": "stderr",
     "output_type": "stream",
     "text": [
      "100%|██████████| 1000/1000 [00:00<00:00, 1146.26it/s]\n",
      "100%|██████████| 1/1 [00:00<00:00, 617.72it/s]\n",
      "100%|██████████| 2/2 [00:00<00:00, 1008.00it/s]\n",
      "100%|██████████| 5/5 [00:00<00:00, 838.22it/s]\n",
      "100%|██████████| 10/10 [00:00<00:00, 998.69it/s]\n",
      "100%|██████████| 20/20 [00:00<00:00, 1278.60it/s]\n",
      "100%|██████████| 50/50 [00:00<00:00, 1290.16it/s]\n",
      "  0%|          | 0/100 [00:00<?, ?it/s]"
     ]
    },
    {
     "name": "stdout",
     "output_type": "stream",
     "text": [
      "Average error percentage: 44.721\n",
      "Theoretical error percentage: 41.19244763735692\n",
      "Forming weight matrix...\n",
      "Testing memory recall...\n",
      "Average error percentage: 0.0\n",
      "Theoretical error percentage: 0.0\n",
      "Forming weight matrix...\n",
      "Testing memory recall...\n",
      "Average error percentage: 26.0\n",
      "Theoretical error percentage: 9.918588689536384e-11\n",
      "Forming weight matrix...\n",
      "Testing memory recall...\n",
      "Average error percentage: 38.0\n",
      "Theoretical error percentage: 0.021756040588239132\n",
      "Forming weight matrix...\n",
      "Testing memory recall...\n",
      "Average error percentage: 44.7\n",
      "Theoretical error percentage: 0.95082368723994\n",
      "Forming weight matrix...\n",
      "Testing memory recall...\n",
      "Average error percentage: 51.8\n",
      "Theoretical error percentage: 5.325473815162926\n",
      "Forming weight matrix...\n",
      "Testing memory recall...\n",
      "Average error percentage: 50.04\n",
      "Theoretical error percentage: 15.742697620578861\n",
      "Forming weight matrix...\n",
      "Testing memory recall...\n"
     ]
    },
    {
     "name": "stderr",
     "output_type": "stream",
     "text": [
      "100%|██████████| 100/100 [00:00<00:00, 1411.33it/s]\n",
      "100%|██████████| 200/200 [00:00<00:00, 1348.96it/s]\n"
     ]
    },
    {
     "name": "stdout",
     "output_type": "stream",
     "text": [
      "Average error percentage: 51.11\n",
      "Theoretical error percentage: 23.97500611156682\n",
      "Forming weight matrix...\n",
      "Testing memory recall...\n",
      "Average error percentage: 49.36\n",
      "Theoretical error percentage: 30.898052808211517\n",
      "Forming weight matrix...\n"
     ]
    },
    {
     "name": "stderr",
     "output_type": "stream",
     "text": [
      " 28%|██▊       | 140/500 [00:00<00:00, 1399.85it/s]"
     ]
    },
    {
     "name": "stdout",
     "output_type": "stream",
     "text": [
      "Testing memory recall...\n"
     ]
    },
    {
     "name": "stderr",
     "output_type": "stream",
     "text": [
      "100%|██████████| 500/500 [00:00<00:00, 1139.22it/s]\n",
      " 15%|█▌        | 153/1000 [00:00<00:00, 1529.63it/s]"
     ]
    },
    {
     "name": "stdout",
     "output_type": "stream",
     "text": [
      "Average error percentage: 49.976\n",
      "Theoretical error percentage: 37.639685899007844\n",
      "Forming weight matrix...\n",
      "Testing memory recall...\n"
     ]
    },
    {
     "name": "stderr",
     "output_type": "stream",
     "text": [
      "100%|██████████| 1000/1000 [00:00<00:00, 1288.91it/s]\n",
      "100%|██████████| 1/1 [00:00<00:00, 323.53it/s]\n",
      "100%|██████████| 2/2 [00:00<00:00, 625.18it/s]\n",
      "100%|██████████| 5/5 [00:00<00:00, 923.33it/s]\n",
      "100%|██████████| 10/10 [00:00<00:00, 1103.39it/s]\n",
      "100%|██████████| 20/20 [00:00<00:00, 1304.73it/s]\n",
      "100%|██████████| 50/50 [00:00<00:00, 1351.90it/s]\n",
      "  0%|          | 0/100 [00:00<?, ?it/s]"
     ]
    },
    {
     "name": "stdout",
     "output_type": "stream",
     "text": [
      "Average error percentage: 49.975\n",
      "Theoretical error percentage: 41.19244763735692\n",
      "Forming weight matrix...\n",
      "Testing memory recall...\n",
      "Average error percentage: 100.0\n",
      "Theoretical error percentage: 0.0\n",
      "Forming weight matrix...\n",
      "Testing memory recall...\n",
      "Average error percentage: 100.0\n",
      "Theoretical error percentage: 9.918588689536384e-11\n",
      "Forming weight matrix...\n",
      "Testing memory recall...\n",
      "Average error percentage: 95.4\n",
      "Theoretical error percentage: 0.021756040588239132\n",
      "Forming weight matrix...\n",
      "Testing memory recall...\n",
      "Average error percentage: 93.1\n",
      "Theoretical error percentage: 0.95082368723994\n",
      "Forming weight matrix...\n",
      "Testing memory recall...\n",
      "Average error percentage: 84.8\n",
      "Theoretical error percentage: 5.325473815162926\n",
      "Forming weight matrix...\n",
      "Testing memory recall...\n",
      "Average error percentage: 74.68\n",
      "Theoretical error percentage: 15.742697620578861\n",
      "Forming weight matrix...\n",
      "Testing memory recall...\n"
     ]
    },
    {
     "name": "stderr",
     "output_type": "stream",
     "text": [
      "100%|██████████| 100/100 [00:00<00:00, 1080.70it/s]\n",
      "100%|██████████| 200/200 [00:00<00:00, 1176.46it/s]\n"
     ]
    },
    {
     "name": "stdout",
     "output_type": "stream",
     "text": [
      "Average error percentage: 67.84\n",
      "Theoretical error percentage: 23.97500611156682\n",
      "Forming weight matrix...\n",
      "Testing memory recall...\n",
      "Average error percentage: 61.455\n",
      "Theoretical error percentage: 30.898052808211517\n",
      "Forming weight matrix...\n"
     ]
    },
    {
     "name": "stderr",
     "output_type": "stream",
     "text": [
      " 50%|████▉     | 249/500 [00:00<00:00, 1261.33it/s]"
     ]
    },
    {
     "name": "stdout",
     "output_type": "stream",
     "text": [
      "Testing memory recall...\n"
     ]
    },
    {
     "name": "stderr",
     "output_type": "stream",
     "text": [
      "100%|██████████| 500/500 [00:00<00:00, 1201.66it/s]\n",
      " 14%|█▎        | 136/1000 [00:00<00:00, 1347.66it/s]"
     ]
    },
    {
     "name": "stdout",
     "output_type": "stream",
     "text": [
      "Average error percentage: 57.51\n",
      "Theoretical error percentage: 37.639685899007844\n",
      "Forming weight matrix...\n",
      "Testing memory recall...\n"
     ]
    },
    {
     "name": "stderr",
     "output_type": "stream",
     "text": [
      "100%|██████████| 1000/1000 [00:00<00:00, 1153.53it/s]\n",
      "100%|██████████| 1/1 [00:00<00:00, 255.70it/s]\n",
      "100%|██████████| 2/2 [00:00<00:00, 707.48it/s]\n",
      "100%|██████████| 5/5 [00:00<00:00, 554.08it/s]\n",
      "100%|██████████| 10/10 [00:00<00:00, 775.92it/s]\n",
      "100%|██████████| 20/20 [00:00<00:00, 1159.56it/s]\n",
      "100%|██████████| 50/50 [00:00<00:00, 1395.05it/s]\n",
      "  0%|          | 0/100 [00:00<?, ?it/s]"
     ]
    },
    {
     "name": "stdout",
     "output_type": "stream",
     "text": [
      "Average error percentage: 55.501\n",
      "Theoretical error percentage: 41.19244763735692\n",
      "Forming weight matrix...\n",
      "Testing memory recall...\n",
      "Average error percentage: 100.0\n",
      "Theoretical error percentage: 0.0\n",
      "Forming weight matrix...\n",
      "Testing memory recall...\n",
      "Average error percentage: 100.0\n",
      "Theoretical error percentage: 9.918588689536384e-11\n",
      "Forming weight matrix...\n",
      "Testing memory recall...\n",
      "Average error percentage: 100.0\n",
      "Theoretical error percentage: 0.021756040588239132\n",
      "Forming weight matrix...\n",
      "Testing memory recall...\n",
      "Average error percentage: 95.9\n",
      "Theoretical error percentage: 0.95082368723994\n",
      "Forming weight matrix...\n",
      "Testing memory recall...\n",
      "Average error percentage: 91.15\n",
      "Theoretical error percentage: 5.325473815162926\n",
      "Forming weight matrix...\n",
      "Testing memory recall...\n",
      "Average error percentage: 80.04\n",
      "Theoretical error percentage: 15.742697620578861\n",
      "Forming weight matrix...\n",
      "Testing memory recall...\n"
     ]
    },
    {
     "name": "stderr",
     "output_type": "stream",
     "text": [
      "100%|██████████| 100/100 [00:00<00:00, 1209.63it/s]\n",
      "100%|██████████| 200/200 [00:00<00:00, 1338.97it/s]\n",
      "  0%|          | 0/500 [00:00<?, ?it/s]"
     ]
    },
    {
     "name": "stdout",
     "output_type": "stream",
     "text": [
      "Average error percentage: 73.05\n",
      "Theoretical error percentage: 23.97500611156682\n",
      "Forming weight matrix...\n",
      "Testing memory recall...\n",
      "Average error percentage: 64.85\n",
      "Theoretical error percentage: 30.898052808211517\n",
      "Forming weight matrix...\n",
      "Testing memory recall...\n"
     ]
    },
    {
     "name": "stderr",
     "output_type": "stream",
     "text": [
      "100%|██████████| 500/500 [00:00<00:00, 1459.34it/s]\n",
      " 15%|█▌        | 152/1000 [00:00<00:00, 1515.18it/s]"
     ]
    },
    {
     "name": "stdout",
     "output_type": "stream",
     "text": [
      "Average error percentage: 60.456\n",
      "Theoretical error percentage: 37.639685899007844\n",
      "Forming weight matrix...\n",
      "Testing memory recall...\n"
     ]
    },
    {
     "name": "stderr",
     "output_type": "stream",
     "text": [
      "100%|██████████| 1000/1000 [00:00<00:00, 1312.55it/s]\n",
      "100%|██████████| 1/1 [00:00<00:00, 644.68it/s]\n",
      "100%|██████████| 2/2 [00:00<00:00, 623.64it/s]\n",
      "100%|██████████| 5/5 [00:00<00:00, 671.84it/s]\n",
      "100%|██████████| 10/10 [00:00<00:00, 644.70it/s]\n",
      "100%|██████████| 20/20 [00:00<00:00, 641.48it/s]\n",
      "100%|██████████| 50/50 [00:00<00:00, 840.35it/s]\n",
      "  0%|          | 0/100 [00:00<?, ?it/s]"
     ]
    },
    {
     "name": "stdout",
     "output_type": "stream",
     "text": [
      "Average error percentage: 57.416\n",
      "Theoretical error percentage: 41.19244763735692\n",
      "Forming weight matrix...\n",
      "Testing memory recall...\n",
      "Average error percentage: 100.0\n",
      "Theoretical error percentage: 0.0\n",
      "Forming weight matrix...\n",
      "Testing memory recall...\n",
      "Average error percentage: 100.0\n",
      "Theoretical error percentage: 9.918588689536384e-11\n",
      "Forming weight matrix...\n",
      "Testing memory recall...\n",
      "Average error percentage: 100.0\n",
      "Theoretical error percentage: 0.021756040588239132\n",
      "Forming weight matrix...\n",
      "Testing memory recall...\n",
      "Average error percentage: 98.9\n",
      "Theoretical error percentage: 0.95082368723994\n",
      "Forming weight matrix...\n",
      "Testing memory recall...\n",
      "Average error percentage: 91.4\n",
      "Theoretical error percentage: 5.325473815162926\n",
      "Forming weight matrix...\n",
      "Testing memory recall...\n",
      "Average error percentage: 84.16\n",
      "Theoretical error percentage: 15.742697620578861\n",
      "Forming weight matrix...\n",
      "Testing memory recall...\n"
     ]
    },
    {
     "name": "stderr",
     "output_type": "stream",
     "text": [
      "100%|██████████| 100/100 [00:00<00:00, 1189.40it/s]\n",
      "100%|██████████| 200/200 [00:00<00:00, 1501.29it/s]\n",
      "  0%|          | 0/500 [00:00<?, ?it/s]"
     ]
    },
    {
     "name": "stdout",
     "output_type": "stream",
     "text": [
      "Average error percentage: 76.78\n",
      "Theoretical error percentage: 23.97500611156682\n",
      "Forming weight matrix...\n",
      "Testing memory recall...\n",
      "Average error percentage: 69.69\n",
      "Theoretical error percentage: 30.898052808211517\n",
      "Forming weight matrix...\n",
      "Testing memory recall...\n"
     ]
    },
    {
     "name": "stderr",
     "output_type": "stream",
     "text": [
      "100%|██████████| 500/500 [00:00<00:00, 1404.29it/s]\n",
      " 14%|█▍        | 141/1000 [00:00<00:00, 1407.89it/s]"
     ]
    },
    {
     "name": "stdout",
     "output_type": "stream",
     "text": [
      "Average error percentage: 62.944\n",
      "Theoretical error percentage: 37.639685899007844\n",
      "Forming weight matrix...\n",
      "Testing memory recall...\n"
     ]
    },
    {
     "name": "stderr",
     "output_type": "stream",
     "text": [
      "100%|██████████| 1000/1000 [00:00<00:00, 1319.40it/s]\n",
      "100%|██████████| 1/1 [00:00<00:00, 209.04it/s]\n",
      "100%|██████████| 2/2 [00:00<00:00, 293.52it/s]\n",
      "100%|██████████| 5/5 [00:00<00:00, 951.43it/s]\n",
      "100%|██████████| 10/10 [00:00<00:00, 655.96it/s]\n",
      "100%|██████████| 20/20 [00:00<00:00, 913.03it/s]\n",
      "100%|██████████| 50/50 [00:00<00:00, 779.90it/s]\n",
      "  0%|          | 0/100 [00:00<?, ?it/s]"
     ]
    },
    {
     "name": "stdout",
     "output_type": "stream",
     "text": [
      "Average error percentage: 59.268\n",
      "Theoretical error percentage: 41.19244763735692\n",
      "Forming weight matrix...\n",
      "Testing memory recall...\n",
      "Average error percentage: 0.0\n",
      "Theoretical error percentage: 0.0\n",
      "Forming weight matrix...\n",
      "Testing memory recall...\n",
      "Average error percentage: 0.0\n",
      "Theoretical error percentage: 9.918588689536384e-11\n",
      "Forming weight matrix...\n",
      "Testing memory recall...\n",
      "Average error percentage: 0.0\n",
      "Theoretical error percentage: 0.021756040588239132\n",
      "Forming weight matrix...\n",
      "Testing memory recall...\n",
      "Average error percentage: 0.2\n",
      "Theoretical error percentage: 0.95082368723994\n",
      "Forming weight matrix...\n",
      "Testing memory recall...\n",
      "Average error percentage: 8.4\n",
      "Theoretical error percentage: 5.325473815162926\n",
      "Forming weight matrix...\n",
      "Testing memory recall...\n",
      "Average error percentage: 15.64\n",
      "Theoretical error percentage: 15.742697620578861\n",
      "Forming weight matrix...\n",
      "Testing memory recall...\n"
     ]
    },
    {
     "name": "stderr",
     "output_type": "stream",
     "text": [
      "100%|██████████| 100/100 [00:00<00:00, 755.27it/s]\n",
      " 54%|█████▍    | 108/200 [00:00<00:00, 1069.05it/s]"
     ]
    },
    {
     "name": "stdout",
     "output_type": "stream",
     "text": [
      "Average error percentage: 21.69\n",
      "Theoretical error percentage: 23.97500611156682\n",
      "Forming weight matrix...\n",
      "Testing memory recall...\n"
     ]
    },
    {
     "name": "stderr",
     "output_type": "stream",
     "text": [
      "100%|██████████| 200/200 [00:00<00:00, 941.45it/s] \n",
      " 30%|███       | 151/500 [00:00<00:00, 1501.37it/s]"
     ]
    },
    {
     "name": "stdout",
     "output_type": "stream",
     "text": [
      "Average error percentage: 30.845\n",
      "Theoretical error percentage: 30.898052808211517\n",
      "Forming weight matrix...\n",
      "Testing memory recall...\n"
     ]
    },
    {
     "name": "stderr",
     "output_type": "stream",
     "text": [
      "100%|██████████| 500/500 [00:00<00:00, 1432.10it/s]\n",
      " 12%|█▏        | 124/1000 [00:00<00:00, 1234.36it/s]"
     ]
    },
    {
     "name": "stdout",
     "output_type": "stream",
     "text": [
      "Average error percentage: 37.288\n",
      "Theoretical error percentage: 37.639685899007844\n",
      "Forming weight matrix...\n",
      "Testing memory recall...\n"
     ]
    },
    {
     "name": "stderr",
     "output_type": "stream",
     "text": [
      "100%|██████████| 1000/1000 [00:00<00:00, 1161.97it/s]\n",
      "100%|██████████| 1/1 [00:00<00:00, 311.73it/s]\n",
      "100%|██████████| 2/2 [00:00<00:00, 370.16it/s]\n",
      "100%|██████████| 5/5 [00:00<00:00, 485.96it/s]\n",
      "100%|██████████| 10/10 [00:00<00:00, 912.50it/s]\n",
      "100%|██████████| 20/20 [00:00<00:00, 939.54it/s]\n",
      "100%|██████████| 50/50 [00:00<00:00, 1025.49it/s]\n",
      "  0%|          | 0/100 [00:00<?, ?it/s]"
     ]
    },
    {
     "name": "stdout",
     "output_type": "stream",
     "text": [
      "Average error percentage: 41.688\n",
      "Theoretical error percentage: 41.19244763735692\n",
      "Forming weight matrix...\n",
      "Testing memory recall...\n",
      "Average error percentage: 0.0\n",
      "Theoretical error percentage: 0.0\n",
      "Forming weight matrix...\n",
      "Testing memory recall...\n",
      "Average error percentage: 0.0\n",
      "Theoretical error percentage: 9.918588689536384e-11\n",
      "Forming weight matrix...\n",
      "Testing memory recall...\n",
      "Average error percentage: 0.0\n",
      "Theoretical error percentage: 0.021756040588239132\n",
      "Forming weight matrix...\n",
      "Testing memory recall...\n",
      "Average error percentage: 0.7\n",
      "Theoretical error percentage: 0.95082368723994\n",
      "Forming weight matrix...\n",
      "Testing memory recall...\n",
      "Average error percentage: 6.1\n",
      "Theoretical error percentage: 5.325473815162926\n",
      "Forming weight matrix...\n",
      "Testing memory recall...\n",
      "Average error percentage: 18.92\n",
      "Theoretical error percentage: 15.742697620578861\n",
      "Forming weight matrix...\n",
      "Testing memory recall...\n"
     ]
    },
    {
     "name": "stderr",
     "output_type": "stream",
     "text": [
      "100%|██████████| 100/100 [00:00<00:00, 1084.13it/s]\n",
      " 48%|████▊     | 96/200 [00:00<00:00, 959.16it/s]"
     ]
    },
    {
     "name": "stdout",
     "output_type": "stream",
     "text": [
      "Average error percentage: 26.36\n",
      "Theoretical error percentage: 23.97500611156682\n",
      "Forming weight matrix...\n",
      "Testing memory recall...\n"
     ]
    },
    {
     "name": "stderr",
     "output_type": "stream",
     "text": [
      "100%|██████████| 200/200 [00:00<00:00, 1079.17it/s]\n",
      " 12%|█▏        | 58/500 [00:00<00:00, 570.31it/s]"
     ]
    },
    {
     "name": "stdout",
     "output_type": "stream",
     "text": [
      "Average error percentage: 30.495\n",
      "Theoretical error percentage: 30.898052808211517\n",
      "Forming weight matrix...\n",
      "Testing memory recall...\n"
     ]
    },
    {
     "name": "stderr",
     "output_type": "stream",
     "text": [
      "100%|██████████| 500/500 [00:00<00:00, 719.31it/s]\n",
      "  0%|          | 0/1000 [00:00<?, ?it/s]"
     ]
    },
    {
     "name": "stdout",
     "output_type": "stream",
     "text": [
      "Average error percentage: 39.144\n",
      "Theoretical error percentage: 37.639685899007844\n",
      "Forming weight matrix...\n",
      "Testing memory recall...\n"
     ]
    },
    {
     "name": "stderr",
     "output_type": "stream",
     "text": [
      "100%|██████████| 1000/1000 [00:00<00:00, 1250.59it/s]\n",
      "100%|██████████| 1/1 [00:00<00:00, 475.33it/s]\n",
      "100%|██████████| 2/2 [00:00<00:00, 467.96it/s]\n",
      "100%|██████████| 5/5 [00:00<00:00, 739.19it/s]\n",
      "100%|██████████| 10/10 [00:00<00:00, 1025.53it/s]\n",
      "100%|██████████| 20/20 [00:00<00:00, 1261.43it/s]\n",
      "100%|██████████| 50/50 [00:00<00:00, 1004.50it/s]\n",
      "  0%|          | 0/100 [00:00<?, ?it/s]"
     ]
    },
    {
     "name": "stdout",
     "output_type": "stream",
     "text": [
      "Average error percentage: 41.733\n",
      "Theoretical error percentage: 41.19244763735692\n",
      "Forming weight matrix...\n",
      "Testing memory recall...\n",
      "Average error percentage: 0.0\n",
      "Theoretical error percentage: 0.0\n",
      "Forming weight matrix...\n",
      "Testing memory recall...\n",
      "Average error percentage: 0.0\n",
      "Theoretical error percentage: 9.918588689536384e-11\n",
      "Forming weight matrix...\n",
      "Testing memory recall...\n",
      "Average error percentage: 0.0\n",
      "Theoretical error percentage: 0.021756040588239132\n",
      "Forming weight matrix...\n",
      "Testing memory recall...\n",
      "Average error percentage: 1.4\n",
      "Theoretical error percentage: 0.95082368723994\n",
      "Forming weight matrix...\n",
      "Testing memory recall...\n",
      "Average error percentage: 6.9\n",
      "Theoretical error percentage: 5.325473815162926\n",
      "Forming weight matrix...\n",
      "Testing memory recall...\n",
      "Average error percentage: 18.66\n",
      "Theoretical error percentage: 15.742697620578861\n",
      "Forming weight matrix...\n",
      "Testing memory recall...\n"
     ]
    },
    {
     "name": "stderr",
     "output_type": "stream",
     "text": [
      "100%|██████████| 100/100 [00:00<00:00, 926.30it/s]\n",
      "100%|██████████| 200/200 [00:00<00:00, 1218.11it/s]\n"
     ]
    },
    {
     "name": "stdout",
     "output_type": "stream",
     "text": [
      "Average error percentage: 26.95\n",
      "Theoretical error percentage: 23.97500611156682\n",
      "Forming weight matrix...\n",
      "Testing memory recall...\n",
      "Average error percentage: 31.55\n",
      "Theoretical error percentage: 30.898052808211517\n",
      "Forming weight matrix...\n"
     ]
    },
    {
     "name": "stderr",
     "output_type": "stream",
     "text": [
      " 28%|██▊       | 139/500 [00:00<00:00, 1386.96it/s]"
     ]
    },
    {
     "name": "stdout",
     "output_type": "stream",
     "text": [
      "Testing memory recall...\n"
     ]
    },
    {
     "name": "stderr",
     "output_type": "stream",
     "text": [
      "100%|██████████| 500/500 [00:00<00:00, 1389.77it/s]\n",
      " 16%|█▌        | 157/1000 [00:00<00:00, 1564.82it/s]"
     ]
    },
    {
     "name": "stdout",
     "output_type": "stream",
     "text": [
      "Average error percentage: 39.454\n",
      "Theoretical error percentage: 37.639685899007844\n",
      "Forming weight matrix...\n",
      "Testing memory recall...\n"
     ]
    },
    {
     "name": "stderr",
     "output_type": "stream",
     "text": [
      "100%|██████████| 1000/1000 [00:00<00:00, 1392.91it/s]\n",
      "100%|██████████| 1/1 [00:00<00:00, 729.95it/s]\n",
      "100%|██████████| 2/2 [00:00<00:00, 762.81it/s]\n",
      "100%|██████████| 5/5 [00:00<00:00, 772.69it/s]\n",
      "100%|██████████| 10/10 [00:00<00:00, 980.66it/s]\n",
      "100%|██████████| 20/20 [00:00<00:00, 1236.64it/s]\n",
      "100%|██████████| 50/50 [00:00<00:00, 1413.78it/s]\n",
      "  0%|          | 0/100 [00:00<?, ?it/s]"
     ]
    },
    {
     "name": "stdout",
     "output_type": "stream",
     "text": [
      "Average error percentage: 41.458\n",
      "Theoretical error percentage: 41.19244763735692\n",
      "Forming weight matrix...\n",
      "Testing memory recall...\n",
      "Average error percentage: 0.0\n",
      "Theoretical error percentage: 0.0\n",
      "Forming weight matrix...\n",
      "Testing memory recall...\n",
      "Average error percentage: 0.0\n",
      "Theoretical error percentage: 9.918588689536384e-11\n",
      "Forming weight matrix...\n",
      "Testing memory recall...\n",
      "Average error percentage: 0.0\n",
      "Theoretical error percentage: 0.021756040588239132\n",
      "Forming weight matrix...\n",
      "Testing memory recall...\n",
      "Average error percentage: 7.7\n",
      "Theoretical error percentage: 0.95082368723994\n",
      "Forming weight matrix...\n",
      "Testing memory recall...\n",
      "Average error percentage: 9.75\n",
      "Theoretical error percentage: 5.325473815162926\n",
      "Forming weight matrix...\n",
      "Testing memory recall...\n",
      "Average error percentage: 22.24\n",
      "Theoretical error percentage: 15.742697620578861\n",
      "Forming weight matrix...\n",
      "Testing memory recall...\n"
     ]
    },
    {
     "name": "stderr",
     "output_type": "stream",
     "text": [
      "100%|██████████| 100/100 [00:00<00:00, 936.92it/s]\n",
      "100%|██████████| 200/200 [00:00<00:00, 1373.43it/s]\n",
      "  0%|          | 0/500 [00:00<?, ?it/s]"
     ]
    },
    {
     "name": "stdout",
     "output_type": "stream",
     "text": [
      "Average error percentage: 30.04\n",
      "Theoretical error percentage: 23.97500611156682\n",
      "Forming weight matrix...\n",
      "Testing memory recall...\n",
      "Average error percentage: 34.825\n",
      "Theoretical error percentage: 30.898052808211517\n",
      "Forming weight matrix...\n",
      "Testing memory recall...\n"
     ]
    },
    {
     "name": "stderr",
     "output_type": "stream",
     "text": [
      "100%|██████████| 500/500 [00:00<00:00, 1063.72it/s]\n",
      "  0%|          | 0/1000 [00:00<?, ?it/s]"
     ]
    },
    {
     "name": "stdout",
     "output_type": "stream",
     "text": [
      "Average error percentage: 39.884\n",
      "Theoretical error percentage: 37.639685899007844\n",
      "Forming weight matrix...\n",
      "Testing memory recall...\n"
     ]
    },
    {
     "name": "stderr",
     "output_type": "stream",
     "text": [
      "100%|██████████| 1000/1000 [00:00<00:00, 1062.70it/s]\n",
      "100%|██████████| 1/1 [00:00<00:00, 472.54it/s]\n",
      "100%|██████████| 2/2 [00:00<00:00, 562.31it/s]\n",
      "100%|██████████| 5/5 [00:00<00:00, 590.03it/s]\n",
      "100%|██████████| 10/10 [00:00<00:00, 994.83it/s]\n",
      "100%|██████████| 20/20 [00:00<00:00, 995.78it/s]\n",
      "100%|██████████| 50/50 [00:00<00:00, 1428.82it/s]\n",
      "  0%|          | 0/100 [00:00<?, ?it/s]"
     ]
    },
    {
     "name": "stdout",
     "output_type": "stream",
     "text": [
      "Average error percentage: 42.982\n",
      "Theoretical error percentage: 41.19244763735692\n",
      "Forming weight matrix...\n",
      "Testing memory recall...\n",
      "Average error percentage: 0.0\n",
      "Theoretical error percentage: 0.0\n",
      "Forming weight matrix...\n",
      "Testing memory recall...\n",
      "Average error percentage: 0.0\n",
      "Theoretical error percentage: 9.918588689536384e-11\n",
      "Forming weight matrix...\n",
      "Testing memory recall...\n",
      "Average error percentage: 12.0\n",
      "Theoretical error percentage: 0.021756040588239132\n",
      "Forming weight matrix...\n",
      "Testing memory recall...\n",
      "Average error percentage: 5.5\n",
      "Theoretical error percentage: 0.95082368723994\n",
      "Forming weight matrix...\n",
      "Testing memory recall...\n",
      "Average error percentage: 12.2\n",
      "Theoretical error percentage: 5.325473815162926\n",
      "Forming weight matrix...\n",
      "Testing memory recall...\n",
      "Average error percentage: 27.66\n",
      "Theoretical error percentage: 15.742697620578861\n",
      "Forming weight matrix...\n",
      "Testing memory recall...\n"
     ]
    },
    {
     "name": "stderr",
     "output_type": "stream",
     "text": [
      "100%|██████████| 100/100 [00:00<00:00, 1432.66it/s]\n",
      "100%|██████████| 200/200 [00:00<00:00, 1293.65it/s]\n"
     ]
    },
    {
     "name": "stdout",
     "output_type": "stream",
     "text": [
      "Average error percentage: 32.67\n",
      "Theoretical error percentage: 23.97500611156682\n",
      "Forming weight matrix...\n",
      "Testing memory recall...\n",
      "Average error percentage: 38.035\n",
      "Theoretical error percentage: 30.898052808211517\n",
      "Forming weight matrix...\n"
     ]
    },
    {
     "name": "stderr",
     "output_type": "stream",
     "text": [
      " 22%|██▏       | 108/500 [00:00<00:00, 1058.87it/s]"
     ]
    },
    {
     "name": "stdout",
     "output_type": "stream",
     "text": [
      "Testing memory recall...\n"
     ]
    },
    {
     "name": "stderr",
     "output_type": "stream",
     "text": [
      "100%|██████████| 500/500 [00:00<00:00, 1149.68it/s]\n",
      " 15%|█▌        | 150/1000 [00:00<00:00, 1494.75it/s]"
     ]
    },
    {
     "name": "stdout",
     "output_type": "stream",
     "text": [
      "Average error percentage: 42.04\n",
      "Theoretical error percentage: 37.639685899007844\n",
      "Forming weight matrix...\n",
      "Testing memory recall...\n"
     ]
    },
    {
     "name": "stderr",
     "output_type": "stream",
     "text": [
      "100%|██████████| 1000/1000 [00:00<00:00, 1123.30it/s]\n",
      "100%|██████████| 1/1 [00:00<00:00, 558.64it/s]\n",
      "100%|██████████| 2/2 [00:00<00:00, 514.26it/s]\n",
      "100%|██████████| 5/5 [00:00<00:00, 548.56it/s]\n",
      "100%|██████████| 10/10 [00:00<00:00, 1004.91it/s]\n",
      "100%|██████████| 20/20 [00:00<00:00, 909.29it/s]\n",
      "100%|██████████| 50/50 [00:00<00:00, 806.50it/s]\n",
      "  0%|          | 0/100 [00:00<?, ?it/s]"
     ]
    },
    {
     "name": "stdout",
     "output_type": "stream",
     "text": [
      "Average error percentage: 44.683\n",
      "Theoretical error percentage: 41.19244763735692\n",
      "Forming weight matrix...\n",
      "Testing memory recall...\n",
      "Average error percentage: 50.0\n",
      "Theoretical error percentage: 0.0\n",
      "Forming weight matrix...\n",
      "Testing memory recall...\n",
      "Average error percentage: 60.0\n",
      "Theoretical error percentage: 9.918588689536384e-11\n",
      "Forming weight matrix...\n",
      "Testing memory recall...\n",
      "Average error percentage: 38.2\n",
      "Theoretical error percentage: 0.021756040588239132\n",
      "Forming weight matrix...\n",
      "Testing memory recall...\n",
      "Average error percentage: 46.0\n",
      "Theoretical error percentage: 0.95082368723994\n",
      "Forming weight matrix...\n",
      "Testing memory recall...\n",
      "Average error percentage: 48.2\n",
      "Theoretical error percentage: 5.325473815162926\n",
      "Forming weight matrix...\n",
      "Testing memory recall...\n",
      "Average error percentage: 48.04\n",
      "Theoretical error percentage: 15.742697620578861\n",
      "Forming weight matrix...\n",
      "Testing memory recall...\n"
     ]
    },
    {
     "name": "stderr",
     "output_type": "stream",
     "text": [
      "100%|██████████| 100/100 [00:00<00:00, 1094.07it/s]\n",
      "100%|██████████| 200/200 [00:00<00:00, 1418.84it/s]\n",
      "  0%|          | 0/500 [00:00<?, ?it/s]"
     ]
    },
    {
     "name": "stdout",
     "output_type": "stream",
     "text": [
      "Average error percentage: 50.13\n",
      "Theoretical error percentage: 23.97500611156682\n",
      "Forming weight matrix...\n",
      "Testing memory recall...\n",
      "Average error percentage: 50.54\n",
      "Theoretical error percentage: 30.898052808211517\n",
      "Forming weight matrix...\n",
      "Testing memory recall...\n"
     ]
    },
    {
     "name": "stderr",
     "output_type": "stream",
     "text": [
      "100%|██████████| 500/500 [00:00<00:00, 899.53it/s] \n",
      " 13%|█▎        | 129/1000 [00:00<00:00, 1282.16it/s]"
     ]
    },
    {
     "name": "stdout",
     "output_type": "stream",
     "text": [
      "Average error percentage: 49.946\n",
      "Theoretical error percentage: 37.639685899007844\n",
      "Forming weight matrix...\n",
      "Testing memory recall...\n"
     ]
    },
    {
     "name": "stderr",
     "output_type": "stream",
     "text": [
      "100%|██████████| 1000/1000 [00:00<00:00, 1140.99it/s]\n",
      "100%|██████████| 1/1 [00:00<00:00, 550.07it/s]\n",
      "100%|██████████| 2/2 [00:00<00:00, 634.11it/s]\n",
      "100%|██████████| 5/5 [00:00<00:00, 793.38it/s]\n",
      "100%|██████████| 10/10 [00:00<00:00, 937.99it/s]\n",
      "100%|██████████| 20/20 [00:00<00:00, 1184.48it/s]\n",
      "100%|██████████| 50/50 [00:00<00:00, 1448.47it/s]\n",
      "  0%|          | 0/100 [00:00<?, ?it/s]"
     ]
    },
    {
     "name": "stdout",
     "output_type": "stream",
     "text": [
      "Average error percentage: 50.07\n",
      "Theoretical error percentage: 41.19244763735692\n",
      "Forming weight matrix...\n",
      "Testing memory recall...\n",
      "Average error percentage: 100.0\n",
      "Theoretical error percentage: 0.0\n",
      "Forming weight matrix...\n",
      "Testing memory recall...\n",
      "Average error percentage: 100.0\n",
      "Theoretical error percentage: 9.918588689536384e-11\n",
      "Forming weight matrix...\n",
      "Testing memory recall...\n",
      "Average error percentage: 98.6\n",
      "Theoretical error percentage: 0.021756040588239132\n",
      "Forming weight matrix...\n",
      "Testing memory recall...\n",
      "Average error percentage: 89.5\n",
      "Theoretical error percentage: 0.95082368723994\n",
      "Forming weight matrix...\n",
      "Testing memory recall...\n",
      "Average error percentage: 81.1\n",
      "Theoretical error percentage: 5.325473815162926\n",
      "Forming weight matrix...\n",
      "Testing memory recall...\n",
      "Average error percentage: 72.2\n",
      "Theoretical error percentage: 15.742697620578861\n",
      "Forming weight matrix...\n",
      "Testing memory recall...\n"
     ]
    },
    {
     "name": "stderr",
     "output_type": "stream",
     "text": [
      "100%|██████████| 100/100 [00:00<00:00, 1428.54it/s]\n",
      "100%|██████████| 200/200 [00:00<00:00, 1347.09it/s]\n",
      "  0%|          | 0/500 [00:00<?, ?it/s]"
     ]
    },
    {
     "name": "stdout",
     "output_type": "stream",
     "text": [
      "Average error percentage: 66.71\n",
      "Theoretical error percentage: 23.97500611156682\n",
      "Forming weight matrix...\n",
      "Testing memory recall...\n",
      "Average error percentage: 61.42\n",
      "Theoretical error percentage: 30.898052808211517\n",
      "Forming weight matrix...\n",
      "Testing memory recall...\n"
     ]
    },
    {
     "name": "stderr",
     "output_type": "stream",
     "text": [
      "100%|██████████| 500/500 [00:00<00:00, 1264.13it/s]\n",
      " 15%|█▌        | 151/1000 [00:00<00:00, 1506.84it/s]"
     ]
    },
    {
     "name": "stdout",
     "output_type": "stream",
     "text": [
      "Average error percentage: 57.436\n",
      "Theoretical error percentage: 37.639685899007844\n",
      "Forming weight matrix...\n",
      "Testing memory recall...\n"
     ]
    },
    {
     "name": "stderr",
     "output_type": "stream",
     "text": [
      "100%|██████████| 1000/1000 [00:00<00:00, 1435.02it/s]\n",
      "100%|██████████| 1/1 [00:00<00:00, 232.40it/s]\n",
      "100%|██████████| 2/2 [00:00<00:00, 771.30it/s]\n",
      "100%|██████████| 5/5 [00:00<00:00, 685.86it/s]\n",
      "100%|██████████| 10/10 [00:00<00:00, 1055.86it/s]\n",
      "100%|██████████| 20/20 [00:00<00:00, 1175.22it/s]\n",
      "100%|██████████| 50/50 [00:00<00:00, 1432.82it/s]\n",
      "  0%|          | 0/100 [00:00<?, ?it/s]"
     ]
    },
    {
     "name": "stdout",
     "output_type": "stream",
     "text": [
      "Average error percentage: 55.521\n",
      "Theoretical error percentage: 41.19244763735692\n",
      "Forming weight matrix...\n",
      "Testing memory recall...\n",
      "Average error percentage: 100.0\n",
      "Theoretical error percentage: 0.0\n",
      "Forming weight matrix...\n",
      "Testing memory recall...\n",
      "Average error percentage: 100.0\n",
      "Theoretical error percentage: 9.918588689536384e-11\n",
      "Forming weight matrix...\n",
      "Testing memory recall...\n",
      "Average error percentage: 100.0\n",
      "Theoretical error percentage: 0.021756040588239132\n",
      "Forming weight matrix...\n",
      "Testing memory recall...\n",
      "Average error percentage: 93.9\n",
      "Theoretical error percentage: 0.95082368723994\n",
      "Forming weight matrix...\n",
      "Testing memory recall...\n",
      "Average error percentage: 92.95\n",
      "Theoretical error percentage: 5.325473815162926\n",
      "Forming weight matrix...\n",
      "Testing memory recall...\n",
      "Average error percentage: 78.62\n",
      "Theoretical error percentage: 15.742697620578861\n",
      "Forming weight matrix...\n",
      "Testing memory recall...\n"
     ]
    },
    {
     "name": "stderr",
     "output_type": "stream",
     "text": [
      "100%|██████████| 100/100 [00:00<00:00, 1329.40it/s]\n",
      "100%|██████████| 200/200 [00:00<00:00, 1469.41it/s]\n",
      "  0%|          | 0/500 [00:00<?, ?it/s]"
     ]
    },
    {
     "name": "stdout",
     "output_type": "stream",
     "text": [
      "Average error percentage: 73.04\n",
      "Theoretical error percentage: 23.97500611156682\n",
      "Forming weight matrix...\n",
      "Testing memory recall...\n",
      "Average error percentage: 65.685\n",
      "Theoretical error percentage: 30.898052808211517\n",
      "Forming weight matrix...\n",
      "Testing memory recall...\n"
     ]
    },
    {
     "name": "stderr",
     "output_type": "stream",
     "text": [
      "100%|██████████| 500/500 [00:00<00:00, 1027.96it/s]\n",
      " 16%|█▌        | 156/1000 [00:00<00:00, 1550.91it/s]"
     ]
    },
    {
     "name": "stdout",
     "output_type": "stream",
     "text": [
      "Average error percentage: 59.494\n",
      "Theoretical error percentage: 37.639685899007844\n",
      "Forming weight matrix...\n",
      "Testing memory recall...\n"
     ]
    },
    {
     "name": "stderr",
     "output_type": "stream",
     "text": [
      "100%|██████████| 1000/1000 [00:00<00:00, 1316.16it/s]\n",
      "100%|██████████| 1/1 [00:00<00:00, 135.74it/s]\n",
      "100%|██████████| 2/2 [00:00<00:00, 495.58it/s]\n",
      "100%|██████████| 5/5 [00:00<00:00, 711.26it/s]\n",
      "100%|██████████| 10/10 [00:00<00:00, 870.03it/s]\n",
      "100%|██████████| 20/20 [00:00<00:00, 862.93it/s]\n",
      "100%|██████████| 50/50 [00:00<00:00, 973.45it/s]\n",
      "  0%|          | 0/100 [00:00<?, ?it/s]"
     ]
    },
    {
     "name": "stdout",
     "output_type": "stream",
     "text": [
      "Average error percentage: 57.21\n",
      "Theoretical error percentage: 41.19244763735692\n",
      "Forming weight matrix...\n",
      "Testing memory recall...\n",
      "Average error percentage: 100.0\n",
      "Theoretical error percentage: 0.0\n",
      "Forming weight matrix...\n",
      "Testing memory recall...\n",
      "Average error percentage: 100.0\n",
      "Theoretical error percentage: 9.918588689536384e-11\n",
      "Forming weight matrix...\n",
      "Testing memory recall...\n",
      "Average error percentage: 100.0\n",
      "Theoretical error percentage: 0.021756040588239132\n",
      "Forming weight matrix...\n",
      "Testing memory recall...\n",
      "Average error percentage: 99.9\n",
      "Theoretical error percentage: 0.95082368723994\n",
      "Forming weight matrix...\n",
      "Testing memory recall...\n",
      "Average error percentage: 92.2\n",
      "Theoretical error percentage: 5.325473815162926\n",
      "Forming weight matrix...\n",
      "Testing memory recall...\n",
      "Average error percentage: 83.7\n",
      "Theoretical error percentage: 15.742697620578861\n",
      "Forming weight matrix...\n",
      "Testing memory recall...\n"
     ]
    },
    {
     "name": "stderr",
     "output_type": "stream",
     "text": [
      "100%|██████████| 100/100 [00:00<00:00, 1311.94it/s]\n",
      "100%|██████████| 200/200 [00:00<00:00, 1439.06it/s]\n",
      "  0%|          | 0/500 [00:00<?, ?it/s]"
     ]
    },
    {
     "name": "stdout",
     "output_type": "stream",
     "text": [
      "Average error percentage: 77.42\n",
      "Theoretical error percentage: 23.97500611156682\n",
      "Forming weight matrix...\n",
      "Testing memory recall...\n",
      "Average error percentage: 69.755\n",
      "Theoretical error percentage: 30.898052808211517\n",
      "Forming weight matrix...\n",
      "Testing memory recall...\n"
     ]
    },
    {
     "name": "stderr",
     "output_type": "stream",
     "text": [
      "100%|██████████| 500/500 [00:00<00:00, 1398.34it/s]\n",
      " 14%|█▍        | 143/1000 [00:00<00:00, 1422.55it/s]"
     ]
    },
    {
     "name": "stdout",
     "output_type": "stream",
     "text": [
      "Average error percentage: 62.896\n",
      "Theoretical error percentage: 37.639685899007844\n",
      "Forming weight matrix...\n",
      "Testing memory recall...\n"
     ]
    },
    {
     "name": "stderr",
     "output_type": "stream",
     "text": [
      "100%|██████████| 1000/1000 [00:00<00:00, 1473.99it/s]\n",
      "100%|██████████| 1/1 [00:00<00:00, 559.32it/s]\n",
      "100%|██████████| 2/2 [00:00<00:00, 668.95it/s]\n",
      "100%|██████████| 5/5 [00:00<00:00, 817.70it/s]\n",
      "100%|██████████| 10/10 [00:00<00:00, 923.43it/s]\n",
      "100%|██████████| 20/20 [00:00<00:00, 1146.85it/s]\n",
      "100%|██████████| 50/50 [00:00<00:00, 1536.90it/s]\n",
      "  0%|          | 0/100 [00:00<?, ?it/s]"
     ]
    },
    {
     "name": "stdout",
     "output_type": "stream",
     "text": [
      "Average error percentage: 58.79\n",
      "Theoretical error percentage: 41.19244763735692\n",
      "Forming weight matrix...\n",
      "Testing memory recall...\n",
      "Average error percentage: 0.0\n",
      "Theoretical error percentage: 0.0\n",
      "Forming weight matrix...\n",
      "Testing memory recall...\n",
      "Average error percentage: 0.0\n",
      "Theoretical error percentage: 9.918588689536384e-11\n",
      "Forming weight matrix...\n",
      "Testing memory recall...\n",
      "Average error percentage: 0.0\n",
      "Theoretical error percentage: 0.021756040588239132\n",
      "Forming weight matrix...\n",
      "Testing memory recall...\n",
      "Average error percentage: 1.4\n",
      "Theoretical error percentage: 0.95082368723994\n",
      "Forming weight matrix...\n",
      "Testing memory recall...\n",
      "Average error percentage: 5.0\n",
      "Theoretical error percentage: 5.325473815162926\n",
      "Forming weight matrix...\n",
      "Testing memory recall...\n",
      "Average error percentage: 16.68\n",
      "Theoretical error percentage: 15.742697620578861\n",
      "Forming weight matrix...\n",
      "Testing memory recall...\n"
     ]
    },
    {
     "name": "stderr",
     "output_type": "stream",
     "text": [
      "100%|██████████| 100/100 [00:00<00:00, 1290.92it/s]\n",
      "100%|██████████| 200/200 [00:00<00:00, 1419.80it/s]\n",
      "  0%|          | 0/500 [00:00<?, ?it/s]"
     ]
    },
    {
     "name": "stdout",
     "output_type": "stream",
     "text": [
      "Average error percentage: 23.37\n",
      "Theoretical error percentage: 23.97500611156682\n",
      "Forming weight matrix...\n",
      "Testing memory recall...\n",
      "Average error percentage: 30.505\n",
      "Theoretical error percentage: 30.898052808211517\n",
      "Forming weight matrix...\n",
      "Testing memory recall...\n"
     ]
    },
    {
     "name": "stderr",
     "output_type": "stream",
     "text": [
      "100%|██████████| 500/500 [00:00<00:00, 1417.17it/s]\n",
      " 15%|█▌        | 152/1000 [00:00<00:00, 1514.50it/s]"
     ]
    },
    {
     "name": "stdout",
     "output_type": "stream",
     "text": [
      "Average error percentage: 37.842\n",
      "Theoretical error percentage: 37.639685899007844\n",
      "Forming weight matrix...\n",
      "Testing memory recall...\n"
     ]
    },
    {
     "name": "stderr",
     "output_type": "stream",
     "text": [
      "100%|██████████| 1000/1000 [00:00<00:00, 1461.12it/s]\n",
      "100%|██████████| 1/1 [00:00<00:00, 432.49it/s]\n",
      "100%|██████████| 2/2 [00:00<00:00, 504.03it/s]\n",
      "100%|██████████| 5/5 [00:00<00:00, 887.20it/s]\n",
      "100%|██████████| 10/10 [00:00<00:00, 1063.17it/s]\n",
      "100%|██████████| 20/20 [00:00<00:00, 1340.20it/s]\n",
      "100%|██████████| 50/50 [00:00<00:00, 1316.35it/s]\n",
      "  0%|          | 0/100 [00:00<?, ?it/s]"
     ]
    },
    {
     "name": "stdout",
     "output_type": "stream",
     "text": [
      "Average error percentage: 40.913\n",
      "Theoretical error percentage: 41.19244763735692\n",
      "Forming weight matrix...\n",
      "Testing memory recall...\n",
      "Average error percentage: 0.0\n",
      "Theoretical error percentage: 0.0\n",
      "Forming weight matrix...\n",
      "Testing memory recall...\n",
      "Average error percentage: 0.0\n",
      "Theoretical error percentage: 9.918588689536384e-11\n",
      "Forming weight matrix...\n",
      "Testing memory recall...\n",
      "Average error percentage: 0.0\n",
      "Theoretical error percentage: 0.021756040588239132\n",
      "Forming weight matrix...\n",
      "Testing memory recall...\n",
      "Average error percentage: 0.2\n",
      "Theoretical error percentage: 0.95082368723994\n",
      "Forming weight matrix...\n",
      "Testing memory recall...\n",
      "Average error percentage: 8.45\n",
      "Theoretical error percentage: 5.325473815162926\n",
      "Forming weight matrix...\n",
      "Testing memory recall...\n",
      "Average error percentage: 18.1\n",
      "Theoretical error percentage: 15.742697620578861\n",
      "Forming weight matrix...\n",
      "Testing memory recall...\n"
     ]
    },
    {
     "name": "stderr",
     "output_type": "stream",
     "text": [
      "100%|██████████| 100/100 [00:00<00:00, 1363.85it/s]\n",
      "100%|██████████| 200/200 [00:00<00:00, 1397.17it/s]\n",
      "  0%|          | 0/500 [00:00<?, ?it/s]"
     ]
    },
    {
     "name": "stdout",
     "output_type": "stream",
     "text": [
      "Average error percentage: 23.87\n",
      "Theoretical error percentage: 23.97500611156682\n",
      "Forming weight matrix...\n",
      "Testing memory recall...\n",
      "Average error percentage: 34.28\n",
      "Theoretical error percentage: 30.898052808211517\n",
      "Forming weight matrix...\n",
      "Testing memory recall...\n"
     ]
    },
    {
     "name": "stderr",
     "output_type": "stream",
     "text": [
      "100%|██████████| 500/500 [00:00<00:00, 1461.00it/s]\n",
      " 15%|█▌        | 150/1000 [00:00<00:00, 1498.70it/s]"
     ]
    },
    {
     "name": "stdout",
     "output_type": "stream",
     "text": [
      "Average error percentage: 38.088\n",
      "Theoretical error percentage: 37.639685899007844\n",
      "Forming weight matrix...\n",
      "Testing memory recall...\n"
     ]
    },
    {
     "name": "stderr",
     "output_type": "stream",
     "text": [
      "100%|██████████| 1000/1000 [00:00<00:00, 1467.11it/s]\n",
      "100%|██████████| 1/1 [00:00<00:00, 236.13it/s]\n",
      "100%|██████████| 2/2 [00:00<00:00, 845.63it/s]\n",
      "100%|██████████| 5/5 [00:00<00:00, 588.58it/s]\n",
      "100%|██████████| 10/10 [00:00<00:00, 933.08it/s]\n",
      "100%|██████████| 20/20 [00:00<00:00, 894.53it/s]\n",
      "100%|██████████| 50/50 [00:00<00:00, 663.19it/s]\n",
      "  0%|          | 0/100 [00:00<?, ?it/s]"
     ]
    },
    {
     "name": "stdout",
     "output_type": "stream",
     "text": [
      "Average error percentage: 41.039\n",
      "Theoretical error percentage: 41.19244763735692\n",
      "Forming weight matrix...\n",
      "Testing memory recall...\n",
      "Average error percentage: 0.0\n",
      "Theoretical error percentage: 0.0\n",
      "Forming weight matrix...\n",
      "Testing memory recall...\n",
      "Average error percentage: 0.0\n",
      "Theoretical error percentage: 9.918588689536384e-11\n",
      "Forming weight matrix...\n",
      "Testing memory recall...\n",
      "Average error percentage: 0.0\n",
      "Theoretical error percentage: 0.021756040588239132\n",
      "Forming weight matrix...\n",
      "Testing memory recall...\n",
      "Average error percentage: 4.0\n",
      "Theoretical error percentage: 0.95082368723994\n",
      "Forming weight matrix...\n",
      "Testing memory recall...\n",
      "Average error percentage: 6.6\n",
      "Theoretical error percentage: 5.325473815162926\n",
      "Forming weight matrix...\n",
      "Testing memory recall...\n",
      "Average error percentage: 18.84\n",
      "Theoretical error percentage: 15.742697620578861\n",
      "Forming weight matrix...\n",
      "Testing memory recall...\n"
     ]
    },
    {
     "name": "stderr",
     "output_type": "stream",
     "text": [
      "100%|██████████| 100/100 [00:00<00:00, 1279.08it/s]\n",
      " 60%|██████    | 120/200 [00:00<00:00, 1199.41it/s]"
     ]
    },
    {
     "name": "stdout",
     "output_type": "stream",
     "text": [
      "Average error percentage: 26.83\n",
      "Theoretical error percentage: 23.97500611156682\n",
      "Forming weight matrix...\n",
      "Testing memory recall...\n"
     ]
    },
    {
     "name": "stderr",
     "output_type": "stream",
     "text": [
      "100%|██████████| 200/200 [00:00<00:00, 805.19it/s] \n",
      " 31%|███       | 156/500 [00:00<00:00, 1557.94it/s]"
     ]
    },
    {
     "name": "stdout",
     "output_type": "stream",
     "text": [
      "Average error percentage: 32.03\n",
      "Theoretical error percentage: 30.898052808211517\n",
      "Forming weight matrix...\n",
      "Testing memory recall...\n"
     ]
    },
    {
     "name": "stderr",
     "output_type": "stream",
     "text": [
      "100%|██████████| 500/500 [00:00<00:00, 1253.47it/s]\n",
      " 14%|█▎        | 135/1000 [00:00<00:00, 1344.78it/s]"
     ]
    },
    {
     "name": "stdout",
     "output_type": "stream",
     "text": [
      "Average error percentage: 38.852\n",
      "Theoretical error percentage: 37.639685899007844\n",
      "Forming weight matrix...\n",
      "Testing memory recall...\n"
     ]
    },
    {
     "name": "stderr",
     "output_type": "stream",
     "text": [
      "100%|██████████| 1000/1000 [00:00<00:00, 1455.04it/s]\n",
      "100%|██████████| 1/1 [00:00<00:00, 507.11it/s]\n",
      "100%|██████████| 2/2 [00:00<00:00, 469.14it/s]\n",
      "100%|██████████| 5/5 [00:00<00:00, 768.75it/s]\n",
      "100%|██████████| 10/10 [00:00<00:00, 1027.34it/s]\n",
      "100%|██████████| 20/20 [00:00<00:00, 1275.89it/s]\n",
      "100%|██████████| 50/50 [00:00<00:00, 1366.94it/s]\n",
      "  0%|          | 0/100 [00:00<?, ?it/s]"
     ]
    },
    {
     "name": "stdout",
     "output_type": "stream",
     "text": [
      "Average error percentage: 41.481\n",
      "Theoretical error percentage: 41.19244763735692\n",
      "Forming weight matrix...\n",
      "Testing memory recall...\n",
      "Average error percentage: 0.0\n",
      "Theoretical error percentage: 0.0\n",
      "Forming weight matrix...\n",
      "Testing memory recall...\n",
      "Average error percentage: 0.0\n",
      "Theoretical error percentage: 9.918588689536384e-11\n",
      "Forming weight matrix...\n",
      "Testing memory recall...\n",
      "Average error percentage: 0.0\n",
      "Theoretical error percentage: 0.021756040588239132\n",
      "Forming weight matrix...\n",
      "Testing memory recall...\n",
      "Average error percentage: 3.9\n",
      "Theoretical error percentage: 0.95082368723994\n",
      "Forming weight matrix...\n",
      "Testing memory recall...\n",
      "Average error percentage: 8.25\n",
      "Theoretical error percentage: 5.325473815162926\n",
      "Forming weight matrix...\n",
      "Testing memory recall...\n",
      "Average error percentage: 19.98\n",
      "Theoretical error percentage: 15.742697620578861\n",
      "Forming weight matrix...\n",
      "Testing memory recall...\n"
     ]
    },
    {
     "name": "stderr",
     "output_type": "stream",
     "text": [
      "100%|██████████| 100/100 [00:00<00:00, 1423.67it/s]\n",
      "100%|██████████| 200/200 [00:00<00:00, 1343.32it/s]\n",
      "  0%|          | 0/500 [00:00<?, ?it/s]"
     ]
    },
    {
     "name": "stdout",
     "output_type": "stream",
     "text": [
      "Average error percentage: 26.82\n",
      "Theoretical error percentage: 23.97500611156682\n",
      "Forming weight matrix...\n",
      "Testing memory recall...\n",
      "Average error percentage: 34.52\n",
      "Theoretical error percentage: 30.898052808211517\n",
      "Forming weight matrix...\n",
      "Testing memory recall...\n"
     ]
    },
    {
     "name": "stderr",
     "output_type": "stream",
     "text": [
      "100%|██████████| 500/500 [00:00<00:00, 765.91it/s] \n",
      " 13%|█▎        | 126/1000 [00:00<00:00, 1250.93it/s]"
     ]
    },
    {
     "name": "stdout",
     "output_type": "stream",
     "text": [
      "Average error percentage: 39.436\n",
      "Theoretical error percentage: 37.639685899007844\n",
      "Forming weight matrix...\n",
      "Testing memory recall...\n"
     ]
    },
    {
     "name": "stderr",
     "output_type": "stream",
     "text": [
      "100%|██████████| 1000/1000 [00:00<00:00, 1054.08it/s]\n",
      "100%|██████████| 1/1 [00:00<00:00, 426.42it/s]\n",
      "100%|██████████| 2/2 [00:00<00:00, 305.15it/s]\n",
      "100%|██████████| 5/5 [00:00<00:00, 872.14it/s]\n",
      "100%|██████████| 10/10 [00:00<00:00, 984.07it/s]\n",
      "100%|██████████| 20/20 [00:00<00:00, 950.39it/s]\n",
      "100%|██████████| 50/50 [00:00<00:00, 1270.68it/s]\n",
      "  0%|          | 0/100 [00:00<?, ?it/s]"
     ]
    },
    {
     "name": "stdout",
     "output_type": "stream",
     "text": [
      "Average error percentage: 42.948\n",
      "Theoretical error percentage: 41.19244763735692\n",
      "Forming weight matrix...\n",
      "Testing memory recall...\n",
      "Average error percentage: 0.0\n",
      "Theoretical error percentage: 0.0\n",
      "Forming weight matrix...\n",
      "Testing memory recall...\n",
      "Average error percentage: 0.0\n",
      "Theoretical error percentage: 9.918588689536384e-11\n",
      "Forming weight matrix...\n",
      "Testing memory recall...\n",
      "Average error percentage: 3.0\n",
      "Theoretical error percentage: 0.021756040588239132\n",
      "Forming weight matrix...\n",
      "Testing memory recall...\n",
      "Average error percentage: 5.2\n",
      "Theoretical error percentage: 0.95082368723994\n",
      "Forming weight matrix...\n",
      "Testing memory recall...\n",
      "Average error percentage: 16.65\n",
      "Theoretical error percentage: 5.325473815162926\n",
      "Forming weight matrix...\n",
      "Testing memory recall...\n",
      "Average error percentage: 26.34\n",
      "Theoretical error percentage: 15.742697620578861\n",
      "Forming weight matrix...\n",
      "Testing memory recall...\n"
     ]
    },
    {
     "name": "stderr",
     "output_type": "stream",
     "text": [
      "100%|██████████| 100/100 [00:00<00:00, 715.50it/s]\n",
      "100%|██████████| 200/200 [00:00<00:00, 1414.28it/s]\n",
      "  0%|          | 0/500 [00:00<?, ?it/s]"
     ]
    },
    {
     "name": "stdout",
     "output_type": "stream",
     "text": [
      "Average error percentage: 33.35\n",
      "Theoretical error percentage: 23.97500611156682\n",
      "Forming weight matrix...\n",
      "Testing memory recall...\n",
      "Average error percentage: 37.89\n",
      "Theoretical error percentage: 30.898052808211517\n",
      "Forming weight matrix...\n",
      "Testing memory recall...\n"
     ]
    },
    {
     "name": "stderr",
     "output_type": "stream",
     "text": [
      "100%|██████████| 500/500 [00:00<00:00, 1274.34it/s]\n",
      " 15%|█▌        | 153/1000 [00:00<00:00, 1519.39it/s]"
     ]
    },
    {
     "name": "stdout",
     "output_type": "stream",
     "text": [
      "Average error percentage: 42.322\n",
      "Theoretical error percentage: 37.639685899007844\n",
      "Forming weight matrix...\n",
      "Testing memory recall...\n"
     ]
    },
    {
     "name": "stderr",
     "output_type": "stream",
     "text": [
      "100%|██████████| 1000/1000 [00:00<00:00, 1323.79it/s]\n",
      "100%|██████████| 1/1 [00:00<00:00, 603.93it/s]\n",
      "100%|██████████| 2/2 [00:00<00:00, 560.36it/s]\n",
      "100%|██████████| 5/5 [00:00<00:00, 779.70it/s]\n",
      "100%|██████████| 10/10 [00:00<00:00, 1160.73it/s]\n",
      "100%|██████████| 20/20 [00:00<00:00, 1120.44it/s]\n",
      "100%|██████████| 50/50 [00:00<00:00, 1316.13it/s]\n",
      "  0%|          | 0/100 [00:00<?, ?it/s]"
     ]
    },
    {
     "name": "stdout",
     "output_type": "stream",
     "text": [
      "Average error percentage: 44.909\n",
      "Theoretical error percentage: 41.19244763735692\n",
      "Forming weight matrix...\n",
      "Testing memory recall...\n",
      "Average error percentage: 0.0\n",
      "Theoretical error percentage: 0.0\n",
      "Forming weight matrix...\n",
      "Testing memory recall...\n",
      "Average error percentage: 76.5\n",
      "Theoretical error percentage: 9.918588689536384e-11\n",
      "Forming weight matrix...\n",
      "Testing memory recall...\n",
      "Average error percentage: 49.4\n",
      "Theoretical error percentage: 0.021756040588239132\n",
      "Forming weight matrix...\n",
      "Testing memory recall...\n",
      "Average error percentage: 52.0\n",
      "Theoretical error percentage: 0.95082368723994\n",
      "Forming weight matrix...\n",
      "Testing memory recall...\n",
      "Average error percentage: 53.15\n",
      "Theoretical error percentage: 5.325473815162926\n",
      "Forming weight matrix...\n",
      "Testing memory recall...\n",
      "Average error percentage: 51.06\n",
      "Theoretical error percentage: 15.742697620578861\n",
      "Forming weight matrix...\n",
      "Testing memory recall...\n"
     ]
    },
    {
     "name": "stderr",
     "output_type": "stream",
     "text": [
      "100%|██████████| 100/100 [00:00<00:00, 1029.39it/s]\n",
      "100%|██████████| 200/200 [00:00<00:00, 1263.35it/s]\n"
     ]
    },
    {
     "name": "stdout",
     "output_type": "stream",
     "text": [
      "Average error percentage: 50.04\n",
      "Theoretical error percentage: 23.97500611156682\n",
      "Forming weight matrix...\n",
      "Testing memory recall...\n",
      "Average error percentage: 49.835\n",
      "Theoretical error percentage: 30.898052808211517\n",
      "Forming weight matrix...\n"
     ]
    },
    {
     "name": "stderr",
     "output_type": "stream",
     "text": [
      " 23%|██▎       | 114/500 [00:00<00:00, 1137.92it/s]"
     ]
    },
    {
     "name": "stdout",
     "output_type": "stream",
     "text": [
      "Testing memory recall...\n"
     ]
    },
    {
     "name": "stderr",
     "output_type": "stream",
     "text": [
      "100%|██████████| 500/500 [00:00<00:00, 1345.37it/s]\n",
      " 13%|█▎        | 128/1000 [00:00<00:00, 1275.61it/s]"
     ]
    },
    {
     "name": "stdout",
     "output_type": "stream",
     "text": [
      "Average error percentage: 50.002\n",
      "Theoretical error percentage: 37.639685899007844\n",
      "Forming weight matrix...\n",
      "Testing memory recall...\n"
     ]
    },
    {
     "name": "stderr",
     "output_type": "stream",
     "text": [
      "100%|██████████| 1000/1000 [00:00<00:00, 1341.93it/s]\n",
      "100%|██████████| 1/1 [00:00<00:00, 290.10it/s]\n",
      "100%|██████████| 2/2 [00:00<00:00, 376.09it/s]\n",
      "100%|██████████| 5/5 [00:00<00:00, 750.62it/s]\n",
      "100%|██████████| 10/10 [00:00<00:00, 941.61it/s]\n",
      "100%|██████████| 20/20 [00:00<00:00, 1226.53it/s]\n",
      "100%|██████████| 50/50 [00:00<00:00, 1268.98it/s]\n",
      "  0%|          | 0/100 [00:00<?, ?it/s]"
     ]
    },
    {
     "name": "stdout",
     "output_type": "stream",
     "text": [
      "Average error percentage: 49.898\n",
      "Theoretical error percentage: 41.19244763735692\n",
      "Forming weight matrix...\n",
      "Testing memory recall...\n",
      "Average error percentage: 100.0\n",
      "Theoretical error percentage: 0.0\n",
      "Forming weight matrix...\n",
      "Testing memory recall...\n",
      "Average error percentage: 100.0\n",
      "Theoretical error percentage: 9.918588689536384e-11\n",
      "Forming weight matrix...\n",
      "Testing memory recall...\n",
      "Average error percentage: 100.0\n",
      "Theoretical error percentage: 0.021756040588239132\n",
      "Forming weight matrix...\n",
      "Testing memory recall...\n",
      "Average error percentage: 96.3\n",
      "Theoretical error percentage: 0.95082368723994\n",
      "Forming weight matrix...\n",
      "Testing memory recall...\n",
      "Average error percentage: 82.75\n",
      "Theoretical error percentage: 5.325473815162926\n",
      "Forming weight matrix...\n",
      "Testing memory recall...\n",
      "Average error percentage: 72.36\n",
      "Theoretical error percentage: 15.742697620578861\n",
      "Forming weight matrix...\n",
      "Testing memory recall...\n"
     ]
    },
    {
     "name": "stderr",
     "output_type": "stream",
     "text": [
      "100%|██████████| 100/100 [00:00<00:00, 1403.35it/s]\n",
      "100%|██████████| 200/200 [00:00<00:00, 1453.55it/s]\n",
      "  0%|          | 0/500 [00:00<?, ?it/s]"
     ]
    },
    {
     "name": "stdout",
     "output_type": "stream",
     "text": [
      "Average error percentage: 65.59\n",
      "Theoretical error percentage: 23.97500611156682\n",
      "Forming weight matrix...\n",
      "Testing memory recall...\n",
      "Average error percentage: 61.365\n",
      "Theoretical error percentage: 30.898052808211517\n",
      "Forming weight matrix...\n",
      "Testing memory recall...\n"
     ]
    },
    {
     "name": "stderr",
     "output_type": "stream",
     "text": [
      "100%|██████████| 500/500 [00:00<00:00, 1413.18it/s]\n",
      " 15%|█▌        | 151/1000 [00:00<00:00, 1505.98it/s]"
     ]
    },
    {
     "name": "stdout",
     "output_type": "stream",
     "text": [
      "Average error percentage: 57.62\n",
      "Theoretical error percentage: 37.639685899007844\n",
      "Forming weight matrix...\n",
      "Testing memory recall...\n"
     ]
    },
    {
     "name": "stderr",
     "output_type": "stream",
     "text": [
      "100%|██████████| 1000/1000 [00:00<00:00, 1470.18it/s]\n",
      "100%|██████████| 1/1 [00:00<00:00, 407.49it/s]\n",
      "100%|██████████| 2/2 [00:00<00:00, 598.46it/s]\n",
      "100%|██████████| 5/5 [00:00<00:00, 747.73it/s]\n",
      "100%|██████████| 10/10 [00:00<00:00, 1103.30it/s]\n",
      "100%|██████████| 20/20 [00:00<00:00, 1276.47it/s]\n",
      "100%|██████████| 50/50 [00:00<00:00, 1386.65it/s]\n",
      "  0%|          | 0/100 [00:00<?, ?it/s]"
     ]
    },
    {
     "name": "stdout",
     "output_type": "stream",
     "text": [
      "Average error percentage: 55.168\n",
      "Theoretical error percentage: 41.19244763735692\n",
      "Forming weight matrix...\n",
      "Testing memory recall...\n",
      "Average error percentage: 100.0\n",
      "Theoretical error percentage: 0.0\n",
      "Forming weight matrix...\n",
      "Testing memory recall...\n",
      "Average error percentage: 100.0\n",
      "Theoretical error percentage: 9.918588689536384e-11\n",
      "Forming weight matrix...\n",
      "Testing memory recall...\n",
      "Average error percentage: 100.0\n",
      "Theoretical error percentage: 0.021756040588239132\n",
      "Forming weight matrix...\n",
      "Testing memory recall...\n",
      "Average error percentage: 96.7\n",
      "Theoretical error percentage: 0.95082368723994\n",
      "Forming weight matrix...\n",
      "Testing memory recall...\n",
      "Average error percentage: 89.9\n",
      "Theoretical error percentage: 5.325473815162926\n",
      "Forming weight matrix...\n",
      "Testing memory recall...\n",
      "Average error percentage: 76.5\n",
      "Theoretical error percentage: 15.742697620578861\n",
      "Forming weight matrix...\n",
      "Testing memory recall...\n"
     ]
    },
    {
     "name": "stderr",
     "output_type": "stream",
     "text": [
      "100%|██████████| 100/100 [00:00<00:00, 1216.02it/s]\n",
      "100%|██████████| 200/200 [00:00<00:00, 1570.34it/s]\n",
      "  0%|          | 0/500 [00:00<?, ?it/s]"
     ]
    },
    {
     "name": "stdout",
     "output_type": "stream",
     "text": [
      "Average error percentage: 71.41\n",
      "Theoretical error percentage: 23.97500611156682\n",
      "Forming weight matrix...\n",
      "Testing memory recall...\n",
      "Average error percentage: 65.205\n",
      "Theoretical error percentage: 30.898052808211517\n",
      "Forming weight matrix...\n",
      "Testing memory recall...\n"
     ]
    },
    {
     "name": "stderr",
     "output_type": "stream",
     "text": [
      "100%|██████████| 500/500 [00:00<00:00, 1310.97it/s]\n",
      " 14%|█▍        | 143/1000 [00:00<00:00, 1423.12it/s]"
     ]
    },
    {
     "name": "stdout",
     "output_type": "stream",
     "text": [
      "Average error percentage: 60.118\n",
      "Theoretical error percentage: 37.639685899007844\n",
      "Forming weight matrix...\n",
      "Testing memory recall...\n"
     ]
    },
    {
     "name": "stderr",
     "output_type": "stream",
     "text": [
      "100%|██████████| 1000/1000 [00:00<00:00, 1265.40it/s]\n",
      "100%|██████████| 1/1 [00:00<00:00, 199.44it/s]\n",
      "100%|██████████| 2/2 [00:00<00:00, 700.33it/s]\n",
      "100%|██████████| 5/5 [00:00<00:00, 875.64it/s]\n",
      "100%|██████████| 10/10 [00:00<00:00, 852.09it/s]\n",
      "100%|██████████| 20/20 [00:00<00:00, 1306.09it/s]\n",
      "100%|██████████| 50/50 [00:00<00:00, 1296.34it/s]\n",
      "  0%|          | 0/100 [00:00<?, ?it/s]"
     ]
    },
    {
     "name": "stdout",
     "output_type": "stream",
     "text": [
      "Average error percentage: 57.067\n",
      "Theoretical error percentage: 41.19244763735692\n",
      "Forming weight matrix...\n",
      "Testing memory recall...\n",
      "Average error percentage: 100.0\n",
      "Theoretical error percentage: 0.0\n",
      "Forming weight matrix...\n",
      "Testing memory recall...\n",
      "Average error percentage: 100.0\n",
      "Theoretical error percentage: 9.918588689536384e-11\n",
      "Forming weight matrix...\n",
      "Testing memory recall...\n",
      "Average error percentage: 100.0\n",
      "Theoretical error percentage: 0.021756040588239132\n",
      "Forming weight matrix...\n",
      "Testing memory recall...\n",
      "Average error percentage: 99.3\n",
      "Theoretical error percentage: 0.95082368723994\n",
      "Forming weight matrix...\n",
      "Testing memory recall...\n",
      "Average error percentage: 93.45\n",
      "Theoretical error percentage: 5.325473815162926\n",
      "Forming weight matrix...\n",
      "Testing memory recall...\n",
      "Average error percentage: 82.98\n",
      "Theoretical error percentage: 15.742697620578861\n",
      "Forming weight matrix...\n",
      "Testing memory recall...\n"
     ]
    },
    {
     "name": "stderr",
     "output_type": "stream",
     "text": [
      "100%|██████████| 100/100 [00:00<00:00, 731.17it/s]\n",
      "100%|██████████| 200/200 [00:00<00:00, 1312.27it/s]\n"
     ]
    },
    {
     "name": "stdout",
     "output_type": "stream",
     "text": [
      "Average error percentage: 75.74\n",
      "Theoretical error percentage: 23.97500611156682\n",
      "Forming weight matrix...\n",
      "Testing memory recall...\n",
      "Average error percentage: 69.475\n",
      "Theoretical error percentage: 30.898052808211517\n",
      "Forming weight matrix...\n"
     ]
    },
    {
     "name": "stderr",
     "output_type": "stream",
     "text": [
      " 28%|██▊       | 141/500 [00:00<00:00, 1402.04it/s]"
     ]
    },
    {
     "name": "stdout",
     "output_type": "stream",
     "text": [
      "Testing memory recall...\n"
     ]
    },
    {
     "name": "stderr",
     "output_type": "stream",
     "text": [
      "100%|██████████| 500/500 [00:00<00:00, 1108.30it/s]\n",
      " 14%|█▍        | 144/1000 [00:00<00:00, 1434.24it/s]"
     ]
    },
    {
     "name": "stdout",
     "output_type": "stream",
     "text": [
      "Average error percentage: 61.996\n",
      "Theoretical error percentage: 37.639685899007844\n",
      "Forming weight matrix...\n",
      "Testing memory recall...\n"
     ]
    },
    {
     "name": "stderr",
     "output_type": "stream",
     "text": [
      "100%|██████████| 1000/1000 [00:00<00:00, 1087.18it/s]\n",
      "100%|██████████| 1/1 [00:00<00:00, 329.17it/s]\n",
      "100%|██████████| 2/2 [00:00<00:00, 544.18it/s]\n",
      "100%|██████████| 5/5 [00:00<00:00, 367.48it/s]\n",
      "100%|██████████| 10/10 [00:00<00:00, 500.10it/s]\n",
      "100%|██████████| 20/20 [00:00<00:00, 582.04it/s]\n",
      "100%|██████████| 50/50 [00:00<00:00, 1077.82it/s]\n"
     ]
    },
    {
     "name": "stdout",
     "output_type": "stream",
     "text": [
      "Average error percentage: 58.252\n",
      "Theoretical error percentage: 41.19244763735692\n",
      "Forming weight matrix...\n",
      "Testing memory recall...\n",
      "Average error percentage: 0.0\n",
      "Theoretical error percentage: 0.0\n",
      "Forming weight matrix...\n",
      "Testing memory recall...\n",
      "Average error percentage: 0.0\n",
      "Theoretical error percentage: 9.918588689536384e-11\n",
      "Forming weight matrix...\n",
      "Testing memory recall...\n",
      "Average error percentage: 0.0\n",
      "Theoretical error percentage: 0.021756040588239132\n",
      "Forming weight matrix...\n",
      "Testing memory recall...\n",
      "Average error percentage: 0.0\n",
      "Theoretical error percentage: 0.95082368723994\n",
      "Forming weight matrix...\n",
      "Testing memory recall...\n",
      "Average error percentage: 5.1\n",
      "Theoretical error percentage: 5.325473815162926\n",
      "Forming weight matrix...\n",
      "Testing memory recall...\n",
      "Average error percentage: 13.32\n",
      "Theoretical error percentage: 15.742697620578861\n",
      "Forming weight matrix...\n"
     ]
    },
    {
     "name": "stderr",
     "output_type": "stream",
     "text": [
      "100%|██████████| 100/100 [00:00<00:00, 747.49it/s]\n",
      "  0%|          | 0/200 [00:00<?, ?it/s]"
     ]
    },
    {
     "name": "stdout",
     "output_type": "stream",
     "text": [
      "Testing memory recall...\n",
      "Average error percentage: 24.72\n",
      "Theoretical error percentage: 23.97500611156682\n",
      "Forming weight matrix...\n",
      "Testing memory recall...\n"
     ]
    },
    {
     "name": "stderr",
     "output_type": "stream",
     "text": [
      "100%|██████████| 200/200 [00:00<00:00, 1162.17it/s]\n",
      " 26%|██▌       | 130/500 [00:00<00:00, 1292.74it/s]"
     ]
    },
    {
     "name": "stdout",
     "output_type": "stream",
     "text": [
      "Average error percentage: 31.29\n",
      "Theoretical error percentage: 30.898052808211517\n",
      "Forming weight matrix...\n",
      "Testing memory recall...\n"
     ]
    },
    {
     "name": "stderr",
     "output_type": "stream",
     "text": [
      "100%|██████████| 500/500 [00:00<00:00, 1305.92it/s]\n",
      " 11%|█         | 107/1000 [00:00<00:00, 1069.05it/s]"
     ]
    },
    {
     "name": "stdout",
     "output_type": "stream",
     "text": [
      "Average error percentage: 38.392\n",
      "Theoretical error percentage: 37.639685899007844\n",
      "Forming weight matrix...\n",
      "Testing memory recall...\n"
     ]
    },
    {
     "name": "stderr",
     "output_type": "stream",
     "text": [
      "100%|██████████| 1000/1000 [00:00<00:00, 1353.70it/s]\n",
      "100%|██████████| 1/1 [00:00<00:00, 238.38it/s]\n",
      "100%|██████████| 2/2 [00:00<00:00, 471.38it/s]\n",
      "100%|██████████| 5/5 [00:00<00:00, 908.45it/s]\n",
      "100%|██████████| 10/10 [00:00<00:00, 675.87it/s]\n",
      "100%|██████████| 20/20 [00:00<00:00, 1166.12it/s]\n",
      "100%|██████████| 50/50 [00:00<00:00, 1406.39it/s]\n",
      "  0%|          | 0/100 [00:00<?, ?it/s]"
     ]
    },
    {
     "name": "stdout",
     "output_type": "stream",
     "text": [
      "Average error percentage: 41.018\n",
      "Theoretical error percentage: 41.19244763735692\n",
      "Forming weight matrix...\n",
      "Testing memory recall...\n",
      "Average error percentage: 0.0\n",
      "Theoretical error percentage: 0.0\n",
      "Forming weight matrix...\n",
      "Testing memory recall...\n",
      "Average error percentage: 0.0\n",
      "Theoretical error percentage: 9.918588689536384e-11\n",
      "Forming weight matrix...\n",
      "Testing memory recall...\n",
      "Average error percentage: 0.0\n",
      "Theoretical error percentage: 0.021756040588239132\n",
      "Forming weight matrix...\n",
      "Testing memory recall...\n",
      "Average error percentage: 0.9\n",
      "Theoretical error percentage: 0.95082368723994\n",
      "Forming weight matrix...\n",
      "Testing memory recall...\n",
      "Average error percentage: 6.6\n",
      "Theoretical error percentage: 5.325473815162926\n",
      "Forming weight matrix...\n",
      "Testing memory recall...\n",
      "Average error percentage: 14.6\n",
      "Theoretical error percentage: 15.742697620578861\n",
      "Forming weight matrix...\n",
      "Testing memory recall...\n"
     ]
    },
    {
     "name": "stderr",
     "output_type": "stream",
     "text": [
      "100%|██████████| 100/100 [00:00<00:00, 1149.46it/s]\n",
      "100%|██████████| 200/200 [00:00<00:00, 1401.62it/s]\n",
      "  0%|          | 0/500 [00:00<?, ?it/s]"
     ]
    },
    {
     "name": "stdout",
     "output_type": "stream",
     "text": [
      "Average error percentage: 22.6\n",
      "Theoretical error percentage: 23.97500611156682\n",
      "Forming weight matrix...\n",
      "Testing memory recall...\n",
      "Average error percentage: 30.65\n",
      "Theoretical error percentage: 30.898052808211517\n",
      "Forming weight matrix...\n",
      "Testing memory recall...\n"
     ]
    },
    {
     "name": "stderr",
     "output_type": "stream",
     "text": [
      "100%|██████████| 500/500 [00:00<00:00, 1477.59it/s]\n",
      " 15%|█▌        | 150/1000 [00:00<00:00, 1496.06it/s]"
     ]
    },
    {
     "name": "stdout",
     "output_type": "stream",
     "text": [
      "Average error percentage: 38.592\n",
      "Theoretical error percentage: 37.639685899007844\n",
      "Forming weight matrix...\n",
      "Testing memory recall...\n"
     ]
    },
    {
     "name": "stderr",
     "output_type": "stream",
     "text": [
      "100%|██████████| 1000/1000 [00:00<00:00, 1468.63it/s]\n",
      "100%|██████████| 1/1 [00:00<00:00, 497.49it/s]\n",
      "100%|██████████| 2/2 [00:00<00:00, 724.34it/s]\n",
      "100%|██████████| 5/5 [00:00<00:00, 602.63it/s]\n",
      "100%|██████████| 10/10 [00:00<00:00, 1226.98it/s]\n",
      "100%|██████████| 20/20 [00:00<00:00, 1106.33it/s]\n",
      "100%|██████████| 50/50 [00:00<00:00, 1382.48it/s]\n",
      "100%|██████████| 100/100 [00:00<00:00, 1457.00it/s]\n"
     ]
    },
    {
     "name": "stdout",
     "output_type": "stream",
     "text": [
      "Average error percentage: 41.492\n",
      "Theoretical error percentage: 41.19244763735692\n",
      "Forming weight matrix...\n",
      "Testing memory recall...\n",
      "Average error percentage: 0.0\n",
      "Theoretical error percentage: 0.0\n",
      "Forming weight matrix...\n",
      "Testing memory recall...\n",
      "Average error percentage: 0.0\n",
      "Theoretical error percentage: 9.918588689536384e-11\n",
      "Forming weight matrix...\n",
      "Testing memory recall...\n",
      "Average error percentage: 0.0\n",
      "Theoretical error percentage: 0.021756040588239132\n",
      "Forming weight matrix...\n",
      "Testing memory recall...\n",
      "Average error percentage: 1.6\n",
      "Theoretical error percentage: 0.95082368723994\n",
      "Forming weight matrix...\n",
      "Testing memory recall...\n",
      "Average error percentage: 6.05\n",
      "Theoretical error percentage: 5.325473815162926\n",
      "Forming weight matrix...\n",
      "Testing memory recall...\n",
      "Average error percentage: 18.62\n",
      "Theoretical error percentage: 15.742697620578861\n",
      "Forming weight matrix...\n",
      "Testing memory recall...\n",
      "Average error percentage: 25.54\n",
      "Theoretical error percentage: 23.97500611156682\n"
     ]
    },
    {
     "name": "stderr",
     "output_type": "stream",
     "text": [
      "100%|██████████| 200/200 [00:00<00:00, 1484.48it/s]\n",
      "  0%|          | 0/500 [00:00<?, ?it/s]"
     ]
    },
    {
     "name": "stdout",
     "output_type": "stream",
     "text": [
      "Forming weight matrix...\n",
      "Testing memory recall...\n",
      "Average error percentage: 32.69\n",
      "Theoretical error percentage: 30.898052808211517\n",
      "Forming weight matrix...\n",
      "Testing memory recall...\n"
     ]
    },
    {
     "name": "stderr",
     "output_type": "stream",
     "text": [
      "100%|██████████| 500/500 [00:00<00:00, 1366.89it/s]\n",
      " 12%|█▎        | 125/1000 [00:00<00:00, 1241.09it/s]"
     ]
    },
    {
     "name": "stdout",
     "output_type": "stream",
     "text": [
      "Average error percentage: 39.184\n",
      "Theoretical error percentage: 37.639685899007844\n",
      "Forming weight matrix...\n",
      "Testing memory recall...\n"
     ]
    },
    {
     "name": "stderr",
     "output_type": "stream",
     "text": [
      "100%|██████████| 1000/1000 [00:00<00:00, 1377.79it/s]\n",
      "100%|██████████| 1/1 [00:00<00:00, 348.77it/s]\n",
      "100%|██████████| 2/2 [00:00<00:00, 349.90it/s]\n",
      "100%|██████████| 5/5 [00:00<00:00, 658.24it/s]\n",
      "100%|██████████| 10/10 [00:00<00:00, 913.83it/s]\n",
      "100%|██████████| 20/20 [00:00<00:00, 1135.73it/s]\n",
      "100%|██████████| 50/50 [00:00<00:00, 1410.04it/s]\n",
      "  0%|          | 0/100 [00:00<?, ?it/s]"
     ]
    },
    {
     "name": "stdout",
     "output_type": "stream",
     "text": [
      "Average error percentage: 41.059\n",
      "Theoretical error percentage: 41.19244763735692\n",
      "Forming weight matrix...\n",
      "Testing memory recall...\n",
      "Average error percentage: 0.0\n",
      "Theoretical error percentage: 0.0\n",
      "Forming weight matrix...\n",
      "Testing memory recall...\n",
      "Average error percentage: 0.0\n",
      "Theoretical error percentage: 9.918588689536384e-11\n",
      "Forming weight matrix...\n",
      "Testing memory recall...\n",
      "Average error percentage: 0.0\n",
      "Theoretical error percentage: 0.021756040588239132\n",
      "Forming weight matrix...\n",
      "Testing memory recall...\n",
      "Average error percentage: 1.8\n",
      "Theoretical error percentage: 0.95082368723994\n",
      "Forming weight matrix...\n",
      "Testing memory recall...\n",
      "Average error percentage: 9.4\n",
      "Theoretical error percentage: 5.325473815162926\n",
      "Forming weight matrix...\n",
      "Testing memory recall...\n",
      "Average error percentage: 25.14\n",
      "Theoretical error percentage: 15.742697620578861\n",
      "Forming weight matrix...\n",
      "Testing memory recall...\n"
     ]
    },
    {
     "name": "stderr",
     "output_type": "stream",
     "text": [
      "100%|██████████| 100/100 [00:00<00:00, 1449.28it/s]\n",
      "100%|██████████| 200/200 [00:00<00:00, 1389.59it/s]\n",
      "  0%|          | 0/500 [00:00<?, ?it/s]"
     ]
    },
    {
     "name": "stdout",
     "output_type": "stream",
     "text": [
      "Average error percentage: 29.8\n",
      "Theoretical error percentage: 23.97500611156682\n",
      "Forming weight matrix...\n",
      "Testing memory recall...\n",
      "Average error percentage: 34.245\n",
      "Theoretical error percentage: 30.898052808211517\n",
      "Forming weight matrix...\n",
      "Testing memory recall...\n"
     ]
    },
    {
     "name": "stderr",
     "output_type": "stream",
     "text": [
      "100%|██████████| 500/500 [00:00<00:00, 1359.71it/s]\n",
      " 15%|█▍        | 146/1000 [00:00<00:00, 1455.30it/s]"
     ]
    },
    {
     "name": "stdout",
     "output_type": "stream",
     "text": [
      "Average error percentage: 39.904\n",
      "Theoretical error percentage: 37.639685899007844\n",
      "Forming weight matrix...\n",
      "Testing memory recall...\n"
     ]
    },
    {
     "name": "stderr",
     "output_type": "stream",
     "text": [
      "100%|██████████| 1000/1000 [00:00<00:00, 1428.36it/s]\n",
      "100%|██████████| 1/1 [00:00<00:00, 369.80it/s]\n",
      "100%|██████████| 2/2 [00:00<00:00, 367.84it/s]\n",
      "100%|██████████| 5/5 [00:00<00:00, 948.08it/s]\n",
      "100%|██████████| 10/10 [00:00<00:00, 918.03it/s]\n",
      "100%|██████████| 20/20 [00:00<00:00, 1342.82it/s]\n",
      "100%|██████████| 50/50 [00:00<00:00, 1174.82it/s]\n",
      "  0%|          | 0/100 [00:00<?, ?it/s]"
     ]
    },
    {
     "name": "stdout",
     "output_type": "stream",
     "text": [
      "Average error percentage: 43.686\n",
      "Theoretical error percentage: 41.19244763735692\n",
      "Forming weight matrix...\n",
      "Testing memory recall...\n",
      "Average error percentage: 0.0\n",
      "Theoretical error percentage: 0.0\n",
      "Forming weight matrix...\n",
      "Testing memory recall...\n",
      "Average error percentage: 0.0\n",
      "Theoretical error percentage: 9.918588689536384e-11\n",
      "Forming weight matrix...\n",
      "Testing memory recall...\n",
      "Average error percentage: 0.0\n",
      "Theoretical error percentage: 0.021756040588239132\n",
      "Forming weight matrix...\n",
      "Testing memory recall...\n",
      "Average error percentage: 10.7\n",
      "Theoretical error percentage: 0.95082368723994\n",
      "Forming weight matrix...\n",
      "Testing memory recall...\n",
      "Average error percentage: 18.9\n",
      "Theoretical error percentage: 5.325473815162926\n",
      "Forming weight matrix...\n",
      "Testing memory recall...\n",
      "Average error percentage: 27.0\n",
      "Theoretical error percentage: 15.742697620578861\n",
      "Forming weight matrix...\n",
      "Testing memory recall...\n"
     ]
    },
    {
     "name": "stderr",
     "output_type": "stream",
     "text": [
      "100%|██████████| 100/100 [00:00<00:00, 1163.90it/s]\n",
      "100%|██████████| 200/200 [00:00<00:00, 1216.57it/s]\n"
     ]
    },
    {
     "name": "stdout",
     "output_type": "stream",
     "text": [
      "Average error percentage: 33.42\n",
      "Theoretical error percentage: 23.97500611156682\n",
      "Forming weight matrix...\n",
      "Testing memory recall...\n",
      "Average error percentage: 38.485\n",
      "Theoretical error percentage: 30.898052808211517\n",
      "Forming weight matrix...\n"
     ]
    },
    {
     "name": "stderr",
     "output_type": "stream",
     "text": [
      " 52%|█████▏    | 259/500 [00:00<00:00, 1240.98it/s]"
     ]
    },
    {
     "name": "stdout",
     "output_type": "stream",
     "text": [
      "Testing memory recall...\n"
     ]
    },
    {
     "name": "stderr",
     "output_type": "stream",
     "text": [
      "100%|██████████| 500/500 [00:00<00:00, 1345.81it/s]\n",
      " 15%|█▍        | 146/1000 [00:00<00:00, 1453.49it/s]"
     ]
    },
    {
     "name": "stdout",
     "output_type": "stream",
     "text": [
      "Average error percentage: 42.272\n",
      "Theoretical error percentage: 37.639685899007844\n",
      "Forming weight matrix...\n",
      "Testing memory recall...\n"
     ]
    },
    {
     "name": "stderr",
     "output_type": "stream",
     "text": [
      "100%|██████████| 1000/1000 [00:00<00:00, 1428.06it/s]\n",
      "100%|██████████| 1/1 [00:00<00:00, 632.15it/s]\n",
      "100%|██████████| 2/2 [00:00<00:00, 601.85it/s]\n",
      "100%|██████████| 5/5 [00:00<00:00, 614.86it/s]\n",
      "100%|██████████| 10/10 [00:00<00:00, 938.87it/s]\n",
      "100%|██████████| 20/20 [00:00<00:00, 960.20it/s]\n",
      "100%|██████████| 50/50 [00:00<00:00, 1007.51it/s]\n",
      "  0%|          | 0/100 [00:00<?, ?it/s]"
     ]
    },
    {
     "name": "stdout",
     "output_type": "stream",
     "text": [
      "Average error percentage: 44.916\n",
      "Theoretical error percentage: 41.19244763735692\n",
      "Forming weight matrix...\n",
      "Testing memory recall...\n",
      "Average error percentage: 0.0\n",
      "Theoretical error percentage: 0.0\n",
      "Forming weight matrix...\n",
      "Testing memory recall...\n",
      "Average error percentage: 69.0\n",
      "Theoretical error percentage: 9.918588689536384e-11\n",
      "Forming weight matrix...\n",
      "Testing memory recall...\n",
      "Average error percentage: 62.4\n",
      "Theoretical error percentage: 0.021756040588239132\n",
      "Forming weight matrix...\n",
      "Testing memory recall...\n",
      "Average error percentage: 50.4\n",
      "Theoretical error percentage: 0.95082368723994\n",
      "Forming weight matrix...\n",
      "Testing memory recall...\n",
      "Average error percentage: 50.4\n",
      "Theoretical error percentage: 5.325473815162926\n",
      "Forming weight matrix...\n",
      "Testing memory recall...\n",
      "Average error percentage: 48.98\n",
      "Theoretical error percentage: 15.742697620578861\n",
      "Forming weight matrix...\n",
      "Testing memory recall...\n"
     ]
    },
    {
     "name": "stderr",
     "output_type": "stream",
     "text": [
      "100%|██████████| 100/100 [00:00<00:00, 1242.36it/s]\n",
      "100%|██████████| 200/200 [00:00<00:00, 1403.29it/s]\n",
      "  0%|          | 0/500 [00:00<?, ?it/s]"
     ]
    },
    {
     "name": "stdout",
     "output_type": "stream",
     "text": [
      "Average error percentage: 50.35\n",
      "Theoretical error percentage: 23.97500611156682\n",
      "Forming weight matrix...\n",
      "Testing memory recall...\n",
      "Average error percentage: 49.78\n",
      "Theoretical error percentage: 30.898052808211517\n",
      "Forming weight matrix...\n",
      "Testing memory recall...\n"
     ]
    },
    {
     "name": "stderr",
     "output_type": "stream",
     "text": [
      "100%|██████████| 500/500 [00:00<00:00, 1386.40it/s]\n",
      " 15%|█▍        | 146/1000 [00:00<00:00, 1458.20it/s]"
     ]
    },
    {
     "name": "stdout",
     "output_type": "stream",
     "text": [
      "Average error percentage: 50.046\n",
      "Theoretical error percentage: 37.639685899007844\n",
      "Forming weight matrix...\n",
      "Testing memory recall...\n"
     ]
    },
    {
     "name": "stderr",
     "output_type": "stream",
     "text": [
      "100%|██████████| 1000/1000 [00:00<00:00, 1417.22it/s]\n",
      "100%|██████████| 1/1 [00:00<00:00, 292.22it/s]\n",
      "100%|██████████| 2/2 [00:00<00:00, 750.26it/s]\n",
      "100%|██████████| 5/5 [00:00<00:00, 968.21it/s]\n",
      "100%|██████████| 10/10 [00:00<00:00, 965.63it/s]\n",
      "100%|██████████| 20/20 [00:00<00:00, 1317.97it/s]\n",
      "100%|██████████| 50/50 [00:00<00:00, 1345.45it/s]\n",
      "100%|██████████| 100/100 [00:00<00:00, 1497.88it/s]"
     ]
    },
    {
     "name": "stdout",
     "output_type": "stream",
     "text": [
      "Average error percentage: 50.058\n",
      "Theoretical error percentage: 41.19244763735692\n",
      "Forming weight matrix...\n",
      "Testing memory recall...\n",
      "Average error percentage: 100.0\n",
      "Theoretical error percentage: 0.0\n",
      "Forming weight matrix...\n",
      "Testing memory recall...\n",
      "Average error percentage: 100.0\n",
      "Theoretical error percentage: 9.918588689536384e-11\n",
      "Forming weight matrix...\n",
      "Testing memory recall...\n",
      "Average error percentage: 96.0\n",
      "Theoretical error percentage: 0.021756040588239132\n",
      "Forming weight matrix...\n",
      "Testing memory recall...\n",
      "Average error percentage: 89.2\n",
      "Theoretical error percentage: 0.95082368723994\n",
      "Forming weight matrix...\n",
      "Testing memory recall...\n",
      "Average error percentage: 83.45\n",
      "Theoretical error percentage: 5.325473815162926\n",
      "Forming weight matrix...\n",
      "Testing memory recall...\n",
      "Average error percentage: 72.12\n",
      "Theoretical error percentage: 15.742697620578861\n",
      "Forming weight matrix...\n",
      "Testing memory recall...\n",
      "Average error percentage: 65.0"
     ]
    },
    {
     "name": "stderr",
     "output_type": "stream",
     "text": [
      "\n",
      "100%|██████████| 200/200 [00:00<00:00, 1410.02it/s]\n",
      "  0%|          | 0/500 [00:00<?, ?it/s]"
     ]
    },
    {
     "name": "stdout",
     "output_type": "stream",
     "text": [
      "\n",
      "Theoretical error percentage: 23.97500611156682\n",
      "Forming weight matrix...\n",
      "Testing memory recall...\n",
      "Average error percentage: 60.685\n",
      "Theoretical error percentage: 30.898052808211517\n",
      "Forming weight matrix...\n",
      "Testing memory recall...\n"
     ]
    },
    {
     "name": "stderr",
     "output_type": "stream",
     "text": [
      "100%|██████████| 500/500 [00:00<00:00, 1258.40it/s]\n",
      " 14%|█▍        | 142/1000 [00:00<00:00, 1413.15it/s]"
     ]
    },
    {
     "name": "stdout",
     "output_type": "stream",
     "text": [
      "Average error percentage: 57.874\n",
      "Theoretical error percentage: 37.639685899007844\n",
      "Forming weight matrix...\n",
      "Testing memory recall...\n"
     ]
    },
    {
     "name": "stderr",
     "output_type": "stream",
     "text": [
      "100%|██████████| 1000/1000 [00:00<00:00, 1326.87it/s]\n",
      "100%|██████████| 1/1 [00:00<00:00, 254.57it/s]\n",
      "100%|██████████| 2/2 [00:00<00:00, 325.73it/s]\n",
      "100%|██████████| 5/5 [00:00<00:00, 713.05it/s]\n",
      "100%|██████████| 10/10 [00:00<00:00, 933.62it/s]\n",
      "100%|██████████| 20/20 [00:00<00:00, 1078.05it/s]\n",
      "100%|██████████| 50/50 [00:00<00:00, 1383.09it/s]\n",
      "100%|██████████| 100/100 [00:00<00:00, 1437.26it/s]\n"
     ]
    },
    {
     "name": "stdout",
     "output_type": "stream",
     "text": [
      "Average error percentage: 55.747\n",
      "Theoretical error percentage: 41.19244763735692\n",
      "Forming weight matrix...\n",
      "Testing memory recall...\n",
      "Average error percentage: 100.0\n",
      "Theoretical error percentage: 0.0\n",
      "Forming weight matrix...\n",
      "Testing memory recall...\n",
      "Average error percentage: 100.0\n",
      "Theoretical error percentage: 9.918588689536384e-11\n",
      "Forming weight matrix...\n",
      "Testing memory recall...\n",
      "Average error percentage: 100.0\n",
      "Theoretical error percentage: 0.021756040588239132\n",
      "Forming weight matrix...\n",
      "Testing memory recall...\n",
      "Average error percentage: 98.2\n",
      "Theoretical error percentage: 0.95082368723994\n",
      "Forming weight matrix...\n",
      "Testing memory recall...\n",
      "Average error percentage: 90.75\n",
      "Theoretical error percentage: 5.325473815162926\n",
      "Forming weight matrix...\n",
      "Testing memory recall...\n",
      "Average error percentage: 81.16\n",
      "Theoretical error percentage: 15.742697620578861\n",
      "Forming weight matrix...\n",
      "Testing memory recall...\n",
      "Average error percentage: 69.99\n",
      "Theoretical error percentage: 23.97500611156682\n"
     ]
    },
    {
     "name": "stderr",
     "output_type": "stream",
     "text": [
      "100%|██████████| 200/200 [00:00<00:00, 1504.46it/s]\n",
      "  0%|          | 0/500 [00:00<?, ?it/s]"
     ]
    },
    {
     "name": "stdout",
     "output_type": "stream",
     "text": [
      "Forming weight matrix...\n",
      "Testing memory recall...\n",
      "Average error percentage: 65.18\n",
      "Theoretical error percentage: 30.898052808211517\n",
      "Forming weight matrix...\n",
      "Testing memory recall...\n"
     ]
    },
    {
     "name": "stderr",
     "output_type": "stream",
     "text": [
      "100%|██████████| 500/500 [00:00<00:00, 1270.97it/s]\n",
      " 13%|█▎        | 132/1000 [00:00<00:00, 1315.21it/s]"
     ]
    },
    {
     "name": "stdout",
     "output_type": "stream",
     "text": [
      "Average error percentage: 59.718\n",
      "Theoretical error percentage: 37.639685899007844\n",
      "Forming weight matrix...\n",
      "Testing memory recall...\n"
     ]
    },
    {
     "name": "stderr",
     "output_type": "stream",
     "text": [
      "100%|██████████| 1000/1000 [00:00<00:00, 1376.37it/s]\n",
      "100%|██████████| 1/1 [00:00<00:00, 477.11it/s]\n",
      "100%|██████████| 2/2 [00:00<00:00, 892.12it/s]\n",
      "100%|██████████| 5/5 [00:00<00:00, 629.57it/s]\n",
      "100%|██████████| 10/10 [00:00<00:00, 1091.70it/s]\n",
      "100%|██████████| 20/20 [00:00<00:00, 1085.78it/s]\n",
      "100%|██████████| 50/50 [00:00<00:00, 1357.92it/s]\n",
      "  0%|          | 0/100 [00:00<?, ?it/s]"
     ]
    },
    {
     "name": "stdout",
     "output_type": "stream",
     "text": [
      "Average error percentage: 56.651\n",
      "Theoretical error percentage: 41.19244763735692\n",
      "Forming weight matrix...\n",
      "Testing memory recall...\n",
      "Average error percentage: 100.0\n",
      "Theoretical error percentage: 0.0\n",
      "Forming weight matrix...\n",
      "Testing memory recall...\n",
      "Average error percentage: 100.0\n",
      "Theoretical error percentage: 9.918588689536384e-11\n",
      "Forming weight matrix...\n",
      "Testing memory recall...\n",
      "Average error percentage: 100.0\n",
      "Theoretical error percentage: 0.021756040588239132\n",
      "Forming weight matrix...\n",
      "Testing memory recall...\n",
      "Average error percentage: 98.7\n",
      "Theoretical error percentage: 0.95082368723994\n",
      "Forming weight matrix...\n",
      "Testing memory recall...\n",
      "Average error percentage: 94.7\n",
      "Theoretical error percentage: 5.325473815162926\n",
      "Forming weight matrix...\n",
      "Testing memory recall...\n",
      "Average error percentage: 84.04\n",
      "Theoretical error percentage: 15.742697620578861\n",
      "Forming weight matrix...\n",
      "Testing memory recall...\n"
     ]
    },
    {
     "name": "stderr",
     "output_type": "stream",
     "text": [
      "100%|██████████| 100/100 [00:00<00:00, 1293.21it/s]\n",
      "100%|██████████| 200/200 [00:00<00:00, 1299.39it/s]\n"
     ]
    },
    {
     "name": "stdout",
     "output_type": "stream",
     "text": [
      "Average error percentage: 77.54\n",
      "Theoretical error percentage: 23.97500611156682\n",
      "Forming weight matrix...\n",
      "Testing memory recall...\n",
      "Average error percentage: 70.025\n",
      "Theoretical error percentage: 30.898052808211517\n",
      "Forming weight matrix...\n"
     ]
    },
    {
     "name": "stderr",
     "output_type": "stream",
     "text": [
      " 29%|██▉       | 145/500 [00:00<00:00, 1444.35it/s]"
     ]
    },
    {
     "name": "stdout",
     "output_type": "stream",
     "text": [
      "Testing memory recall...\n"
     ]
    },
    {
     "name": "stderr",
     "output_type": "stream",
     "text": [
      "100%|██████████| 500/500 [00:00<00:00, 1436.19it/s]\n",
      " 15%|█▍        | 147/1000 [00:00<00:00, 1469.77it/s]"
     ]
    },
    {
     "name": "stdout",
     "output_type": "stream",
     "text": [
      "Average error percentage: 62.174\n",
      "Theoretical error percentage: 37.639685899007844\n",
      "Forming weight matrix...\n",
      "Testing memory recall...\n"
     ]
    },
    {
     "name": "stderr",
     "output_type": "stream",
     "text": [
      "100%|██████████| 1000/1000 [00:00<00:00, 1470.01it/s]"
     ]
    },
    {
     "name": "stdout",
     "output_type": "stream",
     "text": [
      "Average error percentage: 58.172\n",
      "Theoretical error percentage: 41.19244763735692\n"
     ]
    },
    {
     "name": "stderr",
     "output_type": "stream",
     "text": [
      "\n"
     ]
    }
   ],
   "source": [
    "error_vals = np.zeros((10,9,10))\n",
    "for h in range(10):\n",
    "    for i, noise in enumerate([0.01, 0.02, 0.05, 0.1, 0.2, 0.5, 0.8, 0.9, 1.0]):\n",
    "        for j, num in enumerate([1,2,5,10,20,50,100,200,500,1000]):\n",
    "            error_vals[h,i,j], _ = hop.simulate(M=num, k=1, noise_level=noise, error=True)"
   ]
  },
  {
   "cell_type": "code",
   "execution_count": 53,
   "metadata": {},
   "outputs": [
    {
     "data": {
      "image/png": "[encoded data removed]",
      "text/plain": [
       "<Figure size 1440x720 with 1 Axes>"
      ]
     },
     "metadata": {},
     "output_type": "display_data"
    }
   ],
   "source": [
    "plt.figure(figsize=(20,10))\n",
    "cmap = plt.get_cmap('hot')\n",
    "for i in range(9):\n",
    "    color = cmap(float(i)/9)\n",
    "    plt.plot([1,2,5,10,20,50,100,200,500,1000], np.mean(error_vals, axis=0)[i], color=color)\n",
    "plt.ylabel(\"Error prob.\")\n",
    "plt.xlabel(r\"$M$\")\n",
    "plt.xscale('log')\n",
    "plt.legend([0.01, 0.02, 0.05, 0.1, 0.2, 0.5, 0.8, 0.9, 1.0])\n",
    "plt.savefig(f\"error_{i}_1000.png\", bbox_inches=\"tight\", dpi=300)"
   ]
  },
  {
   "cell_type": "code",
   "execution_count": null,
   "metadata": {},
   "outputs": [],
   "source": []
  }
 ],
 "metadata": {
  "kernelspec": {
   "display_name": "Python 3",
   "language": "python",
   "name": "python3"
  },
  "language_info": {
   "codemirror_mode": {
    "name": "ipython",
    "version": 3
   },
   "file_extension": ".py",
   "mimetype": "text/x-python",
   "name": "python",
   "nbconvert_exporter": "python",
   "pygments_lexer": "ipython3",
   "version": "3.6.5"
  }
 },
 "nbformat": 4,
 "nbformat_minor": 4
}
